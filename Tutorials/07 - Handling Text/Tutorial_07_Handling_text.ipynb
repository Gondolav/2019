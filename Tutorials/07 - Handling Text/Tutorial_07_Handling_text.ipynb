{
 "cells": [
  {
   "cell_type": "markdown",
   "metadata": {},
   "source": [
    "# Handling text"
   ]
  },
  {
   "cell_type": "markdown",
   "metadata": {},
   "source": [
    "## In this tutorial, we will go through:\n",
    "1. Implementing the natural language processing pipeline\n",
    "2. Solving three typical language processing tasks:\n",
    "   * Sentiment analysis\n",
    "   * Document classification\n",
    "   * Topic detection\n",
    "   * Semantic analysis\n",
    "\n",
    "\n",
    "### We will be working with four books in plain text:\n",
    "1. Moby-Dick, by Herman Melville\n",
    "2. Frankenstein; or, The Modern Prometheus, by Mary Shelley\n",
    "3. Pride and Prejudice, by Jane Austen\n",
    "4. Dracula, Bram Stoker"
   ]
  },
  {
   "cell_type": "markdown",
   "metadata": {},
   "source": [
    "#### To run the notebook, you need to install the following libraries:\n",
    "\n",
    "conda install nltk gensim spacy <br>\n",
    "pip install pyLDAvis  <br>\n",
    "pip install vaderSentiment  <br>\n",
    "pip install empath <br>\n",
    "python -m spacy download en  <br>\n",
    "python -m nltk.downloader punkt <br>\n",
    "python -m nltk.downloader all-corpora <br>"
   ]
  },
  {
   "cell_type": "markdown",
   "metadata": {},
   "source": [
    "### Imports"
   ]
  },
  {
   "cell_type": "code",
   "execution_count": 1,
   "metadata": {},
   "outputs": [],
   "source": [
    "%load_ext autoreload\n",
    "%autoreload 2\n",
    "\n",
    "import warnings; warnings.simplefilter('ignore')\n",
    "import os, codecs, string, random\n",
    "import numpy as np\n",
    "from numpy.random import seed as random_seed\n",
    "from numpy.random import shuffle as random_shuffle\n",
    "import matplotlib.pyplot as plt\n",
    "%matplotlib inline  \n",
    "\n",
    "seed = 42\n",
    "random.seed(seed)\n",
    "np.random.seed(seed)\n",
    "\n",
    "#NLP libraries\n",
    "import spacy, nltk, gensim, sklearn\n",
    "import pyLDAvis.gensim\n",
    "\n",
    "#Vader\n",
    "import vaderSentiment\n",
    "from vaderSentiment.vaderSentiment import SentimentIntensityAnalyzer\n",
    "\n",
    "#Scikit imports\n",
    "from sklearn.feature_extraction.text import CountVectorizer\n",
    "from sklearn.model_selection import train_test_split\n",
    "from sklearn.model_selection import cross_val_score\n",
    "from sklearn.linear_model import LogisticRegression\n",
    "from sklearn import preprocessing\n",
    "from sklearn.preprocessing import StandardScaler\n",
    "from sklearn.utils import shuffle\n",
    "\n",
    "#The data\n",
    "corpus_root = 'books/'"
   ]
  },
  {
   "cell_type": "markdown",
   "metadata": {},
   "source": [
    "#### In this tutorial we will be working with text in English. The same principles apply, but the methods cannot be applied directly to the text in unknown or other languages. We will be working mainly with the Spacy library."
   ]
  },
  {
   "cell_type": "markdown",
   "metadata": {},
   "source": [
    "Initialize the Spacy analyzer in English"
   ]
  },
  {
   "cell_type": "code",
   "execution_count": 2,
   "metadata": {},
   "outputs": [],
   "source": [
    "nlp = spacy.load('en')"
   ]
  },
  {
   "cell_type": "markdown",
   "metadata": {},
   "source": [
    "Load the books"
   ]
  },
  {
   "cell_type": "code",
   "execution_count": 3,
   "metadata": {},
   "outputs": [
    {
     "name": "stdout",
     "output_type": "stream",
     "text": [
      "Moby_Dick.txt\n",
      "Frankenstein.txt\n",
      "DRACULA.txt\n",
      "PRIDE_AND_PREJUDICE.txt\n"
     ]
    }
   ],
   "source": [
    "books = list()\n",
    "\n",
    "for book_file in os.listdir(corpus_root):\n",
    "    if \".txt\" in book_file:\n",
    "        print(book_file)\n",
    "        with codecs.open(os.path.join(corpus_root,book_file),encoding=\"utf8\") as f:\n",
    "            books.append(f.read())"
   ]
  },
  {
   "cell_type": "markdown",
   "metadata": {},
   "source": [
    "Print the beginning of Pride and Prejudice"
   ]
  },
  {
   "cell_type": "code",
   "execution_count": 4,
   "metadata": {},
   "outputs": [
    {
     "name": "stdout",
     "output_type": "stream",
     "text": [
      "PRIDE AND PREJUDICE\n",
      "\n",
      "By Jane Austen\n",
      "\n",
      "\n",
      "\n",
      "Chapter 1\n",
      "\n",
      "\n",
      "It is a truth universally acknowledged, that a single man in possession\n",
      "of a good fortune, must be in want of a wife.\n",
      "\n",
      "However little known the feelings or views of such a man may be on his\n",
      "first entering a neighbourhood, this truth is so well fixed in the minds\n",
      "of the surrounding families, that he is considered the rightful property\n",
      "of some one or other of their daughters.\n",
      "\n",
      "“My dear Mr. Bennet,” said his lady to him one day, “have you heard that\n",
      "Netherfield Park is let at last?”\n",
      "\n",
      "Mr. Bennet replied that he had not.\n",
      "\n",
      "“But it is,” returned she;\n"
     ]
    }
   ],
   "source": [
    "print(books[3][0:600])"
   ]
  },
  {
   "cell_type": "markdown",
   "metadata": {},
   "source": [
    "#### Let's remove the new lines"
   ]
  },
  {
   "cell_type": "code",
   "execution_count": 5,
   "metadata": {},
   "outputs": [],
   "source": [
    "books = [\" \".join(b.split()) for b in books]"
   ]
  },
  {
   "cell_type": "code",
   "execution_count": 6,
   "metadata": {},
   "outputs": [
    {
     "name": "stdout",
     "output_type": "stream",
     "text": [
      "PRIDE AND PREJUDICE By Jane Austen Chapter 1 It is a truth universally acknowledged, that a single man in possession of a good fortune, must be in want of a wife. However little known the feelings or views of such a man may be on his first entering a neighbourhood, this truth is so well fixed in the minds of the surrounding families, that he is considered the rightful property of some one or other of their daughters. “My dear Mr. Bennet,” said his lady to him one day, “have you heard that Netherfield Park is let at last?” Mr. Bennet replied that he had not. “But it is,” returned she; “for Mrs.\n"
     ]
    }
   ],
   "source": [
    "print(books[3][0:600])"
   ]
  },
  {
   "cell_type": "markdown",
   "metadata": {},
   "source": [
    "### Load Frankenstein"
   ]
  },
  {
   "cell_type": "code",
   "execution_count": 7,
   "metadata": {},
   "outputs": [],
   "source": [
    "#index all books\n",
    "book = books[1]\n",
    "\n",
    "#put in raw text, get a Spacy object\n",
    "doc = nlp(book)"
   ]
  },
  {
   "cell_type": "markdown",
   "metadata": {},
   "source": [
    "## Let's create our own NLP pipeline with Spacy!"
   ]
  },
  {
   "cell_type": "markdown",
   "metadata": {},
   "source": [
    "### Step 1: Sentence splitting\n",
    "\n",
    "#### May sound trivial, but it's not! (e.g., U.K. or Yahoo!) Spacy uses a statistical model to generate accurate predictions. This works well out of the box for general-purpose text or web text. For social media use dedicated libraries."
   ]
  },
  {
   "cell_type": "code",
   "execution_count": 8,
   "metadata": {},
   "outputs": [
    {
     "name": "stdout",
     "output_type": "stream",
     "text": [
      "Sentence 1: Frankenstein, or the Modern Prometheus by Mary Wollstonecraft (Godwin) Shelley Letter 1 St. Petersburgh, Dec. 11th, \n",
      "\n",
      "Sentence 2: 17-- TO Mrs. Saville, England You will rejoice to hear that no disaster has accompanied the commencement of an enterprise which you have regarded with such evil forebodings. \n",
      "\n",
      "Sentence 3: I arrived here yesterday, and my first task is to assure my dear sister of my welfare and increasing confidence in the success of my undertaking. \n",
      "\n"
     ]
    }
   ],
   "source": [
    "sentences = [sent for sent in doc.sents]\n",
    "print('Sentence 1:',sentences[0],'\\n')\n",
    "print('Sentence 2:',sentences[1],'\\n')\n",
    "print('Sentence 3:',sentences[2],'\\n')"
   ]
  },
  {
   "cell_type": "markdown",
   "metadata": {},
   "source": [
    "### Step 2: Tokenization\n",
    "\n",
    "#### The task of splitting a text into meaningful segments called tokens. We segment the sentence into words, punctuation, etc. This is done by first splitting on whitespace characters and them applying rules specific to each language. For example, \"don't\" does not contain whitespace, but should be split into two tokens, \"do\" and \"n't\", while \"U.K.\" should always remain one token and \"but,\" shouldn't."
   ]
  },
  {
   "cell_type": "markdown",
   "metadata": {},
   "source": [
    "### We will analyze the methods on an example sentence first"
   ]
  },
  {
   "cell_type": "code",
   "execution_count": 9,
   "metadata": {},
   "outputs": [
    {
     "name": "stdout",
     "output_type": "stream",
     "text": [
      "I am already far north of London, and as I walk in the streets of Petersburgh, I feel a cold northern breeze play upon my cheeks, which braces my nerves and fills me with delight. \n",
      "\n",
      "['I', 'am', 'already', 'far', 'north', 'of', 'London', ',', 'and', 'as', 'I', 'walk', 'in', 'the', 'streets', 'of', 'Petersburgh', ',', 'I', 'feel', 'a', 'cold', 'northern', 'breeze', 'play', 'upon', 'my', 'cheeks', ',', 'which', 'braces', 'my', 'nerves', 'and', 'fills', 'me', 'with', 'delight', '.']\n"
     ]
    }
   ],
   "source": [
    "example = 'I am already far north of London, and as I walk in the streets of Petersburgh, I feel a cold northern breeze play upon my cheeks, which braces my nerves and fills me with delight.'\n",
    "\n",
    "doc = nlp(example)\n",
    "\n",
    "#strings are encoded to hashes\n",
    "tokens = [token.text for token in doc]\n",
    "\n",
    "print(example,'\\n')\n",
    "print(tokens)"
   ]
  },
  {
   "cell_type": "markdown",
   "metadata": {},
   "source": [
    "### Step 3: Part of speech tagging\n",
    "\n",
    "#### The model makes a prediction of which tag or label most likely applies in this context. For example, a word following \"the\" in English is most likely a noun."
   ]
  },
  {
   "cell_type": "code",
   "execution_count": 10,
   "metadata": {},
   "outputs": [
    {
     "name": "stdout",
     "output_type": "stream",
     "text": [
      "I am already far north of London, and as I walk in the streets of Petersburgh, I feel a cold northern breeze play upon my cheeks, which braces my nerves and fills me with delight. \n",
      "\n",
      "[('I', 'PRON'), ('am', 'VERB'), ('already', 'ADV'), ('far', 'ADV'), ('north', 'ADV'), ('of', 'ADP'), ('London', 'PROPN'), (',', 'PUNCT'), ('and', 'CCONJ'), ('as', 'ADP'), ('I', 'PRON'), ('walk', 'VERB'), ('in', 'ADP'), ('the', 'DET'), ('streets', 'NOUN'), ('of', 'ADP'), ('Petersburgh', 'PROPN'), (',', 'PUNCT'), ('I', 'PRON'), ('feel', 'VERB'), ('a', 'DET'), ('cold', 'ADJ'), ('northern', 'ADJ'), ('breeze', 'NOUN'), ('play', 'NOUN'), ('upon', 'ADP'), ('my', 'ADJ'), ('cheeks', 'NOUN'), (',', 'PUNCT'), ('which', 'ADJ'), ('braces', 'VERB'), ('my', 'ADJ'), ('nerves', 'NOUN'), ('and', 'CCONJ'), ('fills', 'VERB'), ('me', 'PRON'), ('with', 'ADP'), ('delight', 'NOUN'), ('.', 'PUNCT')]\n"
     ]
    }
   ],
   "source": [
    "pos_tagged = [(token.text, token.pos_) for token in doc]\n",
    "\n",
    "print(example,'\\n')\n",
    "print(pos_tagged)"
   ]
  },
  {
   "cell_type": "code",
   "execution_count": 11,
   "metadata": {},
   "outputs": [
    {
     "name": "stdout",
     "output_type": "stream",
     "text": [
      "coordinating conjunction\n",
      "adposition\n",
      "determiner\n"
     ]
    }
   ],
   "source": [
    "print(spacy.explain('CCONJ'))\n",
    "print(spacy.explain('ADP'))\n",
    "print(spacy.explain('DET'))"
   ]
  },
  {
   "cell_type": "markdown",
   "metadata": {},
   "source": [
    "### When unsure, see here for more details: http://universaldependencies.org/u/pos/all.html"
   ]
  },
  {
   "cell_type": "markdown",
   "metadata": {},
   "source": [
    "#### More detailed annotation:"
   ]
  },
  {
   "cell_type": "code",
   "execution_count": 12,
   "metadata": {},
   "outputs": [
    {
     "name": "stdout",
     "output_type": "stream",
     "text": [
      "[('I', 'PRP'), ('am', 'VBP'), ('already', 'RB'), ('far', 'RB'), ('north', 'RB'), ('of', 'IN'), ('London', 'NNP'), (',', ','), ('and', 'CC'), ('as', 'IN'), ('I', 'PRP'), ('walk', 'VBP'), ('in', 'IN'), ('the', 'DT'), ('streets', 'NNS'), ('of', 'IN'), ('Petersburgh', 'NNP'), (',', ','), ('I', 'PRP'), ('feel', 'VBP'), ('a', 'DT'), ('cold', 'JJ'), ('northern', 'JJ'), ('breeze', 'NN'), ('play', 'NN'), ('upon', 'IN'), ('my', 'PRP$'), ('cheeks', 'NNS'), (',', ','), ('which', 'WDT'), ('braces', 'VBZ'), ('my', 'PRP$'), ('nerves', 'NNS'), ('and', 'CC'), ('fills', 'VBZ'), ('me', 'PRP'), ('with', 'IN'), ('delight', 'NN'), ('.', '.')]\n"
     ]
    }
   ],
   "source": [
    "pos_tagged = [(token.text, token.tag_) for token in doc]\n",
    "\n",
    "print(pos_tagged)"
   ]
  },
  {
   "cell_type": "code",
   "execution_count": 13,
   "metadata": {},
   "outputs": [
    {
     "name": "stdout",
     "output_type": "stream",
     "text": [
      "pronoun, personal\n",
      "verb, non-3rd person singular present\n"
     ]
    }
   ],
   "source": [
    "print(spacy.explain('PRP'))\n",
    "print(spacy.explain('VBP'))"
   ]
  },
  {
   "cell_type": "markdown",
   "metadata": {},
   "source": [
    "### Step 4: Named entity recognition\n",
    "\n",
    "#### For example, a person, a country, a product or a book title. Spacy can recognise various types of named entities in a document. This doesn't always work perfectly and might need some tuning later, depending on your use case.\n",
    "\n",
    "Built in entity types: <br>\n",
    "\n",
    "PERSON  People, including fictional.  <br>\n",
    "NORP\tNationalities or religious or political groups. <br>\n",
    "FAC\tBuildings, airports, highways, bridges, etc. <br>\n",
    "ORG\tCompanies, agencies, institutions, etc. <br>\n",
    "GPE\tCountries, cities, states. <br>\n",
    "LOC\tNon-GPE locations, mountain ranges, bodies of water. <br>\n",
    "PRODUCT\tObjects, vehicles, foods, etc. (Not services.) <br>\n",
    "EVENT\tNamed hurricanes, battles, wars, sports events, etc. <br>\n",
    "WORK_OF_ART\tTitles of books, songs, etc. <br>\n",
    "LAW\tNamed documents made into laws. <br>\n",
    "LANGUAGE\tAny named language. <br>\n",
    "DATE\tAbsolute or relative dates or periods. <br>\n",
    "TIME\tTimes smaller than a day. <br>\n",
    "PERCENT\tPercentage, including \"%\". <br>\n",
    "MONEY\tMonetary values, including unit. <br>\n",
    "QUANTITY\tMeasurements, as of weight or distance. <br>\n",
    "ORDINAL\t\"first\", \"second\", etc. <br>\n",
    "CARDINAL\tNumerals that do not fall under another type. <br>"
   ]
  },
  {
   "cell_type": "code",
   "execution_count": 14,
   "metadata": {},
   "outputs": [
    {
     "name": "stdout",
     "output_type": "stream",
     "text": [
      "I am already far north of London, and as I walk in the streets of Petersburgh, I feel a cold northern breeze play upon my cheeks, which braces my nerves and fills me with delight. \n",
      "\n",
      "London GPE\n",
      "Petersburgh GPE\n"
     ]
    }
   ],
   "source": [
    "print(example,'\\n')\n",
    "for ent in doc.ents:\n",
    "    print(ent.text, ent.label_)"
   ]
  },
  {
   "cell_type": "markdown",
   "metadata": {},
   "source": [
    "### Step 5: Removing stop words"
   ]
  },
  {
   "cell_type": "markdown",
   "metadata": {},
   "source": [
    "Let's check out all the stopwords:"
   ]
  },
  {
   "cell_type": "code",
   "execution_count": 15,
   "metadata": {},
   "outputs": [
    {
     "name": "stdout",
     "output_type": "stream",
     "text": [
      "Number of stop words: 305\n",
      "First ten stop words: ['and', 'everywhere', 'have', 'sixty', 'sometimes', 'well', 'whoever', 'empty', 'if', 'you']\n"
     ]
    }
   ],
   "source": [
    "spacy_stopwords = spacy.lang.en.stop_words.STOP_WORDS\n",
    "print('Number of stop words: %d' % len(spacy_stopwords))\n",
    "print('First ten stop words:',list(spacy_stopwords)[:10])"
   ]
  },
  {
   "cell_type": "markdown",
   "metadata": {},
   "source": [
    "Detecting stopwords in the example:"
   ]
  },
  {
   "cell_type": "code",
   "execution_count": 16,
   "metadata": {},
   "outputs": [
    {
     "name": "stdout",
     "output_type": "stream",
     "text": [
      "I am already far north of London, and as I walk in the streets of Petersburgh, I feel a cold northern breeze play upon my cheeks, which braces my nerves and fills me with delight. \n",
      "\n",
      "['am', 'already', 'of', 'and', 'as', 'in', 'the', 'of', 'a', 'upon', 'my', 'which', 'my', 'and', 'me', 'with']\n"
     ]
    }
   ],
   "source": [
    "print(example,'\\n')\n",
    "\n",
    "stop_words = [token.text for token in doc if token.is_stop]\n",
    "\n",
    "print(stop_words)"
   ]
  },
  {
   "cell_type": "markdown",
   "metadata": {},
   "source": [
    "#### Sometimes it's useful to define a custom list of stopwords. Other solutions: https://www.ranks.nl/stopwords \n"
   ]
  },
  {
   "cell_type": "markdown",
   "metadata": {},
   "source": [
    "### Step 6: Lemmatization\n",
    "\n",
    "#### A rule-based deterministic lemmatizer maps the surface form of a token to a lemma."
   ]
  },
  {
   "cell_type": "code",
   "execution_count": 17,
   "metadata": {},
   "outputs": [
    {
     "name": "stdout",
     "output_type": "stream",
     "text": [
      "I am already far north of London, and as I walk in the streets of Petersburgh, I feel a cold northern breeze play upon my cheeks, which braces my nerves and fills me with delight. \n",
      "\n",
      "I ---> -PRON-\n",
      "am ---> be\n",
      "London ---> london\n",
      "I ---> -PRON-\n",
      "streets ---> street\n",
      "Petersburgh ---> petersburgh\n",
      "I ---> -PRON-\n",
      "my ---> -PRON-\n",
      "cheeks ---> cheek\n",
      "braces ---> brace\n",
      "my ---> -PRON-\n",
      "nerves ---> nerve\n",
      "fills ---> fill\n",
      "me ---> -PRON-\n"
     ]
    }
   ],
   "source": [
    "print(example,'\\n')\n",
    "for token in doc:\n",
    "    if token.text != token.lemma_:\n",
    "        print(token.text,'--->',token.lemma_)"
   ]
  },
  {
   "cell_type": "markdown",
   "metadata": {},
   "source": [
    "### Step 7: Chunking (shallow parsing)\n",
    "\n",
    "#### Noun chunks are \"base noun phrases\" – flat phrases that have a noun as their head -- a noun plus the words describing the noun – for example, \"the lavish green grass\" or \"the world’s largest tech fund\". "
   ]
  },
  {
   "cell_type": "code",
   "execution_count": 18,
   "metadata": {},
   "outputs": [
    {
     "name": "stdout",
     "output_type": "stream",
     "text": [
      "I am already far north of London, and as I walk in the streets of Petersburgh, I feel a cold northern breeze play upon my cheeks, which braces my nerves and fills me with delight. \n",
      "\n",
      "I\n",
      "London\n",
      "I\n",
      "the streets\n",
      "Petersburgh\n",
      "I\n",
      "a cold northern breeze play\n",
      "my cheeks\n",
      "my nerves\n",
      "me\n",
      "delight\n"
     ]
    }
   ],
   "source": [
    "print(example,'\\n')\n",
    "\n",
    "for chunk in doc.noun_chunks:\n",
    "    print(chunk.text)"
   ]
  },
  {
   "cell_type": "markdown",
   "metadata": {},
   "source": [
    "### Step 8: Dependancy parsing\n",
    "\n",
    "#### The terms head and child describe the words connected by an arc in the dependency tree. The type of syntactic relation that connects the child to the head can be obtain through .dep_."
   ]
  },
  {
   "cell_type": "code",
   "execution_count": 19,
   "metadata": {},
   "outputs": [
    {
     "name": "stdout",
     "output_type": "stream",
     "text": [
      "I am already far north of London, and as I walk in the streets of Petersburgh, I feel a cold northern breeze play upon my cheeks, which braces my nerves and fills me with delight. \n",
      "\n",
      "Token: I Head: am Children: []\n",
      "Token: am Head: am Children: [I, already, north, ,, and, feel]\n",
      "Token: already Head: am Children: []\n",
      "Token: far Head: north Children: []\n",
      "Token: north Head: am Children: [far, of]\n",
      "Token: of Head: north Children: [London]\n",
      "Token: London Head: of Children: []\n",
      "Token: , Head: am Children: []\n",
      "Token: and Head: am Children: []\n",
      "Token: as Head: walk Children: []\n",
      "Token: I Head: walk Children: []\n",
      "Token: walk Head: feel Children: [as, I, in]\n",
      "Token: in Head: walk Children: [streets]\n",
      "Token: the Head: streets Children: []\n",
      "Token: streets Head: in Children: [the, of]\n",
      "Token: of Head: streets Children: [Petersburgh]\n",
      "Token: Petersburgh Head: of Children: []\n",
      "Token: , Head: feel Children: []\n",
      "Token: I Head: feel Children: []\n",
      "Token: feel Head: am Children: [walk, ,, I, play, .]\n",
      "Token: a Head: play Children: []\n",
      "Token: cold Head: play Children: []\n",
      "Token: northern Head: breeze Children: []\n",
      "Token: breeze Head: play Children: [northern]\n",
      "Token: play Head: feel Children: [a, cold, breeze, upon]\n",
      "Token: upon Head: play Children: [cheeks]\n",
      "Token: my Head: cheeks Children: []\n",
      "Token: cheeks Head: upon Children: [my, ,, braces]\n",
      "Token: , Head: cheeks Children: []\n",
      "Token: which Head: braces Children: []\n",
      "Token: braces Head: cheeks Children: [which, nerves, and, fills]\n",
      "Token: my Head: nerves Children: []\n",
      "Token: nerves Head: braces Children: [my]\n",
      "Token: and Head: braces Children: []\n",
      "Token: fills Head: braces Children: [me, with]\n",
      "Token: me Head: fills Children: []\n",
      "Token: with Head: fills Children: [delight]\n",
      "Token: delight Head: with Children: []\n",
      "Token: . Head: feel Children: []\n"
     ]
    }
   ],
   "source": [
    "print(example,'\\n')\n",
    "\n",
    "for token in doc:\n",
    "    print('Token:',token.text,'Head:',token.head.text, 'Children:',[child for child in token.children])"
   ]
  },
  {
   "cell_type": "markdown",
   "metadata": {},
   "source": [
    "### Counting word occurences"
   ]
  },
  {
   "cell_type": "code",
   "execution_count": 20,
   "metadata": {},
   "outputs": [
    {
     "name": "stdout",
     "output_type": "stream",
     "text": [
      "I am already far north of London, and as I walk in the streets of Petersburgh, I feel a cold northern breeze play upon my cheeks, which braces my nerves and fills me with delight. \n",
      "\n",
      "[('I', 3), (',', 3), ('of', 2), ('and', 2), ('my', 2), ('am', 1), ('already', 1), ('far', 1), ('north', 1), ('London', 1), ('as', 1), ('walk', 1), ('in', 1), ('the', 1), ('streets', 1), ('Petersburgh', 1), ('feel', 1), ('a', 1), ('cold', 1), ('northern', 1), ('breeze', 1), ('play', 1), ('upon', 1), ('cheeks', 1), ('which', 1), ('braces', 1), ('nerves', 1), ('fills', 1), ('me', 1), ('with', 1), ('delight', 1), ('.', 1)]\n"
     ]
    }
   ],
   "source": [
    "from collections import Counter\n",
    "\n",
    "print(example,'\\n')\n",
    "words = [token.text for token in doc]\n",
    "\n",
    "# five most common tokens\n",
    "word_freq = Counter(words)\n",
    "common_words = word_freq.most_common()\n",
    "\n",
    "print(common_words)"
   ]
  },
  {
   "cell_type": "markdown",
   "metadata": {},
   "source": [
    "### Without stop words and punctuation"
   ]
  },
  {
   "cell_type": "code",
   "execution_count": 21,
   "metadata": {},
   "outputs": [
    {
     "name": "stdout",
     "output_type": "stream",
     "text": [
      "[('I', 3), ('far', 1), ('north', 1), ('London', 1), ('walk', 1), ('streets', 1), ('Petersburgh', 1), ('feel', 1), ('cold', 1), ('northern', 1), ('breeze', 1), ('play', 1), ('cheeks', 1), ('braces', 1), ('nerves', 1), ('fills', 1), ('delight', 1)]\n"
     ]
    }
   ],
   "source": [
    "words = [token.text for token in doc if token.is_stop != True and token.is_punct != True]\n",
    "\n",
    "# five most common tokens\n",
    "word_freq = Counter(words)\n",
    "common_words = word_freq.most_common()\n",
    "\n",
    "print(common_words)"
   ]
  },
  {
   "cell_type": "markdown",
   "metadata": {
    "collapsed": true
   },
   "source": [
    "## Putting all the components together"
   ]
  },
  {
   "cell_type": "markdown",
   "metadata": {},
   "source": [
    "### Under the hood: the pipeline [\"tokenizer\",\"tagger\", \"parser\", \"ner\"]."
   ]
  },
  {
   "cell_type": "markdown",
   "metadata": {},
   "source": [
    "#### The NLP pipeline with Spacy\n",
    "<img src=\"spacy.png\">"
   ]
  },
  {
   "cell_type": "code",
   "execution_count": 22,
   "metadata": {},
   "outputs": [],
   "source": [
    "nlp = spacy.load('en')"
   ]
  },
  {
   "cell_type": "markdown",
   "metadata": {},
   "source": [
    "### If you don't need a particular component of the pipeline – for example, the tagger or the parser, you can disable loading it. This can sometimes make a big difference and improve loading speed. "
   ]
  },
  {
   "cell_type": "code",
   "execution_count": 23,
   "metadata": {},
   "outputs": [
    {
     "data": {
      "text/plain": [
       "('tagger', <spacy.pipeline.Tagger at 0x107d6c860>)"
      ]
     },
     "execution_count": 23,
     "metadata": {},
     "output_type": "execute_result"
    }
   ],
   "source": [
    "nlp.remove_pipe('parser')\n",
    "nlp.remove_pipe('tagger')"
   ]
  },
  {
   "cell_type": "markdown",
   "metadata": {
    "collapsed": true
   },
   "source": [
    "# Task 1: Seniment analysis"
   ]
  },
  {
   "cell_type": "markdown",
   "metadata": {
    "collapsed": true
   },
   "source": [
    "### Initialize the analyzer. Typically used for data from social media (short sentences)."
   ]
  },
  {
   "cell_type": "code",
   "execution_count": 24,
   "metadata": {},
   "outputs": [],
   "source": [
    "analyzer = SentimentIntensityAnalyzer()\n",
    "vs = analyzer.polarity_scores(example)"
   ]
  },
  {
   "cell_type": "markdown",
   "metadata": {},
   "source": [
    "### The sentiment score consits of four values. Neutral, positive and negative sum to one. The final score is obtained by thresholding the compound value (e.g. +/-0.05)."
   ]
  },
  {
   "cell_type": "code",
   "execution_count": 25,
   "metadata": {},
   "outputs": [
    {
     "name": "stdout",
     "output_type": "stream",
     "text": [
      "I am already far north of London, and as I walk in the streets of Petersburgh, I feel a cold northern breeze play upon my cheeks, which braces my nerves and fills me with delight. \n",
      "\n",
      "Negative sentiment: 0.039\n",
      "Neutral sentiment: 0.784\n",
      "Positive sentiment: 0.176\n",
      "Compound sentiment: 0.7096\n"
     ]
    }
   ],
   "source": [
    "print(example, '\\n')\n",
    "print('Negative sentiment:',vs['neg'])\n",
    "print('Neutral sentiment:',vs['neu'])\n",
    "print('Positive sentiment:',vs['pos'])\n",
    "print('Compound sentiment:',vs['compound'])"
   ]
  },
  {
   "cell_type": "markdown",
   "metadata": {},
   "source": [
    "### We can now observe the distributions of sentiment across all sentences in the book Pride and Prejudice:"
   ]
  },
  {
   "cell_type": "code",
   "execution_count": 26,
   "metadata": {},
   "outputs": [],
   "source": [
    "nlp = spacy.load('en')\n",
    "doc = nlp(books[3])"
   ]
  },
  {
   "cell_type": "code",
   "execution_count": 27,
   "metadata": {},
   "outputs": [
    {
     "data": {
      "text/plain": [
       "Text(0, 0.5, 'Number of sentences')"
      ]
     },
     "execution_count": 27,
     "metadata": {},
     "output_type": "execute_result"
    },
    {
     "data": {
      "image/png": "[encoded data removed]",
      "text/plain": [
       "<Figure size 432x288 with 1 Axes>"
      ]
     },
     "metadata": {
      "needs_background": "light"
     },
     "output_type": "display_data"
    }
   ],
   "source": [
    "positive_sent = []\n",
    "#iterate through the sentences, get polarity scores, choose a value\n",
    "[positive_sent.append(analyzer.polarity_scores(sent.text)['pos']) for sent in doc.sents]\n",
    "plt.hist(positive_sent,bins=15)\n",
    "plt.xlim([0,1])\n",
    "plt.ylim([0,8000])\n",
    "plt.xlabel('Positive sentiment')\n",
    "plt.ylabel('Number of sentences')"
   ]
  },
  {
   "cell_type": "code",
   "execution_count": 28,
   "metadata": {},
   "outputs": [
    {
     "data": {
      "text/plain": [
       "Text(0, 0.5, 'Number of sentences')"
      ]
     },
     "execution_count": 28,
     "metadata": {},
     "output_type": "execute_result"
    },
    {
     "data": {
      "image/png": "[encoded data removed]",
      "text/plain": [
       "<Figure size 432x288 with 1 Axes>"
      ]
     },
     "metadata": {
      "needs_background": "light"
     },
     "output_type": "display_data"
    }
   ],
   "source": [
    "negative_sent = []\n",
    "[negative_sent.append(analyzer.polarity_scores(sent.text)['neg']) for sent in doc.sents]\n",
    "plt.hist(negative_sent,bins=15)\n",
    "plt.xlim([0,1])\n",
    "plt.ylim([0,8000])\n",
    "plt.xlabel('Negative sentiment')\n",
    "plt.ylabel('Number of sentences')"
   ]
  },
  {
   "cell_type": "code",
   "execution_count": 29,
   "metadata": {},
   "outputs": [
    {
     "data": {
      "text/plain": [
       "Text(0, 0.5, 'Number of sentences')"
      ]
     },
     "execution_count": 29,
     "metadata": {},
     "output_type": "execute_result"
    },
    {
     "data": {
      "image/png": "[encoded data removed]",
      "text/plain": [
       "<Figure size 432x288 with 1 Axes>"
      ]
     },
     "metadata": {
      "needs_background": "light"
     },
     "output_type": "display_data"
    }
   ],
   "source": [
    "total_sent = []\n",
    "[total_sent.append(analyzer.polarity_scores(sent.text)['compound']) for sent in doc.sents]\n",
    "plt.hist(total_sent,bins = 15)\n",
    "plt.xlim([-1,1])\n",
    "plt.ylim([0,8000])\n",
    "plt.xlabel('Compound sentiment')\n",
    "plt.ylabel('Number of sentences')"
   ]
  },
  {
   "cell_type": "code",
   "execution_count": 30,
   "metadata": {},
   "outputs": [
    {
     "name": "stdout",
     "output_type": "stream",
     "text": [
      "Number of positive sentences: 2923\n",
      "Number of negative sentences: 1462\n",
      "Number of neutral sentences: 4546\n"
     ]
    }
   ],
   "source": [
    "sents = [analyzer.polarity_scores(sent.text)['compound'] for sent in doc.sents]\n",
    "print('Number of positive sentences:',sum(np.array(sents)>=0.05))\n",
    "print('Number of negative sentences:',sum(np.array(sents)<=-0.05))\n",
    "print('Number of neutral sentences:',sum(np.abs(np.array(sents))<0.05))"
   ]
  },
  {
   "cell_type": "markdown",
   "metadata": {
    "collapsed": true
   },
   "source": [
    "#### Most of the sentences are quite neutral in sentiment. This is not the case when working with data from other sources (e.g., in social media opinions are strong and polarized (bimodal distribution))."
   ]
  },
  {
   "cell_type": "markdown",
   "metadata": {
    "collapsed": true
   },
   "source": [
    "# Task 2: Document classification: Can we detect paragraphs from Frankenstein?"
   ]
  },
  {
   "cell_type": "code",
   "execution_count": 31,
   "metadata": {},
   "outputs": [
    {
     "name": "stdout",
     "output_type": "stream",
     "text": [
      "['DRACULA.txt', 'Frankenstein.txt', 'Moby_Dick.txt', 'PRIDE_AND_PREJUDICE.txt']\n"
     ]
    }
   ],
   "source": [
    "# Let's load our corpus via NLTK this time\n",
    "from nltk.corpus import PlaintextCorpusReader\n",
    "?PlaintextCorpusReader\n",
    "our_books = PlaintextCorpusReader(corpus_root, '.*.txt')\n",
    "print(our_books.fileids())"
   ]
  },
  {
   "cell_type": "markdown",
   "metadata": {},
   "source": [
    "### We will segment the books into equally long chunks"
   ]
  },
  {
   "cell_type": "code",
   "execution_count": 32,
   "metadata": {},
   "outputs": [
    {
     "name": "stdout",
     "output_type": "stream",
     "text": [
      "DRACULA.txt :\n",
      "Number of sentences: 9303\n",
      "Number of chunks: 187 \n",
      "\n",
      "Frankenstein.txt :\n",
      "Number of sentences: 3378\n",
      "Number of chunks: 68 \n",
      "\n",
      "Moby_Dick.txt :\n",
      "Number of sentences: 9609\n",
      "Number of chunks: 193 \n",
      "\n",
      "PRIDE_AND_PREJUDICE.txt :\n",
      "Number of sentences: 6055\n",
      "Number of chunks: 122 \n",
      "\n"
     ]
    }
   ],
   "source": [
    "def get_chunks(l, n):\n",
    "    \"\"\"Yield successive n-sized chunks from l.\"\"\"\n",
    "    for i in range(0, len(l), n):\n",
    "        yield l[i:i + n]\n",
    "\n",
    "\n",
    "# Get the data\n",
    "book_id = {f:n for n,f in enumerate(our_books.fileids())} # dictionary of books\n",
    "\n",
    "chunks = list()\n",
    "chunk_class = list() # this list contains the original book of the chunk, for evaluation\n",
    "\n",
    "limit = 500 # how many chunks total\n",
    "size = 50 # how many sentences per chunk/page\n",
    "\n",
    "for f in our_books.fileids():\n",
    "    sentences = our_books.sents(f)\n",
    "    print(f,\":\")\n",
    "    print('Number of sentences:',len(sentences))\n",
    "    \n",
    "    # create chunks\n",
    "    chunks_of_sents = [x for x in get_chunks(sentences,size)] # this is a list of lists of sentences, which are a list of tokens\n",
    "    chs = list()\n",
    "    \n",
    "    # regroup so to have a list of chunks which are strings\n",
    "    for c in chunks_of_sents:\n",
    "        grouped_chunk = list()\n",
    "        for s in c:\n",
    "            grouped_chunk.extend(s)\n",
    "        chs.append(\" \".join(grouped_chunk))\n",
    "    print(\"Number of chunks:\",len(chs),'\\n')\n",
    "    \n",
    "    # filter to the limit, to have the same number of chunks per book\n",
    "    chunks.extend(chs[:limit])\n",
    "    chunk_class.extend([book_id[f] for _ in range(len(chs[:limit]))])"
   ]
  },
  {
   "cell_type": "markdown",
   "metadata": {},
   "source": [
    "### Representing the chunks with bag-of-words"
   ]
  },
  {
   "cell_type": "code",
   "execution_count": 33,
   "metadata": {},
   "outputs": [
    {
     "name": "stdout",
     "output_type": "stream",
     "text": [
      "Number of samples: 570\n",
      "Number of features: 23116\n"
     ]
    }
   ],
   "source": [
    "vectorizer = CountVectorizer()\n",
    "\n",
    "#initialize and specify minumum number of occurences to avoid untractable number of features\n",
    "#vectorizer = CountVectorizer(min_df = 2) if we want high frequency\n",
    "\n",
    "#create bag of words features\n",
    "X = vectorizer.fit_transform(chunks)\n",
    "\n",
    "print('Number of samples:',X.toarray().shape[0])\n",
    "print('Number of features:',X.toarray().shape[1])\n",
    "\n",
    "#mask and convert to int Frankenstein\n",
    "Y = np.array(chunk_class) == 1\n",
    "Y = Y.astype(int)  \n",
    "\n",
    "#shuffle the data\n",
    "X, Y = shuffle(X, Y, random_state=0)\n",
    "\n",
    "#split into training and test set\n",
    "X_train, X_test, Y_train, Y_test = train_test_split(X, Y, test_size=0.2, random_state=42)"
   ]
  },
  {
   "cell_type": "markdown",
   "metadata": {},
   "source": [
    "### Let's fit the regularized logistic regression. We will crossvalidate the regularization parameter on the training set."
   ]
  },
  {
   "cell_type": "code",
   "execution_count": 34,
   "metadata": {},
   "outputs": [],
   "source": [
    "accs = []\n",
    "\n",
    "#the grid of regularization parameter \n",
    "grid = [0.01,0.1,1,10,100,1000,10000]\n",
    "\n",
    "for c in grid:\n",
    "    \n",
    "    #initialize the classifier\n",
    "    clf = LogisticRegression(random_state=0, solver='lbfgs',C = c)\n",
    "    \n",
    "    #crossvalidate\n",
    "    scores = cross_val_score(clf, X_train,Y_train, cv=10)\n",
    "    accs.append(np.mean(scores))"
   ]
  },
  {
   "cell_type": "code",
   "execution_count": 35,
   "metadata": {},
   "outputs": [
    {
     "data": {
      "text/plain": [
       "(0.986, 1)"
      ]
     },
     "execution_count": 35,
     "metadata": {},
     "output_type": "execute_result"
    },
    {
     "data": {
      "image/png": "[encoded data removed]",
      "text/plain": [
       "<Figure size 432x288 with 1 Axes>"
      ]
     },
     "metadata": {
      "needs_background": "light"
     },
     "output_type": "display_data"
    }
   ],
   "source": [
    "plt.plot(accs)\n",
    "plt.xticks(range(len(grid)), grid)\n",
    "plt.xlabel('Regularization parameter \\n (Low - strong regularization, High - weak regularization)')\n",
    "plt.ylabel('Crossvalidation accuracy')\n",
    "plt.ylim([0.986,1])"
   ]
  },
  {
   "cell_type": "markdown",
   "metadata": {},
   "source": [
    "### Let's train again, on the entire training set, with the chosen regularization parameter. We will test on the test set"
   ]
  },
  {
   "cell_type": "code",
   "execution_count": 36,
   "metadata": {},
   "outputs": [
    {
     "name": "stdout",
     "output_type": "stream",
     "text": [
      "Accuracy: 0.9824561403508771\n"
     ]
    }
   ],
   "source": [
    "clf = LogisticRegression(random_state=0, solver='lbfgs',C = 10).fit(X_train,Y_train)\n",
    "\n",
    "#predict on the test set\n",
    "print('Accuracy:',clf.score(X_test,Y_test))"
   ]
  },
  {
   "cell_type": "markdown",
   "metadata": {},
   "source": [
    "### What features characterize Frankenstein? BOW are interpretable!"
   ]
  },
  {
   "cell_type": "code",
   "execution_count": 37,
   "metadata": {},
   "outputs": [
    {
     "name": "stdout",
     "output_type": "stream",
     "text": [
      "['frankenstein' 'creature' 'death' 'towards' 'poor' 'misery' 'me'\n",
      " 'justine' 'who' 'father' 'by' 'but' 'which' 'and' 'will' 'yet' 'my' 'of'\n",
      " 'had' 'this']\n"
     ]
    }
   ],
   "source": [
    "coefs=clf.coef_[0]\n",
    "top_three = np.argpartition(coefs, -20)[-20:]\n",
    "\n",
    "print(np.array(vectorizer.get_feature_names())[top_three])"
   ]
  },
  {
   "cell_type": "markdown",
   "metadata": {
    "collapsed": true
   },
   "source": [
    "### We can perfectly predict paragraphs from Frankenstein! We saw issues of high dimensionality when using bag of words (more features than samples) and how regularization helps."
   ]
  },
  {
   "cell_type": "markdown",
   "metadata": {},
   "source": [
    "### Alternative text representation: word emdeddings, pretrained on intergraded in Spacy (300-dimensional word vectors trained on Common Crawl with GloVe.) Depending on the application, might be suitable or not"
   ]
  },
  {
   "cell_type": "code",
   "execution_count": 38,
   "metadata": {},
   "outputs": [
    {
     "name": "stdout",
     "output_type": "stream",
     "text": [
      "I am already far north of London, and as I walk in the streets of Petersburgh, I feel a cold northern breeze play upon my cheeks, which braces my nerves and fills me with delight. \n",
      "\n",
      "Embedding representation: [0.144323, 0.33464438, 0.8453131, 0.98335034, 0.3904379, -0.9550123, -0.6535819, -0.32624054, 0.54813194, -0.25240448] ...\n"
     ]
    }
   ],
   "source": [
    "print(example,'\\n')\n",
    "print('Embedding representation:',list((nlp(example).vector)[0:10]),'...')"
   ]
  },
  {
   "cell_type": "markdown",
   "metadata": {},
   "source": [
    "# Task 3: Topic detection"
   ]
  },
  {
   "cell_type": "code",
   "execution_count": 39,
   "metadata": {},
   "outputs": [
    {
     "name": "stdout",
     "output_type": "stream",
     "text": [
      "DRACULA.txt\n",
      "Number of sentences: 9303\n",
      "Number of chunks: 187 \n",
      "\n",
      "Frankenstein.txt\n",
      "Number of sentences: 3378\n",
      "Number of chunks: 68 \n",
      "\n",
      "Moby_Dick.txt\n",
      "Number of sentences: 9609\n",
      "Number of chunks: 193 \n",
      "\n",
      "PRIDE_AND_PREJUDICE.txt\n",
      "Number of sentences: 6055\n",
      "Number of chunks: 122 \n",
      "\n"
     ]
    }
   ],
   "source": [
    "# Get the chunks again (into smaller chunks)\n",
    "book_id = {f:n for n,f in enumerate(our_books.fileids())} # dictionary of books\n",
    "chunks = list()\n",
    "chunk_class = list() # this list contains the original book of the chunk, for evaluation\n",
    "\n",
    "limit = 60 # how many chunks total\n",
    "size = 50 # how many sentences per chunk/page\n",
    "\n",
    "for f in our_books.fileids():\n",
    "    sentences = our_books.sents(f)\n",
    "    print(f)\n",
    "    print('Number of sentences:',len(sentences))\n",
    "    \n",
    "    # create chunks\n",
    "    chunks_of_sents = [x for x in get_chunks(sentences,size)] # this is a list of lists of sentences, which are a list of tokens\n",
    "    chs = list()\n",
    "    \n",
    "    # regroup so to have a list of chunks which are strings\n",
    "    for c in chunks_of_sents:\n",
    "        grouped_chunk = list()\n",
    "        for s in c:\n",
    "            grouped_chunk.extend(s)\n",
    "        chs.append(\" \".join(grouped_chunk))\n",
    "    print(\"Number of chunks:\",len(chs),'\\n')\n",
    "    \n",
    "    # filter to the limit, to have the same number of chunks per book\n",
    "    chunks.extend(chs[:limit])\n",
    "    chunk_class.extend([book_id[f] for _ in range(len(chs[:limit]))])"
   ]
  },
  {
   "cell_type": "code",
   "execution_count": 40,
   "metadata": {
    "scrolled": false
   },
   "outputs": [],
   "source": [
    "STOPWORDS = spacy.lang.en.stop_words.STOP_WORDS\n",
    "\n",
    "processed_docs = list()\n",
    "for doc in nlp.pipe(chunks, n_threads=5, batch_size=10):\n",
    "\n",
    "    # Process document using Spacy NLP pipeline.\n",
    "    ents = doc.ents  # Named entities\n",
    "\n",
    "    # Keep only words (no numbers, no punctuation).\n",
    "    # Lemmatize tokens, remove punctuation and remove stopwords.\n",
    "    doc = [token.lemma_ for token in doc if token.is_alpha and not token.is_stop]\n",
    "\n",
    "    # Remove common words from a stopword list and keep only words of length 3 or more.\n",
    "    doc = [token for token in doc if token not in STOPWORDS and len(token) > 2]\n",
    "\n",
    "    # Add named entities, but only if they are a compound of more than word.\n",
    "    doc.extend([str(entity) for entity in ents if len(entity) > 1])\n",
    "\n",
    "    processed_docs.append(doc)\n",
    "docs = processed_docs\n",
    "del processed_docs"
   ]
  },
  {
   "cell_type": "code",
   "execution_count": 41,
   "metadata": {},
   "outputs": [],
   "source": [
    "# Add bigrams too\n",
    "from gensim.models.phrases import Phrases\n",
    "\n",
    "# Add bigrams to docs (only ones that appear 15 times or more).\n",
    "bigram = Phrases(docs, min_count=15)\n",
    "\n",
    "for idx in range(len(docs)):\n",
    "    for token in bigram[docs[idx]]:\n",
    "        if '_' in token:\n",
    "            # Token is a bigram, add to document.\n",
    "            docs[idx].append(token)"
   ]
  },
  {
   "cell_type": "code",
   "execution_count": 42,
   "metadata": {},
   "outputs": [
    {
     "name": "stdout",
     "output_type": "stream",
     "text": [
      "Number of unique tokens: 3082\n",
      "Number of chunks: 240\n"
     ]
    }
   ],
   "source": [
    "# Create a dictionary representation of the documents, and filter out frequent and rare words.\n",
    "from gensim.corpora import Dictionary\n",
    "dictionary = Dictionary(docs)\n",
    "\n",
    "# Remove rare and common tokens.\n",
    "# Filter out words that occur too frequently or too rarely.\n",
    "max_freq = 0.5\n",
    "min_wordcount = 5\n",
    "dictionary.filter_extremes(no_below=min_wordcount, no_above=max_freq)\n",
    "\n",
    "# Bag-of-words representation of the documents.\n",
    "corpus = [dictionary.doc2bow(doc) for doc in docs]\n",
    "#MmCorpus.serialize(\"models/corpus.mm\", corpus)\n",
    "\n",
    "print('Number of unique tokens: %d' % len(dictionary))\n",
    "print('Number of chunks: %d' % len(corpus))"
   ]
  },
  {
   "cell_type": "code",
   "execution_count": 43,
   "metadata": {},
   "outputs": [],
   "source": [
    "# models\n",
    "from gensim.models import LdaMulticore\n",
    "params = {'passes': 10, 'random_state': seed}\n",
    "base_models = dict()\n",
    "model = LdaMulticore(corpus=corpus, num_topics=4, id2word=dictionary, workers=6,\n",
    "                passes=params['passes'], random_state=params['random_state'])"
   ]
  },
  {
   "cell_type": "code",
   "execution_count": 44,
   "metadata": {},
   "outputs": [
    {
     "data": {
      "text/plain": [
       "[(0,\n",
       "  '0.024*\"whale\" + 0.006*\"old\" + 0.005*\"sea\" + 0.005*\"life\" + 0.004*\"nature\"'),\n",
       " (1,\n",
       "  '0.007*\"old\" + 0.007*\"ship\" + 0.007*\"sea\" + 0.007*\"queequeg\" + 0.006*\"captain\"'),\n",
       " (2,\n",
       "  '0.012*\"elizabeth\" + 0.009*\"darcy\" + 0.008*\"miss\" + 0.008*\"bingley\" + 0.008*\"lady\"'),\n",
       " (3,\n",
       "  '0.009*\"father\" + 0.008*\"elizabeth\" + 0.005*\"feeling\" + 0.005*\"dear\" + 0.005*\"life\"')]"
      ]
     },
     "execution_count": 44,
     "metadata": {},
     "output_type": "execute_result"
    }
   ],
   "source": [
    "model.show_topics(num_words=5)"
   ]
  },
  {
   "cell_type": "code",
   "execution_count": 45,
   "metadata": {},
   "outputs": [
    {
     "data": {
      "text/plain": [
       "[('old', 0.007456054),\n",
       " ('ship', 0.0067051635),\n",
       " ('sea', 0.006698858),\n",
       " ('queequeg', 0.0065208394),\n",
       " ('captain', 0.0060450314),\n",
       " ('head', 0.0049257334),\n",
       " ('light', 0.004119395),\n",
       " ('ahab', 0.0039556837),\n",
       " ('sleep', 0.003938183),\n",
       " ('bed', 0.003899596),\n",
       " ('lie', 0.0038248613),\n",
       " ('stand', 0.0038033607),\n",
       " ('round', 0.003791342),\n",
       " ('god', 0.0036074275),\n",
       " ('room', 0.0035655422),\n",
       " ('run', 0.0035392558),\n",
       " ('sort', 0.0034679507),\n",
       " ('thou', 0.0031578836),\n",
       " ('sit', 0.0030545646),\n",
       " ('door', 0.0030361444)]"
      ]
     },
     "execution_count": 45,
     "metadata": {},
     "output_type": "execute_result"
    }
   ],
   "source": [
    "model.show_topic(1,20)"
   ]
  },
  {
   "cell_type": "code",
   "execution_count": 46,
   "metadata": {},
   "outputs": [
    {
     "data": {
      "text/plain": [
       "[(1, 0.6674697), (2, 0.33068594)]"
      ]
     },
     "execution_count": 46,
     "metadata": {},
     "output_type": "execute_result"
    }
   ],
   "source": [
    "sorted(model[corpus[0]],key=lambda x:x[1],reverse=True)"
   ]
  },
  {
   "cell_type": "code",
   "execution_count": 47,
   "metadata": {},
   "outputs": [
    {
     "data": {
      "text/html": [
       "\n",
       "<link rel=\"stylesheet\" type=\"text/css\" href=\"https://cdn.rawgit.com/bmabey/pyLDAvis/files/ldavis.v1.0.0.css\">\n",
       "\n",
       "\n",
       "<div id=\"ldavis_el9724790808272250107552\"></div>\n",
       "<script type=\"text/javascript\">\n",
       "\n",
       "var ldavis_el9724790808272250107552_data = {\"mdsDat\": {\"x\": [-0.1171923614061524, 0.13216565278962558, 0.06517451606514875, -0.080147807448622], \"y\": [-0.06984599733789897, -0.06650446879311435, 0.07935725079828171, 0.05699321533273149], \"topics\": [1, 2, 3, 4], \"cluster\": [1, 1, 1, 1], \"Freq\": [33.190711975097656, 32.54741668701172, 17.88477325439453, 16.377103805541992]}, \"tinfo\": {\"Category\": [\"Default\", \"Default\", \"Default\", \"Default\", \"Default\", \"Default\", \"Default\", \"Default\", \"Default\", \"Default\", \"Default\", \"Default\", \"Default\", \"Default\", \"Default\", \"Default\", \"Default\", \"Default\", \"Default\", \"Default\", \"Default\", \"Default\", \"Default\", \"Default\", \"Default\", \"Default\", \"Default\", \"Default\", \"Default\", \"Default\", \"Topic1\", \"Topic1\", \"Topic1\", \"Topic1\", \"Topic1\", \"Topic1\", \"Topic1\", \"Topic1\", \"Topic1\", \"Topic1\", \"Topic1\", \"Topic1\", \"Topic1\", \"Topic1\", \"Topic1\", \"Topic1\", \"Topic1\", \"Topic1\", \"Topic1\", \"Topic1\", \"Topic1\", \"Topic1\", \"Topic1\", \"Topic1\", \"Topic1\", \"Topic1\", \"Topic1\", \"Topic1\", \"Topic1\", \"Topic1\", \"Topic1\", \"Topic1\", \"Topic1\", \"Topic1\", \"Topic1\", \"Topic1\", \"Topic1\", \"Topic1\", \"Topic1\", \"Topic1\", \"Topic1\", \"Topic1\", \"Topic1\", \"Topic1\", \"Topic1\", \"Topic1\", \"Topic1\", \"Topic1\", \"Topic1\", \"Topic1\", \"Topic1\", \"Topic1\", \"Topic1\", \"Topic1\", \"Topic1\", \"Topic1\", \"Topic1\", \"Topic1\", \"Topic1\", \"Topic1\", \"Topic1\", \"Topic1\", \"Topic1\", \"Topic1\", \"Topic1\", \"Topic1\", \"Topic1\", \"Topic1\", \"Topic1\", \"Topic1\", \"Topic1\", \"Topic2\", \"Topic2\", \"Topic2\", \"Topic2\", \"Topic2\", \"Topic2\", \"Topic2\", \"Topic2\", \"Topic2\", \"Topic2\", \"Topic2\", \"Topic2\", \"Topic2\", \"Topic2\", \"Topic2\", \"Topic2\", \"Topic2\", \"Topic2\", \"Topic2\", \"Topic2\", \"Topic2\", \"Topic2\", \"Topic2\", \"Topic2\", \"Topic2\", \"Topic2\", \"Topic2\", \"Topic2\", \"Topic2\", \"Topic2\", \"Topic2\", \"Topic2\", \"Topic2\", \"Topic2\", \"Topic2\", \"Topic2\", \"Topic2\", \"Topic2\", \"Topic2\", \"Topic2\", \"Topic2\", \"Topic2\", \"Topic2\", \"Topic2\", \"Topic2\", \"Topic2\", \"Topic2\", \"Topic2\", \"Topic2\", \"Topic2\", \"Topic2\", \"Topic2\", \"Topic2\", \"Topic2\", \"Topic2\", \"Topic2\", \"Topic2\", \"Topic2\", \"Topic2\", \"Topic2\", \"Topic2\", \"Topic2\", \"Topic2\", \"Topic2\", \"Topic2\", \"Topic3\", \"Topic3\", \"Topic3\", \"Topic3\", \"Topic3\", \"Topic3\", \"Topic3\", \"Topic3\", \"Topic3\", \"Topic3\", \"Topic3\", \"Topic3\", \"Topic3\", \"Topic3\", \"Topic3\", \"Topic3\", \"Topic3\", \"Topic3\", \"Topic3\", \"Topic3\", \"Topic3\", \"Topic3\", \"Topic3\", \"Topic3\", \"Topic3\", \"Topic3\", \"Topic3\", \"Topic3\", \"Topic3\", \"Topic3\", \"Topic3\", \"Topic3\", \"Topic3\", \"Topic3\", \"Topic3\", \"Topic3\", \"Topic3\", \"Topic3\", \"Topic3\", \"Topic3\", \"Topic3\", \"Topic3\", \"Topic3\", \"Topic3\", \"Topic3\", \"Topic3\", \"Topic3\", \"Topic3\", \"Topic3\", \"Topic3\", \"Topic3\", \"Topic3\", \"Topic3\", \"Topic3\", \"Topic3\", \"Topic3\", \"Topic3\", \"Topic3\", \"Topic3\", \"Topic3\", \"Topic3\", \"Topic3\", \"Topic3\", \"Topic3\", \"Topic3\", \"Topic3\", \"Topic3\", \"Topic3\", \"Topic3\", \"Topic3\", \"Topic3\", \"Topic4\", \"Topic4\", \"Topic4\", \"Topic4\", \"Topic4\", \"Topic4\", \"Topic4\", \"Topic4\", \"Topic4\", \"Topic4\", \"Topic4\", \"Topic4\", \"Topic4\", \"Topic4\", \"Topic4\", \"Topic4\", \"Topic4\", \"Topic4\", \"Topic4\", \"Topic4\", \"Topic4\", \"Topic4\", \"Topic4\", \"Topic4\", \"Topic4\", \"Topic4\", \"Topic4\", \"Topic4\", \"Topic4\", \"Topic4\", \"Topic4\", \"Topic4\", \"Topic4\", \"Topic4\", \"Topic4\", \"Topic4\", \"Topic4\", \"Topic4\", \"Topic4\", \"Topic4\", \"Topic4\", \"Topic4\", \"Topic4\", \"Topic4\", \"Topic4\", \"Topic4\", \"Topic4\", \"Topic4\", \"Topic4\", \"Topic4\", \"Topic4\", \"Topic4\", \"Topic4\", \"Topic4\", \"Topic4\", \"Topic4\", \"Topic4\", \"Topic4\", \"Topic4\", \"Topic4\", \"Topic4\", \"Topic4\", \"Topic4\", \"Topic4\", \"Topic4\", \"Topic4\", \"Topic4\", \"Topic4\"], \"Freq\": [347.0, 391.0, 209.0, 232.0, 215.0, 180.0, 164.0, 194.0, 226.0, 144.0, 212.0, 223.0, 215.0, 149.0, 239.0, 169.0, 288.0, 186.0, 54.0, 189.0, 107.0, 86.0, 73.0, 107.0, 68.0, 76.0, 53.0, 218.0, 71.0, 81.0, 159.981689453125, 33.271629333496094, 69.35719299316406, 30.33756446838379, 36.0113410949707, 73.77103424072266, 18.77126121520996, 30.00499725341797, 27.186176300048828, 19.59738540649414, 15.831561088562012, 15.825077056884766, 15.810006141662598, 24.1588134765625, 15.773962020874023, 59.20462417602539, 14.82542610168457, 14.82214069366455, 20.36177635192871, 14.787471771240234, 77.47523498535156, 12.911698341369629, 38.65351867675781, 14.7266206741333, 13.813718795776367, 15.63809585571289, 17.48354148864746, 16.544193267822266, 11.882359504699707, 12.786551475524902, 36.99827194213867, 97.04838562011719, 28.85509490966797, 148.30825805664062, 24.148488998413086, 95.67233276367188, 37.338443756103516, 164.50387573242188, 39.748687744140625, 36.41050720214844, 56.64704895019531, 68.97818756103516, 33.30502700805664, 58.207427978515625, 63.022987365722656, 164.34918212890625, 93.83880615234375, 66.96742248535156, 36.10524368286133, 93.01644134521484, 86.831787109375, 182.92616271972656, 72.83232116699219, 101.06486511230469, 120.84750366210938, 88.50430297851562, 50.76568603515625, 93.31130981445312, 58.68385314941406, 96.61903381347656, 68.85846710205078, 85.08238983154297, 63.98069381713867, 62.93675231933594, 72.82742309570312, 74.94041442871094, 73.8430404663086, 87.47669219970703, 74.48849487304688, 69.83451843261719, 65.15664672851562, 67.64741516113281, 141.61102294921875, 72.10768127441406, 36.31206130981445, 57.652835845947266, 37.13046646118164, 30.57299041748047, 34.17449951171875, 30.471162796020508, 200.888427734375, 23.005596160888672, 21.144798278808594, 172.6526336669922, 47.6357307434082, 29.301977157592773, 21.922142028808594, 40.186824798583984, 18.24660301208496, 61.995296478271484, 38.21811294555664, 15.487306594848633, 22.781635284423828, 23.568824768066406, 203.82972717285156, 23.526113510131836, 26.23849868774414, 26.21593475341797, 20.785768508911133, 13.542428016662598, 18.067195892333984, 81.259765625, 139.85702514648438, 72.95616149902344, 57.72665786743164, 180.58514404296875, 74.42961120605469, 213.10067749023438, 67.99830627441406, 189.29232788085938, 35.71139907836914, 27.94917869567871, 155.5297088623047, 92.3025894165039, 32.06693649291992, 283.7795104980469, 39.92239761352539, 95.7120361328125, 157.67559814453125, 106.55165100097656, 68.2270736694336, 136.6118621826172, 95.87515258789062, 119.90740966796875, 145.95278930664062, 70.22592163085938, 82.22174072265625, 75.48169708251953, 77.95065307617188, 81.25592041015625, 74.20159149169922, 83.70048522949219, 79.74598693847656, 75.65785217285156, 74.70557403564453, 73.77217102050781, 52.45491409301758, 15.835878372192383, 11.100534439086914, 11.996198654174805, 16.543365478515625, 10.085691452026367, 18.052349090576172, 12.415278434753418, 10.530294418334961, 34.116302490234375, 5.931534767150879, 13.321608543395996, 21.606050491333008, 14.83867073059082, 5.759393692016602, 10.667414665222168, 30.205970764160156, 24.41115951538086, 5.704924583435059, 5.66041898727417, 16.97398567199707, 8.01888370513916, 11.272733688354492, 7.960544586181641, 23.643535614013672, 7.074569225311279, 14.041730880737305, 7.714196681976318, 12.202737808227539, 9.950252532958984, 45.18635177612305, 36.05754852294922, 25.295923233032227, 18.967693328857422, 24.471073150634766, 22.92641830444336, 14.410279273986816, 27.4563045501709, 21.057058334350586, 36.78803253173828, 19.72027587890625, 124.86692810058594, 31.591869354248047, 22.30091094970703, 38.27519607543945, 40.4803352355957, 43.089962005615234, 36.412513732910156, 70.0298080444336, 35.26459884643555, 51.27407455444336, 103.12018585205078, 40.84333038330078, 41.20118713378906, 61.98794937133789, 51.451908111572266, 55.08143997192383, 39.434478759765625, 66.9111557006836, 50.388153076171875, 67.19469451904297, 51.321128845214844, 52.14399719238281, 53.620819091796875, 51.21592712402344, 36.85862731933594, 39.44859313964844, 43.934024810791016, 40.677852630615234, 41.2202262878418, 38.44868087768555, 28.80221939086914, 26.126903533935547, 16.09372329711914, 10.950417518615723, 14.211640357971191, 12.455130577087402, 22.93412208557129, 7.367870330810547, 8.149394989013672, 7.307939529418945, 6.478417873382568, 21.02996826171875, 6.448188781738281, 13.636493682861328, 25.57600212097168, 11.969133377075195, 6.376359939575195, 39.06364059448242, 7.133976459503174, 5.504505634307861, 5.504454135894775, 6.257136821746826, 14.039837837219238, 18.68817710876465, 10.055900573730469, 6.184294700622559, 10.813014030456543, 6.946585178375244, 11.567870140075684, 5.381168365478516, 289.4293518066406, 9.984075546264648, 42.79431915283203, 18.556381225585938, 19.883255004882812, 21.405603408813477, 15.790205001831055, 23.76767349243164, 12.504695892333984, 17.194000244140625, 18.66345977783203, 49.23009490966797, 33.166446685791016, 29.824785232543945, 31.38452911376953, 27.928573608398438, 30.79440689086914, 39.9322624206543, 31.456600189208984, 27.63946533203125, 68.54398345947266, 58.04666519165039, 58.77009582519531, 29.29167366027832, 41.7032585144043, 39.457000732421875, 46.11531066894531, 46.80363464355469, 37.397945404052734, 36.751102447509766, 29.642728805541992, 32.18519592285156, 34.7519416809082, 29.886489868164062, 31.500768661499023, 27.86078453063965, 28.709320068359375, 28.425533294677734], \"Term\": [\"whale\", \"elizabeth\", \"bingley\", \"darcy\", \"miss\", \"bennet\", \"queequeg\", \"mrs\", \"sea\", \"jane\", \"ship\", \"father\", \"lady\", \"collins\", \"dear\", \"captain\", \"old\", \"sister\", \"justine\", \"wish\", \"ahab\", \"mrs_bennet\", \"charlotte\", \"lucy\", \"miss_bingley\", \"bildad\", \"cottage\", \"life\", \"peleg\", \"thou\", \"queequeg\", \"landlord\", \"peleg\", \"shipmate\", \"harpoon\", \"bildad\", \"tomahawk\", \"captain_peleg\", \"harbour\", \"cannibal\", \"bedford\", \"New Bedford\", \"new_bedford\", \"pier\", \"chest\", \"jonah\", \"wharf\", \"aboard\", \"didn\", \"sand\", \"thou\", \"Captain Ahab\", \"captain_ahab\", \"ain\", \"bulwark\", \"pagan\", \"boot\", \"Captain Peleg\", \"wooden\", \"pot\", \"dog\", \"ahab\", \"driver\", \"captain\", \"queer\", \"bed\", \"storm\", \"ship\", \"board\", \"flask\", \"mate\", \"sail\", \"leg\", \"deck\", \"harpooneer\", \"sea\", \"lie\", \"don\", \"thee\", \"round\", \"run\", \"old\", \"white\", \"light\", \"head\", \"god\", \"arm\", \"stand\", \"land\", \"sleep\", \"strange\", \"sort\", \"foot\", \"hold\", \"face\", \"sit\", \"fear\", \"room\", \"door\", \"open\", \"pass\", \"miss_bingley\", \"jane\", \"charlotte\", \"lydia\", \"lucas\", \"Miss Bingley\", \"hurst\", \"miss_bennet\", \"colonel\", \"bingley\", \"miss_lucas\", \"westenra\", \"bennet\", \"netherfield\", \"meryton\", \"seward\", \"longbourn\", \"mrs_hurst\", \"dance\", \"sir_william\", \"gardiner\", \"colonel_fitzwilliam\", \"diary\", \"miss\", \"hertfordshire\", \"helsing\", \"rosings\", \"Van Helsing\", \"holmwood\", \"mrs_collins\", \"mrs_bennet\", \"collins\", \"wickham\", \"Lady Catherine\", \"mrs\", \"catherine\", \"darcy\", \"lady_catherine\", \"lady\", \"lizzy\", \"fitzwilliam\", \"sister\", \"lucy\", \"husband\", \"elizabeth\", \"arthur\", \"write\", \"dear\", \"letter\", \"daughter\", \"young\", \"ask\", \"wish\", \"room\", \"count\", \"want\", \"talk\", \"walk\", \"manner\", \"mother\", \"love\", \"mean\", \"hope\", \"house\", \"door\", \"justine\", \"union\", \"remorse\", \"guilt\", \"victim\", \"threat\", \"innocence\", \"ernest\", \"fulfil\", \"misfortune\", \"caprice\", \"accuse\", \"crime\", \"tranquillity\", \"disclose\", \"wretchedness\", \"geneva\", \"victor\", \"hellish\", \"sickness\", \"innocent\", \"sicken\", \"console\", \"inflict\", \"murderer\", \"many months\", \"suffering\", \"abhor\", \"frankenstein\", \"bitterly\", \"misery\", \"murder\", \"fiend\", \"revenge\", \"forever\", \"weep\", \"torture\", \"peace\", \"henry\", \"clerval\", \"enemy\", \"father\", \"despair\", \"grief\", \"horror\", \"endeavour\", \"affection\", \"tear\", \"feeling\", \"miserable\", \"death\", \"elizabeth\", \"happiness\", \"creature\", \"love\", \"appear\", \"hope\", \"child\", \"life\", \"believe\", \"dear\", \"return\", \"heart\", \"wish\", \"mind\", \"desire\", \"remain\", \"pass\", \"moment\", \"fear\", \"happy\", \"sperm\", \"sperm_whale\", \"fin\", \"octavo\", \"spout\", \"hovel\", \"leviathan\", \"whales\", \"enterprise\", \"scientific\", \"naturalist\", \"cottager\", \"thomas\", \"folio\", \"oil\", \"protector\", \"ardent\", \"felix\", \"nation\", \"inward\", \"paradise\", \"dedicate\", \"utterly\", \"whale_ship\", \"iii\", \"practical\", \"ardour\", \"majestic\", \"arabian\", \"reverence\", \"whale\", \"swim\", \"cottage\", \"greenland\", \"pursuit\", \"mast_head\", \"fishery\", \"science\", \"philosophy\", \"safie\", \"agatha\", \"nature\", \"fish\", \"old_man\", \"study\", \"wood\", \"whaling\", \"form\", \"delight\", \"mast\", \"old\", \"life\", \"sea\", \"discover\", \"year\", \"book\", \"world\", \"ship\", \"chapter\", \"present\", \"voyage\", \"appear\", \"head\", \"work\", \"word\", \"enter\", \"father\", \"pass\"], \"Total\": [347.0, 391.0, 209.0, 232.0, 215.0, 180.0, 164.0, 194.0, 226.0, 144.0, 212.0, 223.0, 215.0, 149.0, 239.0, 169.0, 288.0, 186.0, 54.0, 189.0, 107.0, 86.0, 73.0, 107.0, 68.0, 76.0, 53.0, 218.0, 71.0, 81.0, 164.16993713378906, 34.231109619140625, 71.4261245727539, 31.288625717163086, 37.1475944519043, 76.3069839477539, 19.550920486450195, 31.294784545898438, 28.355636596679688, 20.519285202026367, 16.614498138427734, 16.61546516418457, 16.614728927612305, 25.418067932128906, 16.610172271728516, 62.42298126220703, 15.6341552734375, 15.635132789611816, 21.488340377807617, 15.636373519897461, 81.96065521240234, 13.677569389343262, 40.951904296875, 15.623513221740723, 14.655433654785156, 16.598791122436523, 18.55882453918457, 17.59038734436035, 12.699075698852539, 13.67523193359375, 40.01203918457031, 107.72828674316406, 31.313196182250977, 169.72442626953125, 26.28150749206543, 112.3600082397461, 41.93043899536133, 212.96066284179688, 45.55329895019531, 41.65199661254883, 67.71004486083984, 84.89325714111328, 37.80625534057617, 70.39179229736328, 77.06770324707031, 226.5548858642578, 121.09300994873047, 83.79379272460938, 41.67306900024414, 126.02255249023438, 117.68929290771484, 288.71783447265625, 95.49766540527344, 142.27801513671875, 190.1986083984375, 127.79199981689453, 62.99192428588867, 141.94911193847656, 78.22406005859375, 164.89114379882812, 102.08575439453125, 149.34564208984375, 95.73810577392578, 93.32469940185547, 126.7723159790039, 154.31053161621094, 151.2611541748047, 258.3155822753906, 166.95773315429688, 140.83355712890625, 189.77032470703125, 68.98867797851562, 144.745849609375, 73.79019927978516, 37.37102508544922, 59.432029724121094, 38.328975677490234, 31.620046615600586, 35.461421966552734, 31.625654220581055, 209.10855102539062, 23.955259323120117, 22.03411293029785, 180.3555450439453, 49.86895751953125, 30.676002502441406, 23.0001277923584, 42.19611358642578, 19.162918090820312, 65.15167999267578, 40.18013000488281, 16.284889221191406, 23.962844848632812, 24.922222137451172, 215.83380126953125, 24.929054260253906, 27.809532165527344, 27.806360244750977, 22.049991607666016, 14.36738395690918, 19.167909622192383, 86.37934875488281, 149.78311157226562, 77.74695587158203, 61.41230392456055, 194.8194580078125, 79.67179870605469, 232.52430725097656, 72.95027160644531, 215.82693481445312, 38.3897590637207, 29.73166847229004, 186.05506896972656, 107.59930419921875, 34.542579650878906, 391.6801452636719, 44.16965866088867, 128.48663330078125, 239.96705627441406, 157.3461151123047, 88.67793273925781, 223.19920349121094, 139.79542541503906, 189.6260223388672, 258.3155822753906, 98.28211212158203, 127.63935852050781, 111.83786010742188, 130.92767333984375, 154.4041748046875, 117.96614837646484, 182.3290557861328, 172.32693481445312, 150.8944091796875, 167.54641723632812, 166.95773315429688, 54.561012268066406, 16.855846405029297, 11.8961181640625, 12.886246681213379, 17.841245651245117, 10.901049613952637, 19.836223602294922, 13.836087226867676, 11.880780220031738, 39.51712417602539, 6.905108451843262, 15.806024551391602, 25.671098709106445, 17.754453659057617, 6.891304016113281, 12.814583778381348, 36.37035369873047, 29.541236877441406, 6.913773059844971, 6.901820659637451, 20.740938186645508, 9.810537338256836, 13.825226783752441, 9.823943138122559, 29.493385314941406, 8.849661827087402, 17.78852081298828, 9.832387924194336, 15.62918758392334, 12.764370918273926, 58.08209991455078, 46.44676971435547, 32.64229202270508, 24.697349548339844, 32.30650329589844, 30.424869537353516, 18.56443977355957, 37.423377990722656, 28.19725227355957, 52.24917221069336, 26.49204444885254, 223.424072265625, 46.02280044555664, 30.597883224487305, 60.774253845214844, 67.85928344726562, 77.92375183105469, 63.150718688964844, 167.12112426757812, 64.00922393798828, 113.4322280883789, 391.6801452636719, 86.52003479003906, 89.2858657836914, 182.3290557861328, 132.2511444091797, 150.8944091796875, 83.78054809570312, 218.66043090820312, 135.59274291992188, 239.96705627441406, 155.6788330078125, 162.40109252929688, 189.6260223388672, 171.8117218017578, 85.98808288574219, 115.1356430053711, 189.77032470703125, 139.275390625, 151.2611541748047, 118.53582000732422, 29.614919662475586, 26.9277286529541, 17.092384338378906, 11.70191764831543, 15.310464859008789, 13.518335342407227, 25.26519775390625, 8.120176315307617, 9.024331092834473, 8.12393856048584, 7.224145889282227, 23.463315963745117, 7.226433753967285, 15.342988967895508, 28.9350643157959, 13.56423568725586, 7.232308864593506, 44.349246978759766, 8.143467903137207, 6.334240913391113, 6.335582733154297, 7.243780136108398, 16.28380012512207, 21.74541473388672, 11.758218765258789, 7.253811836242676, 12.688434600830078, 8.157381057739258, 13.607336044311523, 6.347949981689453, 347.9359436035156, 11.804367065429688, 53.848270416259766, 22.736621856689453, 24.52725601196289, 27.365156173706055, 20.05872344970703, 31.9748477935791, 15.444229125976562, 22.898929595947266, 25.607837677001953, 87.11376953125, 57.50019836425781, 54.96736145019531, 60.407997131347656, 51.23198699951172, 62.711647033691406, 98.79464721679688, 69.41168212890625, 56.15245819091797, 288.71783447265625, 218.66043090820312, 226.5548858642578, 62.96195983886719, 126.11660766601562, 113.58657836914062, 156.91151428222656, 212.96066284179688, 125.15034484863281, 125.17747497558594, 79.51249694824219, 132.2511444091797, 190.1986083984375, 112.2436752319336, 169.82176208496094, 121.63094329833984, 223.424072265625, 189.77032470703125], \"loglift\": [30.0, 29.0, 28.0, 27.0, 26.0, 25.0, 24.0, 23.0, 22.0, 21.0, 20.0, 19.0, 18.0, 17.0, 16.0, 15.0, 14.0, 13.0, 12.0, 11.0, 10.0, 9.0, 8.0, 7.0, 6.0, 5.0, 4.0, 3.0, 2.0, 1.0, 1.0771000385284424, 1.0744999647140503, 1.0735000371932983, 1.0720000267028809, 1.0717999935150146, 1.069100022315979, 1.0621999502182007, 1.0607999563217163, 1.0607999563217163, 1.0569000244140625, 1.0546000003814697, 1.0542000532150269, 1.0533000230789185, 1.0520999431610107, 1.051200032234192, 1.0499999523162842, 1.0498000383377075, 1.0494999885559082, 1.0490000247955322, 1.0470999479293823, 1.0465999841690063, 1.045300006866455, 1.0450999736785889, 1.0437999963760376, 1.0437999963760376, 1.0433000326156616, 1.0432000160217285, 1.041599988937378, 1.0363999605178833, 1.0356999635696411, 1.0246000289916992, 0.9984999895095825, 1.0211000442504883, 0.9679999947547913, 1.0183000564575195, 0.9420999884605408, 0.9868999719619751, 0.8446999788284302, 0.9666000008583069, 0.9684000015258789, 0.9244999885559082, 0.8952999711036682, 0.9761000275611877, 0.9128000140190125, 0.9017000198364258, 0.7818999886512756, 0.8478999733924866, 0.8787000179290771, 0.9595000147819519, 0.7991999983787537, 0.798799991607666, 0.6464999914169312, 0.8320000171661377, 0.7609000205993652, 0.649399995803833, 0.7354999780654907, 0.8870999813079834, 0.6833999752998352, 0.815500020980835, 0.5684000253677368, 0.7091000080108643, 0.5403000116348267, 0.6998999714851379, 0.708899974822998, 0.5486000180244446, 0.3806000053882599, 0.38580000400543213, 0.020099999383091927, 0.29580000042915344, 0.40139999985694885, 0.033900000154972076, 1.1028000116348267, 1.100600004196167, 1.0994000434875488, 1.0937000513076782, 1.0921000242233276, 1.0907000303268433, 1.0887999534606934, 1.0855000019073486, 1.0852999687194824, 1.0823999643325806, 1.0820000171661377, 1.0813000202178955, 1.0787999629974365, 1.07669997215271, 1.0765999555587769, 1.0744999647140503, 1.073699951171875, 1.0735000371932983, 1.0728000402450562, 1.0723999738693237, 1.0722999572753906, 1.0719000101089478, 1.06659996509552, 1.0651999711990356, 1.0644999742507935, 1.0642999410629272, 1.063599944114685, 1.0634000301361084, 1.0633000135421753, 1.0633000135421753, 1.061400055885315, 1.0539000034332275, 1.058899998664856, 1.0606000423431396, 1.0465999841690063, 1.0543999671936035, 1.0351999998092651, 1.0521999597549438, 0.9912999868392944, 1.0501999855041504, 1.0606000423431396, 0.9433000087738037, 0.9690999984741211, 1.0480999946594238, 0.8001999855041504, 1.021399974822998, 0.828000009059906, 0.7024999856948853, 0.732699990272522, 0.8603000044822693, 0.631600022315979, 0.7452999949455261, 0.6640999913215637, 0.5515999794006348, 0.786300003528595, 0.682699978351593, 0.7293000221252441, 0.6039000153541565, 0.4805000126361847, 0.6589000225067139, 0.34389999508857727, 0.35190001130104065, 0.43209999799728394, 0.3147999942302704, 0.30570000410079956, 1.6819000244140625, 1.6588000059127808, 1.6519999504089355, 1.6496000289916992, 1.6456999778747559, 1.6434999704360962, 1.6269999742507935, 1.6129000186920166, 1.600600004196167, 1.5743000507354736, 1.569200038909912, 1.5501999855041504, 1.548799991607666, 1.5418000221252441, 1.5418000221252441, 1.5377999544143677, 1.5355000495910645, 1.530500054359436, 1.5290000438690186, 1.5228999853134155, 1.520799994468689, 1.5196000337600708, 1.5170999765396118, 1.5109000205993652, 1.500100016593933, 1.4973000288009644, 1.4846999645233154, 1.478600025177002, 1.4737000465393066, 1.4722000360488892, 1.4701999425888062, 1.468000054359436, 1.4663000106811523, 1.4572999477386475, 1.4434000253677368, 1.4383000135421753, 1.467900037765503, 1.4114999771118164, 1.4292000532150269, 1.3703999519348145, 1.4259999990463257, 1.1394000053405762, 1.3450000286102295, 1.4048999547958374, 1.2589000463485718, 1.2045999765396118, 1.1288000345230103, 1.1706000566482544, 0.8514000177383423, 1.125100016593933, 0.9272000193595886, 0.38670000433921814, 0.9706000089645386, 0.9477999806404114, 0.642300009727478, 0.7771999835968018, 0.7135000228881836, 0.9677000045776367, 0.5371000170707703, 0.7312999963760376, 0.44830000400543213, 0.6115000247955322, 0.5852000117301941, 0.45809999108314514, 0.5109000205993652, 0.8741000294685364, 0.6500999927520752, 0.2581000030040741, 0.49050000309944153, 0.421099990606308, 0.595300018787384, 1.781499981880188, 1.779099941253662, 1.7490999698638916, 1.742900013923645, 1.7347999811172485, 1.7273999452590942, 1.712499976158142, 1.7121000289916992, 1.7072999477386475, 1.7034000158309937, 1.7002999782562256, 1.6998000144958496, 1.6952999830245972, 1.6914000511169434, 1.6858999729156494, 1.6842000484466553, 1.6833000183105469, 1.6823999881744385, 1.676900029182434, 1.6689000129699707, 1.6686999797821045, 1.6628999710083008, 1.6610000133514404, 1.6577999591827393, 1.652899980545044, 1.6497999429702759, 1.6492999792099, 1.6485999822616577, 1.6469000577926636, 1.6440999507904053, 1.6252000331878662, 1.641800045967102, 1.5794999599456787, 1.6060999631881714, 1.5994000434875488, 1.5636999607086182, 1.5700000524520874, 1.5126999616622925, 1.5981999635696411, 1.5227999687194824, 1.4930000305175781, 1.2386000156402588, 1.2589999437332153, 1.1979000568389893, 1.1545000076293945, 1.2026000022888184, 1.098099946975708, 0.9034000039100647, 1.017799973487854, 1.1004999876022339, 0.37130001187324524, 0.4830000102519989, 0.45989999175071716, 1.044100046157837, 0.7027000188827515, 0.7519000172615051, 0.5846999883651733, 0.29409998655319214, 0.6014000177383423, 0.5837000012397766, 0.8226000070571899, 0.3961000144481659, 0.10949999839067459, 0.4860000014305115, 0.12449999898672104, 0.33550000190734863, -0.2425999939441681, -0.08919999748468399], \"logprob\": [30.0, 29.0, 28.0, 27.0, 26.0, 25.0, 24.0, 23.0, 22.0, 21.0, 20.0, 19.0, 18.0, 17.0, 16.0, 15.0, 14.0, 13.0, 12.0, 11.0, 10.0, 9.0, 8.0, 7.0, 6.0, 5.0, 4.0, 3.0, 2.0, 1.0, -5.032800197601318, -6.603099822998047, -5.868500232696533, -6.695400238037109, -6.52400016784668, -5.80679988861084, -7.17549991607666, -6.706399917602539, -6.805099964141846, -7.132400035858154, -7.345799922943115, -7.346199989318848, -7.3471999168396, -6.9232001304626465, -7.3495001792907715, -6.026800155639648, -7.411499977111816, -7.4116997718811035, -7.094200134277344, -7.414000034332275, -5.757900238037109, -7.549699783325195, -6.453199863433838, -7.4182000160217285, -7.482100009918213, -7.358099937438965, -7.246600151062012, -7.301799774169922, -7.632800102233887, -7.5594000816345215, -6.4969000816345215, -5.532599925994873, -6.745500087738037, -5.108500003814697, -6.923600196838379, -5.546899795532227, -6.487800121307373, -5.004899978637695, -6.42519998550415, -6.513000011444092, -6.071000099182129, -5.874000072479248, -6.602099895477295, -6.043799877166748, -5.964300155639648, -5.005799770355225, -5.566199779510498, -5.903600215911865, -6.521399974822998, -5.574999809265137, -5.643799781799316, -4.89870023727417, -5.819699764251709, -5.492000102996826, -5.313300132751465, -5.624800205230713, -6.180600166320801, -5.571899890899658, -6.035600185394287, -5.5370001792907715, -5.875800132751465, -5.6641998291015625, -5.94920015335083, -5.965700149536133, -5.819699764251709, -5.791100025177002, -5.8059000968933105, -5.63640022277832, -5.7972002029418945, -5.861700057983398, -5.931000232696533, -5.873899936676025, -5.135200023651123, -5.810100078582764, -6.496099948883057, -6.03380012512207, -6.473800182342529, -6.668099880218506, -6.55679988861084, -6.671500205993652, -4.7855000495910645, -6.952499866485596, -7.036799907684326, -4.936999797821045, -6.224699974060059, -6.710599899291992, -7.000699996948242, -6.394700050354004, -7.184299945831299, -5.96120023727417, -6.444900035858154, -7.348199844360352, -6.962299823760986, -6.928299903869629, -4.770999908447266, -6.930099964141846, -6.821000099182129, -6.821899890899658, -7.053999900817871, -7.482399940490723, -7.1940999031066895, -5.6905999183654785, -5.147600173950195, -5.798399925231934, -6.03249979019165, -4.892000198364258, -5.77839994430542, -4.726500034332275, -5.868800163269043, -4.844900131225586, -6.512800216674805, -6.757900238037109, -5.041399955749512, -5.563199996948242, -6.6203999519348145, -4.440000057220459, -6.401299953460693, -5.526899814605713, -5.027699947357178, -5.419600009918213, -5.8653998374938965, -5.17110013961792, -5.525199890136719, -5.301499843597412, -5.105000019073486, -5.83650016784668, -5.678800106048584, -5.7642998695373535, -5.7322001457214355, -5.6905999183654785, -5.781499862670898, -5.660999774932861, -5.709400177001953, -5.76200008392334, -5.774700164794922, -5.787300109863281, -5.5295000076293945, -6.727200031280518, -7.082499980926514, -7.004899978637695, -6.683499813079834, -7.178400039672852, -6.596199989318848, -6.970600128173828, -7.135200023651123, -5.959700107574463, -7.709199905395508, -6.900100231170654, -6.416500091552734, -6.792300224304199, -7.738699913024902, -7.122300148010254, -6.081500053405762, -6.29449987411499, -7.748199939727783, -7.75600004196167, -6.657800197601318, -7.407700061798096, -7.0671000480651855, -7.414999961853027, -6.326399803161621, -7.5329999923706055, -6.847499847412109, -7.446400165557861, -6.987800121307373, -7.19189977645874, -5.678699970245361, -5.904399871826172, -6.258800029754639, -6.546800136566162, -6.291999816894531, -6.3572001457214355, -6.821499824523926, -6.1768999099731445, -6.442299842834473, -5.884300231933594, -6.507800102233887, -4.662199974060059, -6.036600112915039, -6.384900093078613, -5.844699859619141, -5.788700103759766, -5.726200103759766, -5.894599914550781, -5.240600109100342, -5.926599979400635, -5.552299976348877, -4.853600025177002, -5.779699802398682, -5.770999908447266, -5.362599849700928, -5.548799991607666, -5.4807000160217285, -5.814899921417236, -5.286099910736084, -5.569699764251709, -5.281899929046631, -5.551400184631348, -5.5355000495910645, -5.507599830627441, -5.553400039672852, -5.882400035858154, -5.814499855041504, -5.7067999839782715, -5.78380012512207, -5.770599842071533, -5.840199947357178, -6.040999889373779, -6.138500213623047, -6.623000144958496, -7.007999897003174, -6.747399806976318, -6.879300117492676, -6.268799781799316, -7.404300212860107, -7.303500175476074, -7.412499904632568, -7.532899856567383, -6.355500221252441, -7.537600040435791, -6.788700103759766, -6.159800052642822, -6.919099807739258, -7.548799991607666, -5.736199855804443, -7.436600208282471, -7.695899963378906, -7.695899963378906, -7.567699909210205, -6.759500026702881, -6.473499774932861, -7.093299865722656, -7.579400062561035, -7.020699977874756, -7.463200092315674, -6.953199863433838, -7.718500137329102, -3.7335000038146973, -7.100399971008301, -5.644999980926514, -6.480599880218506, -6.411499977111816, -6.337800025939941, -6.642000198364258, -6.233099937438965, -6.87529993057251, -6.5569000244140625, -6.474899768829346, -5.504899978637695, -5.899899959564209, -6.006100177764893, -5.955100059509277, -6.071800231933594, -5.974100112915039, -5.714200019836426, -5.9527997970581055, -6.082200050354004, -5.173999786376953, -5.340199947357178, -5.3277997970581055, -6.024099826812744, -5.67080020904541, -5.726200103759766, -5.570300102233887, -5.555500030517578, -5.779799938201904, -5.797299861907959, -6.012199878692627, -5.929900169372559, -5.8531999588012695, -6.004000186920166, -5.951399803161621, -6.07420015335083, -6.0441999435424805, -6.054100036621094]}, \"token.table\": {\"Topic\": [1, 1, 2, 3, 2, 3, 1, 2, 3, 1, 3, 4, 1, 2, 3, 1, 2, 3, 4, 1, 2, 4, 1, 4, 1, 1, 2, 3, 4, 1, 3, 4, 4, 1, 4, 1, 2, 3, 4, 1, 2, 3, 1, 2, 3, 4, 1, 2, 3, 4, 1, 1, 2, 3, 4, 2, 3, 1, 3, 4, 2, 3, 4, 1, 3, 4, 1, 3, 4, 1, 2, 3, 4, 1, 1, 1, 3, 1, 2, 3, 4, 1, 4, 1, 3, 2, 3, 1, 2, 3, 4, 2, 3, 1, 1, 2, 3, 4, 1, 2, 3, 4, 2, 3, 2, 3, 2, 3, 1, 2, 3, 1, 3, 4, 1, 2, 4, 1, 2, 3, 4, 1, 2, 3, 4, 1, 3, 4, 2, 3, 4, 2, 3, 1, 2, 3, 4, 1, 2, 3, 4, 1, 2, 3, 4, 1, 4, 4, 1, 2, 3, 4, 1, 2, 3, 4, 1, 2, 3, 4, 2, 3, 1, 3, 1, 2, 3, 4, 1, 2, 3, 4, 1, 2, 4, 1, 2, 3, 4, 1, 3, 1, 2, 3, 4, 1, 2, 3, 4, 1, 3, 4, 1, 2, 3, 4, 4, 3, 4, 1, 2, 3, 4, 1, 2, 3, 4, 1, 2, 3, 4, 1, 2, 3, 4, 1, 3, 4, 1, 3, 4, 4, 1, 2, 3, 4, 1, 4, 2, 3, 1, 4, 2, 4, 1, 2, 3, 4, 1, 2, 3, 4, 1, 2, 3, 4, 1, 3, 4, 1, 3, 2, 1, 3, 4, 1, 2, 3, 4, 1, 4, 1, 2, 3, 4, 3, 1, 2, 3, 4, 1, 2, 3, 4, 1, 2, 1, 4, 1, 4, 1, 2, 3, 4, 1, 2, 3, 4, 1, 3, 2, 3, 1, 3, 4, 2, 3, 1, 2, 3, 4, 2, 1, 2, 3, 4, 1, 2, 3, 4, 1, 2, 3, 4, 4, 2, 2, 3, 2, 4, 2, 3, 4, 1, 3, 1, 2, 3, 4, 4, 2, 3, 1, 4, 3, 4, 1, 2, 3, 4, 2, 3, 1, 2, 3, 4, 1, 1, 4, 1, 2, 3, 4, 1, 4, 1, 2, 3, 4, 1, 2, 3, 4, 1, 2, 3, 4, 2, 3, 2, 3, 1, 2, 3, 4, 2, 3, 1, 2, 3, 2, 3, 1, 4, 1, 2, 3, 4, 1, 3, 4, 1, 4, 1, 4, 1, 3, 4, 1, 2, 3, 4, 2, 3, 1, 2, 3, 4, 1, 2, 3, 4, 1, 2, 3, 4, 1, 2, 3, 4, 1, 2, 3, 4, 2, 3, 2, 3, 2, 1, 2, 3, 4, 1, 2, 3, 4, 1, 2, 3, 4, 2, 3, 2, 3, 2, 1, 3, 4, 1, 3, 4, 4, 4, 1, 2, 3, 4, 2, 3, 1, 4, 1, 4, 1, 2, 3, 4, 1, 4, 1, 2, 3, 4, 1, 4, 1, 2, 3, 4, 1, 2, 3, 4, 1, 3, 1, 2, 4, 1, 2, 1, 3, 4, 1, 2, 3, 4, 1, 4, 1, 2, 3, 4, 1, 3, 4, 1, 4, 1, 2, 3, 4, 3, 1, 2, 3, 4, 1, 2, 3, 4, 4, 1, 2, 3, 4, 2, 3, 1, 2, 3, 4, 1, 2, 3, 4, 1, 3, 4, 1, 3, 4, 1, 2, 3, 4, 4, 1, 2, 3, 4, 2, 3, 1, 2, 3, 4, 1, 3, 4, 1, 3, 2, 3, 4, 1, 2, 3, 4, 1, 2, 3, 4, 1, 2, 3, 4, 1, 2, 3, 4, 4, 4, 1, 4, 1, 2, 3, 4, 1, 3, 4, 1, 2, 3, 4, 1, 2, 3, 4, 1, 3, 4, 3, 4, 1, 2, 3, 4, 1, 2, 3, 4, 1, 3, 4, 4, 1, 3, 4, 3, 1, 1, 3, 4, 1, 2, 3, 4, 3, 1, 2, 4, 1, 3, 1, 3, 4, 1, 3, 4, 1, 2, 3, 4, 1, 2, 3, 4, 1, 2, 3, 4, 2, 1, 3, 4, 1, 4, 4, 1, 4, 1, 1, 2, 3, 4, 2, 3, 1, 2, 3, 4, 1, 4, 1, 1, 2, 3, 4, 1, 2, 3, 4, 1, 2, 3, 4, 2, 3, 4, 1, 2, 3, 4, 1, 2, 3, 4, 1, 2, 3, 4], \"Freq\": [0.9504612684249878, 0.9664369225502014, 0.9444361329078674, 0.04885014519095421, 0.9653271436691284, 0.026089921593666077, 0.9629582762718201, 0.9523813128471375, 0.04535149037837982, 0.10170469433069229, 0.8136375546455383, 0.10170469433069229, 0.9593778252601624, 0.12653402984142303, 0.8224712014198303, 0.05133223161101341, 0.3208264410495758, 0.5518214702606201, 0.07699834555387497, 0.15620218217372894, 0.11715163290500641, 0.741960346698761, 0.900413453578949, 0.09282612800598145, 0.9600913524627686, 0.13610468804836273, 0.23440250754356384, 0.38562992215156555, 0.24196387827396393, 0.07348977029323578, 0.07348977029323578, 0.8818772435188293, 0.8296105861663818, 0.07881192862987518, 0.8669312000274658, 0.8096275925636292, 0.03175010159611702, 0.04762515425682068, 0.11112535744905472, 0.02263997495174408, 0.905599057674408, 0.06791992485523224, 0.18598605692386627, 0.6867177486419678, 0.10729964822530746, 0.021459929645061493, 0.8543965220451355, 0.09789960086345673, 0.04449981823563576, 0.008899963460862637, 0.9630143642425537, 0.066375233232975, 0.501501739025116, 0.36875128746032715, 0.066375233232975, 0.9592164158821106, 0.03881222382187843, 0.9697670936584473, 0.013104960322380066, 0.013104960322380066, 0.9612232446670532, 0.03347543627023697, 0.004782204981893301, 0.07834307104349136, 0.7834306955337524, 0.07834307104349136, 0.8780922889709473, 0.021952306851744652, 0.10976153612136841, 0.13205786049365997, 0.49301600456237793, 0.026411570608615875, 0.34335044026374817, 0.9160062670707703, 0.9552770853042603, 0.9746928215026855, 0.8689219355583191, 0.8720017671585083, 0.02356761507689953, 0.005891903769224882, 0.09427046030759811, 0.9523366689682007, 0.048837777227163315, 0.9586262106895447, 0.03195420652627945, 0.9288104772567749, 0.0627574622631073, 0.31961557269096375, 0.279663622379303, 0.09588467329740524, 0.2956444025039673, 0.9757393598556519, 0.01355193555355072, 0.9632651209831238, 0.11935944855213165, 0.20291106402873993, 0.4655018448829651, 0.21484701335430145, 0.03827811777591705, 0.019139058887958527, 0.7081452012062073, 0.24880777299404144, 0.9346848130226135, 0.06008687987923622, 0.9485969543457031, 0.03161989897489548, 0.9598192572593689, 0.041731271892786026, 0.07233154773712158, 0.07233154773712158, 0.7956469655036926, 0.09285349398851395, 0.11142419278621674, 0.7985400557518005, 0.042619720101356506, 0.042619720101356506, 0.8950141668319702, 0.27471935749053955, 0.7122353911399841, 0.01017479132860899, 0.01017479132860899, 0.15679973363876343, 0.12319979071617126, 0.4591992199420929, 0.2575995624065399, 0.07790862768888474, 0.8569948673248291, 0.03895431384444237, 0.9516255259513855, 0.030697597190737724, 0.015348798595368862, 0.9160332679748535, 0.07741126418113708, 0.022553525865077972, 0.7668198347091675, 0.19170495867729187, 0.022553525865077972, 0.04167238622903824, 0.6584237217903137, 0.27920499444007874, 0.02083619311451912, 0.3085542917251587, 0.07052669674158096, 0.4496076703071594, 0.16750089824199677, 0.8239597082138062, 0.15626822412014008, 0.8282968401908875, 0.05762718617916107, 0.24491554498672485, 0.24491554498672485, 0.446610689163208, 0.16281326115131378, 0.2558494210243225, 0.43029218912124634, 0.15118373930454254, 0.1738268882036209, 0.04345672205090523, 0.6953075528144836, 0.10864180326461792, 0.9629960060119629, 0.04012483358383179, 0.930737316608429, 0.87066251039505, 0.12706084549427032, 0.12706084549427032, 0.2700043022632599, 0.46059557795524597, 0.9247216582298279, 0.024992477148771286, 0.024992477148771286, 0.024992477148771286, 0.7995818853378296, 0.19094492495059967, 0.01193405780941248, 0.4432259500026703, 0.4432259500026703, 0.05390585958957672, 0.05989539995789528, 0.9261271357536316, 0.06387083232402802, 0.005106207448989153, 0.7250814437866211, 0.2629696726799011, 0.007659310940653086, 0.044209130108356476, 0.20630928874015808, 0.5894550681114197, 0.162100151181221, 0.15098872780799866, 0.7549436092376709, 0.11324154585599899, 0.25486934185028076, 0.23842616379261017, 0.27953413128852844, 0.23020458221435547, 0.8864923119544983, 0.8672972321510315, 0.07227476686239243, 0.5758355259895325, 0.22875656187534332, 0.11043420433998108, 0.08676972985267639, 0.08951587229967117, 0.2193138748407364, 0.5594741702079773, 0.1297980099916458, 0.48922011256217957, 0.20494356751441956, 0.27105438709259033, 0.03305541351437569, 0.1256573647260666, 0.31115156412124634, 0.4188578724861145, 0.14360842108726501, 0.06764489412307739, 0.04509659484028816, 0.8793835639953613, 0.18381062150001526, 0.7658776044845581, 0.030635103583335876, 0.9360893964767456, 0.2956511676311493, 0.10434746742248535, 0.03478248789906502, 0.5739110708236694, 0.19941449165344238, 0.7976579666137695, 0.9417567849159241, 0.03363417088985443, 0.8643043041229248, 0.12004226446151733, 0.0651763454079628, 0.9124689102172852, 0.6684903502464294, 0.07311613112688065, 0.031335484236478806, 0.22979356348514557, 0.09286055713891983, 0.03095352090895176, 0.7428844571113586, 0.12381408363580704, 0.25305014848709106, 0.2226841300725937, 0.13158607482910156, 0.40488022565841675, 0.06398285180330276, 0.7677942514419556, 0.12796570360660553, 0.08416955918073654, 0.925865113735199, 0.9210993051528931, 0.05498984083533287, 0.8248476386070251, 0.10997968167066574, 0.6964442133903503, 0.0939025953412056, 0.10172780603170395, 0.11737824231386185, 0.17592762410640717, 0.8356562256813049, 0.19609199464321136, 0.03268199786543846, 0.7190039753913879, 0.03268199786543846, 0.9312253594398499, 0.023116033524274826, 0.45076265931129456, 0.4738786816596985, 0.04623206704854965, 0.0421813428401947, 0.5314849019050598, 0.3205781877040863, 0.10123521834611893, 0.9521916508674622, 0.03526635840535164, 0.9691071510314941, 0.026919644325971603, 0.8174630403518677, 0.16868285834789276, 0.636177122592926, 0.13144154846668243, 0.05257662013173103, 0.18401816487312317, 0.2955645024776459, 0.25246134400367737, 0.32019490003585815, 0.12930947542190552, 0.1446388214826584, 0.8678329586982727, 0.934931218624115, 0.03595889359712601, 0.03546444699168205, 0.7447534203529358, 0.2127866894006729, 0.9627320766448975, 0.04011383652687073, 0.6750624179840088, 0.16072915494441986, 0.10715276747941971, 0.053576383739709854, 0.9744293093681335, 0.05964435636997223, 0.5036634802818298, 0.3644932806491852, 0.07289865612983704, 0.2632693648338318, 0.016454335302114487, 0.6252647638320923, 0.08227168023586273, 0.2805192768573761, 0.447637140750885, 0.1671178638935089, 0.1014644205570221, 0.8876832723617554, 0.980390727519989, 0.9263929128646851, 0.057899557054042816, 0.08504689484834671, 0.8504689335823059, 0.1017921194434166, 0.8143369555473328, 0.1017921194434166, 0.050412822514772415, 0.9074307680130005, 0.09642765671014786, 0.04821382835507393, 0.8196350336074829, 0.04821382835507393, 0.9472326636314392, 0.9810298681259155, 0.013817321509122849, 0.9451647400856018, 0.03203948214650154, 0.9530615210533142, 0.0183281060308218, 0.013900025747716427, 0.8757016658782959, 0.07876681536436081, 0.027800051495432854, 0.9321418404579163, 0.05483187362551689, 0.7542436718940735, 0.012783790938556194, 0.07670274376869202, 0.15340548753738403, 0.9640353322029114, 0.8728713989257812, 0.10580259561538696, 0.03813249617815018, 0.6800295114517212, 0.1906624734401703, 0.09533123672008514, 0.07916027307510376, 0.9103431701660156, 0.7762628197669983, 0.07432303577661514, 0.12387172132730484, 0.024774344637989998, 0.1783587485551834, 0.24695825576782227, 0.30641117691993713, 0.2652514576911926, 0.7098777890205383, 0.09137040376663208, 0.021085478365421295, 0.17571231722831726, 0.9377501010894775, 0.05209722742438316, 0.9479545950889587, 0.02369886450469494, 0.09323801845312119, 0.4607055187225342, 0.3400445282459259, 0.10969178378582001, 0.9759047627449036, 0.016825944185256958, 0.13011236488819122, 0.8550240993499756, 0.00929374061524868, 0.9633131623268127, 0.026758698746562004, 0.12258836627006531, 0.8581185340881348, 0.1230536699295044, 0.5245972275733948, 0.2137247920036316, 0.1360066831111908, 0.11299867182970047, 0.7909906506538391, 0.11299867182970047, 0.4986424744129181, 0.4986424744129181, 0.18271410465240479, 0.767399251461029, 0.8418248891830444, 0.029537715017795563, 0.13291971385478973, 0.25532862544059753, 0.4642338752746582, 0.17989061772823334, 0.10445261746644974, 0.9453643560409546, 0.032598771154880524, 0.3317584991455078, 0.21535201370716095, 0.2968365550041199, 0.151328444480896, 0.18747298419475555, 0.09373649209737778, 0.5467962026596069, 0.17185023427009583, 0.10330204665660858, 0.05165102332830429, 0.7747653722763062, 0.06886803358793259, 0.050610970705747604, 0.050610970705747604, 0.8603864908218384, 0.025305485352873802, 0.03706555813550949, 0.9451717138290405, 0.018532779067754745, 0.004633194766938686, 0.9587883949279785, 0.028199659660458565, 0.985668957233429, 0.014495132490992546, 0.9601231813430786, 0.3877210319042206, 0.28002074360847473, 0.294380784034729, 0.03590009734034538, 0.0423850417137146, 0.6272985935211182, 0.28821828961372375, 0.03390803188085556, 0.030797744169831276, 0.9290652871131897, 0.035930704325437546, 0.005132957361638546, 0.9377241134643555, 0.04630736634135246, 0.9390695095062256, 0.052170529961586, 0.9393141269683838, 0.19377020001411438, 0.7750808000564575, 0.021530022844672203, 0.10171772539615631, 0.8137418031692505, 0.10171772539615631, 0.859584629535675, 0.8305479884147644, 0.13775089383125305, 0.21810558438301086, 0.08035469055175781, 0.5624828338623047, 0.9625226259231567, 0.04010510817170143, 0.9630009531974792, 0.9400168657302856, 0.10368043184280396, 0.8985637426376343, 0.6338368654251099, 0.10390768200159073, 0.02424512431025505, 0.23898765444755554, 0.4366227388381958, 0.5457784533500671, 0.49704062938690186, 0.29822438955307007, 0.09940812736749649, 0.10650870949029922, 0.9639256000518799, 0.94703209400177, 0.3425193130970001, 0.2740154564380646, 0.2318592220544815, 0.14754678308963776, 0.16032758355140686, 0.08016379177570343, 0.7214741706848145, 0.05344253033399582, 0.9660331010818481, 0.014000480063259602, 0.0647491067647934, 0.0647491067647934, 0.8417383432388306, 0.9442102313041687, 0.03934209421277046, 0.9506237506866455, 0.1378585547208786, 0.8271512985229492, 0.1278185248374939, 0.375466912984848, 0.20770509541034698, 0.29558032751083374, 0.07372328639030457, 0.8846794366836548, 0.08154194056987762, 0.08154194056987762, 0.04077097028493881, 0.8154193758964539, 0.9745998978614807, 0.0060912491753697395, 0.018273748457431793, 0.9131896495819092, 0.07609913498163223, 0.2258206009864807, 0.19976437091827393, 0.33873090147972107, 0.2345060110092163, 0.9246713519096375, 0.07065828889608383, 0.44964367151260376, 0.3275975286960602, 0.15416353940963745, 0.16196070611476898, 0.040490176528692245, 0.7693133354187012, 0.040490176528692245, 0.7876558303833008, 0.3367973268032074, 0.56520015001297, 0.08516713976860046, 0.011613701470196247, 0.9350378513336182, 0.035962995141744614, 0.7379631400108337, 0.119026318192482, 0.055545613169670105, 0.08728596568107605, 0.7392346262931824, 0.16993899643421173, 0.059478648006916046, 0.04248474910855293, 0.1310104876756668, 0.0873403251171112, 0.7423927783966064, 0.8127853870391846, 0.023558996617794037, 0.16491298377513885, 0.9593017101287842, 0.15637290477752686, 0.09382374584674835, 0.7505899667739868, 0.8616510033607483, 0.7238863706588745, 0.0044139414094388485, 0.013241824693977833, 0.26042255759239197, 0.956516444683075, 0.043478019535541534, 0.7747910022735596, 0.004695702809840441, 0.004695702809840441, 0.2206980288028717, 0.9588148593902588, 0.8154497146606445, 0.10193121433258057, 0.14488931000232697, 0.8693358302116394, 0.9457411170005798, 0.024887923151254654, 0.024887923151254654, 0.026873763650655746, 0.8384614586830139, 0.09137079864740372, 0.042998023331165314, 0.4860329329967499, 0.3693850338459015, 0.05832395330071449, 0.0842457115650177, 0.588266909122467, 0.28503653407096863, 0.07883989065885544, 0.048516858369112015, 0.5691494941711426, 0.2946185767650604, 0.02678350731730461, 0.10713402926921844, 0.9792361259460449, 0.9655474424362183, 0.06531479954719543, 0.9144072532653809, 0.655164361000061, 0.17611944675445557, 0.04931344836950302, 0.11271645128726959, 0.8824138641357422, 0.04769804701209068, 0.04769804701209068, 0.6759023666381836, 0.10775254666805267, 0.14693528413772583, 0.07836548984050751, 0.04966229945421219, 0.3145278990268707, 0.11587869375944138, 0.5131770968437195, 0.16864809393882751, 0.7870243787765503, 0.056216027587652206, 0.08471441268920898, 0.8471441268920898, 0.21459637582302094, 0.670613706111908, 0.0804736390709877, 0.01788303256034851, 0.22169186174869537, 0.03167026489973068, 0.5700647830963135, 0.17418645322322845, 0.8638672828674316, 0.02399631217122078, 0.1199815645813942, 0.8302850723266602, 0.9394751787185669, 0.01220097579061985, 0.0366029292345047, 0.9173428416252136, 0.9718212485313416, 0.0538664236664772, 0.754129946231842, 0.1615992784500122, 0.05632389709353447, 0.11264779418706894, 0.8448584675788879, 0.05632389709353447, 0.9492255449295044, 0.061410725116729736, 0.061410725116729736, 0.8597501516342163, 0.0560498982667923, 0.9528482556343079, 0.10155295580625534, 0.8124236464500427, 0.06770197302103043, 0.5785254240036011, 0.05030655860900879, 0.3772991895675659, 0.168031707406044, 0.595748782157898, 0.168031707406044, 0.06874024122953415, 0.25854092836380005, 0.6424350738525391, 0.031338296830654144, 0.07051116973161697, 0.1314713954925537, 0.03286784887313843, 0.7559605240821838, 0.09860354661941528, 0.9530676603317261, 0.16382326185703278, 0.002874092198908329, 0.8306126594543457, 0.13796012103557587, 0.8737474083900452, 0.8620502352714539, 0.49432602524757385, 0.49432602524757385, 0.9594378471374512, 0.7644165754318237, 0.08377168327569962, 0.010471460409462452, 0.1361289769411087, 0.9389435052871704, 0.05144895985722542, 0.058008916676044464, 0.6328245401382446, 0.28477105498313904, 0.026367688551545143, 0.4489382803440094, 0.5465335845947266, 0.9449506402015686, 0.33564603328704834, 0.28264927864074707, 0.20020991563796997, 0.18843285739421844, 0.3385491371154785, 0.2761848270893097, 0.11581944674253464, 0.2672756314277649, 0.3313969671726227, 0.21030960977077484, 0.16569848358631134, 0.2931588590145111, 0.07803609222173691, 0.8583970069885254, 0.07803609222173691, 0.10896074771881104, 0.7471594214439392, 0.08561202138662338, 0.06226328760385513, 0.22994592785835266, 0.22994592785835266, 0.2140875905752182, 0.33302512764930725, 0.19265301525592804, 0.6138014793395996, 0.08960605412721634, 0.10752726346254349], \"Term\": [\"Captain Ahab\", \"Captain Peleg\", \"Lady Catherine\", \"Lady Catherine\", \"Miss Bingley\", \"Miss Bingley\", \"New Bedford\", \"Van Helsing\", \"Van Helsing\", \"abhor\", \"abhor\", \"abhor\", \"aboard\", \"accuse\", \"accuse\", \"affection\", \"affection\", \"affection\", \"affection\", \"agatha\", \"agatha\", \"agatha\", \"ahab\", \"ahab\", \"ain\", \"appear\", \"appear\", \"appear\", \"appear\", \"arabian\", \"arabian\", \"arabian\", \"ardent\", \"ardour\", \"ardour\", \"arm\", \"arm\", \"arm\", \"arm\", \"arthur\", \"arthur\", \"arthur\", \"ask\", \"ask\", \"ask\", \"ask\", \"bed\", \"bed\", \"bed\", \"bed\", \"bedford\", \"believe\", \"believe\", \"believe\", \"believe\", \"bennet\", \"bennet\", \"bildad\", \"bildad\", \"bildad\", \"bingley\", \"bingley\", \"bingley\", \"bitterly\", \"bitterly\", \"bitterly\", \"board\", \"board\", \"board\", \"book\", \"book\", \"book\", \"book\", \"boot\", \"bulwark\", \"cannibal\", \"caprice\", \"captain\", \"captain\", \"captain\", \"captain\", \"captain_ahab\", \"captain_ahab\", \"captain_peleg\", \"captain_peleg\", \"catherine\", \"catherine\", \"chapter\", \"chapter\", \"chapter\", \"chapter\", \"charlotte\", \"charlotte\", \"chest\", \"child\", \"child\", \"child\", \"child\", \"clerval\", \"clerval\", \"clerval\", \"clerval\", \"collins\", \"collins\", \"colonel\", \"colonel\", \"colonel_fitzwilliam\", \"colonel_fitzwilliam\", \"console\", \"console\", \"console\", \"cottage\", \"cottage\", \"cottage\", \"cottager\", \"cottager\", \"cottager\", \"count\", \"count\", \"count\", \"count\", \"creature\", \"creature\", \"creature\", \"creature\", \"crime\", \"crime\", \"crime\", \"dance\", \"dance\", \"dance\", \"darcy\", \"darcy\", \"daughter\", \"daughter\", \"daughter\", \"daughter\", \"dear\", \"dear\", \"dear\", \"dear\", \"death\", \"death\", \"death\", \"death\", \"deck\", \"deck\", \"dedicate\", \"delight\", \"delight\", \"delight\", \"delight\", \"desire\", \"desire\", \"desire\", \"desire\", \"despair\", \"despair\", \"despair\", \"despair\", \"diary\", \"diary\", \"didn\", \"disclose\", \"discover\", \"discover\", \"discover\", \"discover\", \"dog\", \"dog\", \"dog\", \"dog\", \"don\", \"don\", \"don\", \"door\", \"door\", \"door\", \"door\", \"driver\", \"driver\", \"elizabeth\", \"elizabeth\", \"elizabeth\", \"elizabeth\", \"endeavour\", \"endeavour\", \"endeavour\", \"endeavour\", \"enemy\", \"enemy\", \"enemy\", \"enter\", \"enter\", \"enter\", \"enter\", \"enterprise\", \"ernest\", \"ernest\", \"face\", \"face\", \"face\", \"face\", \"father\", \"father\", \"father\", \"father\", \"fear\", \"fear\", \"fear\", \"fear\", \"feeling\", \"feeling\", \"feeling\", \"feeling\", \"felix\", \"felix\", \"felix\", \"fiend\", \"fiend\", \"fiend\", \"fin\", \"fish\", \"fish\", \"fish\", \"fish\", \"fishery\", \"fishery\", \"fitzwilliam\", \"fitzwilliam\", \"flask\", \"flask\", \"folio\", \"folio\", \"foot\", \"foot\", \"foot\", \"foot\", \"forever\", \"forever\", \"forever\", \"forever\", \"form\", \"form\", \"form\", \"form\", \"frankenstein\", \"frankenstein\", \"frankenstein\", \"fulfil\", \"fulfil\", \"gardiner\", \"geneva\", \"geneva\", \"geneva\", \"god\", \"god\", \"god\", \"god\", \"greenland\", \"greenland\", \"grief\", \"grief\", \"grief\", \"grief\", \"guilt\", \"happiness\", \"happiness\", \"happiness\", \"happiness\", \"happy\", \"happy\", \"happy\", \"happy\", \"harbour\", \"harbour\", \"harpoon\", \"harpoon\", \"harpooneer\", \"harpooneer\", \"head\", \"head\", \"head\", \"head\", \"heart\", \"heart\", \"heart\", \"heart\", \"hellish\", \"hellish\", \"helsing\", \"helsing\", \"henry\", \"henry\", \"henry\", \"hertfordshire\", \"hertfordshire\", \"hold\", \"hold\", \"hold\", \"hold\", \"holmwood\", \"hope\", \"hope\", \"hope\", \"hope\", \"horror\", \"horror\", \"horror\", \"horror\", \"house\", \"house\", \"house\", \"house\", \"hovel\", \"hurst\", \"husband\", \"husband\", \"iii\", \"iii\", \"inflict\", \"inflict\", \"inflict\", \"innocence\", \"innocence\", \"innocent\", \"innocent\", \"innocent\", \"innocent\", \"inward\", \"jane\", \"jane\", \"jonah\", \"jonah\", \"justine\", \"justine\", \"lady\", \"lady\", \"lady\", \"lady\", \"lady_catherine\", \"lady_catherine\", \"land\", \"land\", \"land\", \"land\", \"landlord\", \"leg\", \"leg\", \"letter\", \"letter\", \"letter\", \"letter\", \"leviathan\", \"leviathan\", \"lie\", \"lie\", \"lie\", \"lie\", \"life\", \"life\", \"life\", \"life\", \"light\", \"light\", \"light\", \"light\", \"lizzy\", \"lizzy\", \"longbourn\", \"longbourn\", \"love\", \"love\", \"love\", \"love\", \"lucas\", \"lucas\", \"lucy\", \"lucy\", \"lucy\", \"lydia\", \"lydia\", \"majestic\", \"majestic\", \"manner\", \"manner\", \"manner\", \"manner\", \"many months\", \"many months\", \"many months\", \"mast\", \"mast\", \"mast_head\", \"mast_head\", \"mate\", \"mate\", \"mate\", \"mean\", \"mean\", \"mean\", \"mean\", \"meryton\", \"meryton\", \"mind\", \"mind\", \"mind\", \"mind\", \"miserable\", \"miserable\", \"miserable\", \"miserable\", \"misery\", \"misery\", \"misery\", \"misery\", \"misfortune\", \"misfortune\", \"misfortune\", \"misfortune\", \"miss\", \"miss\", \"miss\", \"miss\", \"miss_bennet\", \"miss_bennet\", \"miss_bingley\", \"miss_bingley\", \"miss_lucas\", \"moment\", \"moment\", \"moment\", \"moment\", \"mother\", \"mother\", \"mother\", \"mother\", \"mrs\", \"mrs\", \"mrs\", \"mrs\", \"mrs_bennet\", \"mrs_bennet\", \"mrs_collins\", \"mrs_collins\", \"mrs_hurst\", \"murder\", \"murder\", \"murder\", \"murderer\", \"murderer\", \"murderer\", \"nation\", \"naturalist\", \"nature\", \"nature\", \"nature\", \"nature\", \"netherfield\", \"netherfield\", \"new_bedford\", \"octavo\", \"oil\", \"oil\", \"old\", \"old\", \"old\", \"old\", \"old_man\", \"old_man\", \"open\", \"open\", \"open\", \"open\", \"pagan\", \"paradise\", \"pass\", \"pass\", \"pass\", \"pass\", \"peace\", \"peace\", \"peace\", \"peace\", \"peleg\", \"peleg\", \"philosophy\", \"philosophy\", \"philosophy\", \"pier\", \"pier\", \"pot\", \"practical\", \"practical\", \"present\", \"present\", \"present\", \"present\", \"protector\", \"protector\", \"pursuit\", \"pursuit\", \"pursuit\", \"pursuit\", \"queequeg\", \"queequeg\", \"queequeg\", \"queer\", \"queer\", \"remain\", \"remain\", \"remain\", \"remain\", \"remorse\", \"return\", \"return\", \"return\", \"return\", \"revenge\", \"revenge\", \"revenge\", \"revenge\", \"reverence\", \"room\", \"room\", \"room\", \"room\", \"rosings\", \"rosings\", \"round\", \"round\", \"round\", \"round\", \"run\", \"run\", \"run\", \"run\", \"safie\", \"safie\", \"safie\", \"sail\", \"sail\", \"sail\", \"sand\", \"science\", \"science\", \"science\", \"scientific\", \"sea\", \"sea\", \"sea\", \"sea\", \"seward\", \"seward\", \"ship\", \"ship\", \"ship\", \"ship\", \"shipmate\", \"sicken\", \"sicken\", \"sickness\", \"sickness\", \"sir_william\", \"sir_william\", \"sir_william\", \"sister\", \"sister\", \"sister\", \"sister\", \"sit\", \"sit\", \"sit\", \"sit\", \"sleep\", \"sleep\", \"sleep\", \"sleep\", \"sort\", \"sort\", \"sort\", \"sort\", \"sperm\", \"sperm_whale\", \"spout\", \"spout\", \"stand\", \"stand\", \"stand\", \"stand\", \"storm\", \"storm\", \"storm\", \"strange\", \"strange\", \"strange\", \"strange\", \"study\", \"study\", \"study\", \"study\", \"suffering\", \"suffering\", \"suffering\", \"swim\", \"swim\", \"talk\", \"talk\", \"talk\", \"talk\", \"tear\", \"tear\", \"tear\", \"tear\", \"thee\", \"thee\", \"thee\", \"thomas\", \"thou\", \"thou\", \"thou\", \"threat\", \"tomahawk\", \"torture\", \"torture\", \"torture\", \"tranquillity\", \"tranquillity\", \"tranquillity\", \"tranquillity\", \"union\", \"utterly\", \"utterly\", \"utterly\", \"victim\", \"victim\", \"victor\", \"victor\", \"victor\", \"voyage\", \"voyage\", \"voyage\", \"walk\", \"walk\", \"walk\", \"walk\", \"want\", \"want\", \"want\", \"want\", \"weep\", \"weep\", \"weep\", \"weep\", \"westenra\", \"whale\", \"whale\", \"whale\", \"whale_ship\", \"whale_ship\", \"whales\", \"whaling\", \"whaling\", \"wharf\", \"white\", \"white\", \"white\", \"white\", \"wickham\", \"wickham\", \"wish\", \"wish\", \"wish\", \"wish\", \"wood\", \"wood\", \"wooden\", \"word\", \"word\", \"word\", \"word\", \"work\", \"work\", \"work\", \"work\", \"world\", \"world\", \"world\", \"world\", \"wretchedness\", \"wretchedness\", \"wretchedness\", \"write\", \"write\", \"write\", \"write\", \"year\", \"year\", \"year\", \"year\", \"young\", \"young\", \"young\", \"young\"]}, \"R\": 30, \"lambda.step\": 0.01, \"plot.opts\": {\"xlab\": \"PC1\", \"ylab\": \"PC2\"}, \"topic.order\": [2, 3, 4, 1]};\n",
       "\n",
       "function LDAvis_load_lib(url, callback){\n",
       "  var s = document.createElement('script');\n",
       "  s.src = url;\n",
       "  s.async = true;\n",
       "  s.onreadystatechange = s.onload = callback;\n",
       "  s.onerror = function(){console.warn(\"failed to load library \" + url);};\n",
       "  document.getElementsByTagName(\"head\")[0].appendChild(s);\n",
       "}\n",
       "\n",
       "if(typeof(LDAvis) !== \"undefined\"){\n",
       "   // already loaded: just create the visualization\n",
       "   !function(LDAvis){\n",
       "       new LDAvis(\"#\" + \"ldavis_el9724790808272250107552\", ldavis_el9724790808272250107552_data);\n",
       "   }(LDAvis);\n",
       "}else if(typeof define === \"function\" && define.amd){\n",
       "   // require.js is available: use it to load d3/LDAvis\n",
       "   require.config({paths: {d3: \"https://cdnjs.cloudflare.com/ajax/libs/d3/3.5.5/d3.min\"}});\n",
       "   require([\"d3\"], function(d3){\n",
       "      window.d3 = d3;\n",
       "      LDAvis_load_lib(\"https://cdn.rawgit.com/bmabey/pyLDAvis/files/ldavis.v1.0.0.js\", function(){\n",
       "        new LDAvis(\"#\" + \"ldavis_el9724790808272250107552\", ldavis_el9724790808272250107552_data);\n",
       "      });\n",
       "    });\n",
       "}else{\n",
       "    // require.js not available: dynamically load d3 & LDAvis\n",
       "    LDAvis_load_lib(\"https://cdnjs.cloudflare.com/ajax/libs/d3/3.5.5/d3.min.js\", function(){\n",
       "         LDAvis_load_lib(\"https://cdn.rawgit.com/bmabey/pyLDAvis/files/ldavis.v1.0.0.js\", function(){\n",
       "                 new LDAvis(\"#\" + \"ldavis_el9724790808272250107552\", ldavis_el9724790808272250107552_data);\n",
       "            })\n",
       "         });\n",
       "}\n",
       "</script>"
      ],
      "text/plain": [
       "<IPython.core.display.HTML object>"
      ]
     },
     "execution_count": 47,
     "metadata": {},
     "output_type": "execute_result"
    }
   ],
   "source": [
    "# plot topics\n",
    "data =  pyLDAvis.gensim.prepare(model, corpus, dictionary)\n",
    "pyLDAvis.display(data)"
   ]
  },
  {
   "cell_type": "code",
   "execution_count": 48,
   "metadata": {},
   "outputs": [],
   "source": [
    "# assignment\n",
    "sent_to_cluster = list()\n",
    "for n,doc in enumerate(corpus):\n",
    "    if doc:\n",
    "        cluster = max(model[doc],key=lambda x:x[1])\n",
    "        sent_to_cluster.append(cluster[0])"
   ]
  },
  {
   "cell_type": "code",
   "execution_count": 49,
   "metadata": {},
   "outputs": [
    {
     "name": "stdout",
     "output_type": "stream",
     "text": [
      "DRACULA.txt : 1 - 36\n",
      "Accuracy: 0.6\n",
      "------\n",
      "Frankenstein.txt : 3 - 40\n",
      "Accuracy: 0.6666666666666666\n",
      "------\n",
      "Moby_Dick.txt : 1 - 46\n",
      "Accuracy: 0.7666666666666667\n",
      "------\n",
      "PRIDE_AND_PREJUDICE.txt : 2 - 59\n",
      "Accuracy: 0.9833333333333333\n",
      "------\n"
     ]
    }
   ],
   "source": [
    "# accuracy\n",
    "from collections import Counter\n",
    "for book, cluster in book_id.items():\n",
    "    assignments = list()\n",
    "    for real,given in zip(chunk_class,sent_to_cluster):\n",
    "        if real == cluster:\n",
    "            assignments.append(given)\n",
    "    most_common,num_most_common = Counter(assignments).most_common(1)[0] # 4, 6 times\n",
    "    print(book,\":\",most_common,\"-\",num_most_common)\n",
    "    print(\"Accuracy:\",num_most_common/limit)\n",
    "    print(\"------\")"
   ]
  },
  {
   "cell_type": "markdown",
   "metadata": {},
   "source": [
    "# Task 4: Semantic analysis based on lexical categories"
   ]
  },
  {
   "cell_type": "code",
   "execution_count": 50,
   "metadata": {
    "collapsed": true
   },
   "outputs": [],
   "source": [
    "from empath import Empath\n",
    "lexicon = Empath()"
   ]
  },
  {
   "cell_type": "markdown",
   "metadata": {},
   "source": [
    "### Let's see what pre-build categories we can study! More information: https://hci.stanford.edu/publications/2016/ethan/empath-chi-2016.pdf"
   ]
  },
  {
   "cell_type": "code",
   "execution_count": 51,
   "metadata": {},
   "outputs": [
    {
     "name": "stdout",
     "output_type": "stream",
     "text": [
      "help\n",
      "office\n",
      "dance\n",
      "money\n",
      "wedding\n",
      "domestic_work\n",
      "sleep\n",
      "medical_emergency\n",
      "cold\n",
      "hate\n",
      "cheerfulness\n",
      "aggression\n",
      "occupation\n",
      "envy\n",
      "anticipation\n",
      "family\n",
      "vacation\n",
      "crime\n",
      "attractive\n",
      "masculine\n",
      "prison\n",
      "health\n",
      "pride\n",
      "dispute\n",
      "nervousness\n",
      "government\n",
      "weakness\n",
      "horror\n",
      "swearing_terms\n",
      "leisure\n",
      "suffering\n",
      "royalty\n",
      "wealthy\n",
      "tourism\n",
      "furniture\n",
      "school\n",
      "magic\n",
      "beach\n",
      "journalism\n",
      "morning\n",
      "banking\n",
      "social_media\n",
      "exercise\n",
      "night\n",
      "kill\n",
      "blue_collar_job\n",
      "art\n",
      "ridicule\n",
      "play\n",
      "computer\n",
      "college\n",
      "optimism\n",
      "stealing\n",
      "real_estate\n",
      "home\n",
      "divine\n",
      "sexual\n",
      "fear\n",
      "irritability\n",
      "superhero\n",
      "business\n",
      "driving\n",
      "pet\n",
      "childish\n",
      "cooking\n",
      "exasperation\n",
      "religion\n",
      "hipster\n",
      "internet\n",
      "surprise\n",
      "reading\n",
      "worship\n",
      "leader\n",
      "independence\n",
      "movement\n",
      "body\n",
      "noise\n",
      "eating\n",
      "medieval\n",
      "zest\n",
      "confusion\n",
      "water\n",
      "sports\n",
      "death\n",
      "healing\n",
      "legend\n",
      "heroic\n",
      "celebration\n",
      "restaurant\n",
      "violence\n",
      "programming\n",
      "dominant_heirarchical\n",
      "military\n",
      "neglect\n",
      "swimming\n",
      "exotic\n",
      "love\n",
      "hiking\n",
      "communication\n",
      "hearing\n",
      "order\n",
      "sympathy\n",
      "hygiene\n",
      "weather\n",
      "anonymity\n",
      "trust\n",
      "ancient\n",
      "deception\n",
      "fabric\n",
      "air_travel\n",
      "fight\n",
      "dominant_personality\n",
      "music\n",
      "vehicle\n",
      "politeness\n",
      "toy\n",
      "farming\n",
      "meeting\n",
      "war\n",
      "speaking\n",
      "listen\n",
      "urban\n",
      "shopping\n",
      "disgust\n",
      "fire\n",
      "tool\n",
      "phone\n",
      "gain\n",
      "sound\n",
      "injury\n",
      "sailing\n",
      "rage\n",
      "science\n",
      "work\n",
      "appearance\n",
      "valuable\n",
      "warmth\n",
      "youth\n",
      "sadness\n",
      "fun\n",
      "emotional\n",
      "joy\n",
      "affection\n",
      "traveling\n",
      "fashion\n",
      "ugliness\n",
      "lust\n",
      "shame\n",
      "torment\n",
      "economics\n",
      "anger\n",
      "politics\n",
      "ship\n",
      "clothing\n",
      "car\n",
      "strength\n",
      "technology\n",
      "breaking\n",
      "shape_and_size\n",
      "power\n",
      "white_collar_job\n",
      "animal\n",
      "party\n",
      "terrorism\n",
      "smell\n",
      "disappointment\n",
      "poor\n",
      "plant\n",
      "pain\n",
      "beauty\n",
      "timidity\n",
      "philosophy\n",
      "negotiate\n",
      "negative_emotion\n",
      "cleaning\n",
      "messaging\n",
      "competing\n",
      "law\n",
      "friends\n",
      "payment\n",
      "achievement\n",
      "alcohol\n",
      "liquid\n",
      "feminine\n",
      "weapon\n",
      "children\n",
      "monster\n",
      "ocean\n",
      "giving\n",
      "contentment\n",
      "writing\n",
      "rural\n",
      "positive_emotion\n",
      "musical\n",
      "festive_food\n",
      "healthy_food\n",
      "cold_war\n"
     ]
    }
   ],
   "source": [
    "for cat in lexicon.cats.keys():\n",
    "    print(cat)"
   ]
  },
  {
   "cell_type": "markdown",
   "metadata": {},
   "source": [
    "### For each category, we can examine representative terms"
   ]
  },
  {
   "cell_type": "code",
   "execution_count": 52,
   "metadata": {},
   "outputs": [
    {
     "data": {
      "text/plain": [
       "['pharmacist',\n",
       " 'physician',\n",
       " 'migraine',\n",
       " 'condition',\n",
       " 'dental',\n",
       " 'anesthesia',\n",
       " 'recovery',\n",
       " 'miscarriage',\n",
       " 'aspirin',\n",
       " 'liver',\n",
       " 'diagnosis',\n",
       " 'pharmacy',\n",
       " 'recuperate',\n",
       " 'allergy',\n",
       " 'patient',\n",
       " 'surgery',\n",
       " 'treatment',\n",
       " 'ulcer',\n",
       " 'psychologist',\n",
       " 'syndrome',\n",
       " 'abortion',\n",
       " 'maternity',\n",
       " 'appointment',\n",
       " 'anxiety',\n",
       " 'checkup',\n",
       " 'supplement',\n",
       " 'nutrition',\n",
       " 'heartburn',\n",
       " 'neurologist',\n",
       " 'leukemia',\n",
       " 'pill',\n",
       " 'discharge',\n",
       " 'mental',\n",
       " 'cramp',\n",
       " 'doctor',\n",
       " 'epilepsy',\n",
       " 'epidemic',\n",
       " 'trimester',\n",
       " 'antidepressant',\n",
       " 'pancreatic',\n",
       " 'depression',\n",
       " 'severe',\n",
       " 'coma',\n",
       " 'anorexia',\n",
       " 'immune',\n",
       " 'traumatic',\n",
       " 'respiratory',\n",
       " 'autism',\n",
       " 'antidote',\n",
       " 'injures',\n",
       " 'behavioral',\n",
       " 'concussion',\n",
       " 'vet',\n",
       " 'symptom',\n",
       " 'med',\n",
       " 'incurable',\n",
       " 'sedate',\n",
       " 'trauma',\n",
       " 'seizure',\n",
       " 'hospital',\n",
       " 'examination',\n",
       " 'poisoning',\n",
       " 'cure',\n",
       " 'gynecologist',\n",
       " 'therapy',\n",
       " 'sufferer',\n",
       " 'ailment',\n",
       " 'testing',\n",
       " 'health',\n",
       " 'influenza',\n",
       " 'vaccine',\n",
       " 'institution',\n",
       " 'disease',\n",
       " 'chronic',\n",
       " 'relievers',\n",
       " 'flu',\n",
       " 'asthma',\n",
       " 'remedy',\n",
       " 'psychiatric',\n",
       " 'schizophrenia',\n",
       " 'relapse',\n",
       " 'transfusion',\n",
       " 'kidney',\n",
       " 'pills',\n",
       " 'disorder',\n",
       " 'bulimia',\n",
       " 'painkiller',\n",
       " 'medicine',\n",
       " 'infertile',\n",
       " 'infection',\n",
       " 'psychosis',\n",
       " 'glucose',\n",
       " 'anemia',\n",
       " 'tumor',\n",
       " 'nurse',\n",
       " 'sickness',\n",
       " 'vaccination',\n",
       " 'malnutrition',\n",
       " 'antibiotic',\n",
       " 'anemic',\n",
       " 'specialist',\n",
       " 'rehabilitation',\n",
       " 'nutrient',\n",
       " 'vitamin',\n",
       " 'psychological',\n",
       " 'deficiency',\n",
       " 'surgeon',\n",
       " 'prenatal',\n",
       " 'prescribe',\n",
       " 'diabetic',\n",
       " 'disability',\n",
       " 'biopsy',\n",
       " 'injury',\n",
       " 'malaria',\n",
       " 'rehab',\n",
       " 'illness',\n",
       " 'depressant',\n",
       " 'ultrasound',\n",
       " 'prescribed',\n",
       " 'diabetes',\n",
       " 'vomiting',\n",
       " 'injection',\n",
       " 'healthy',\n",
       " 'dosage',\n",
       " 'stress',\n",
       " 'cancer',\n",
       " 'arthritis',\n",
       " 'transplant',\n",
       " 'nursing',\n",
       " 'tuberculosis',\n",
       " 'pediatrician',\n",
       " 'insulin',\n",
       " 'bedridden',\n",
       " 'psychiatrist',\n",
       " 'remission',\n",
       " 'therapist',\n",
       " 'pneumonia',\n",
       " 'medication',\n",
       " 'suffer',\n",
       " 'schizophrenic',\n",
       " 'diagnose',\n",
       " 'medically',\n",
       " 'cancerous',\n",
       " 'sick',\n",
       " 'clinic',\n",
       " 'medical',\n",
       " 'dementia',\n",
       " 'unwell',\n",
       " 'dehydration',\n",
       " 'prescription',\n",
       " 'pregnancy',\n",
       " 'fever',\n",
       " 'complication',\n",
       " 'chemotherapy',\n",
       " 'diet',\n",
       " 'dehydrated',\n",
       " 'diarrhea']"
      ]
     },
     "execution_count": 52,
     "metadata": {},
     "output_type": "execute_result"
    }
   ],
   "source": [
    "lexicon.cats[\"health\"]"
   ]
  },
  {
   "cell_type": "markdown",
   "metadata": {},
   "source": [
    "### Studying Pride and Prejudice"
   ]
  },
  {
   "cell_type": "code",
   "execution_count": 53,
   "metadata": {
    "collapsed": true
   },
   "outputs": [],
   "source": [
    "nlp = spacy.load('en')\n",
    "doc = nlp(books[3])"
   ]
  },
  {
   "cell_type": "code",
   "execution_count": 54,
   "metadata": {
    "collapsed": true
   },
   "outputs": [],
   "source": [
    "empath_features = lexicon.analyze(doc.text,categories = [\"disappointment\", \"pain\", \"joy\", \"beauty\", \"affection\"])"
   ]
  },
  {
   "cell_type": "code",
   "execution_count": 55,
   "metadata": {},
   "outputs": [
    {
     "data": {
      "text/plain": [
       "{'affection': 439.0,\n",
       " 'beauty': 136.0,\n",
       " 'disappointment': 149.0,\n",
       " 'joy': 278.0,\n",
       " 'pain': 228.0}"
      ]
     },
     "execution_count": 55,
     "metadata": {},
     "output_type": "execute_result"
    }
   ],
   "source": [
    "empath_features"
   ]
  },
  {
   "cell_type": "code",
   "execution_count": 56,
   "metadata": {
    "collapsed": true
   },
   "outputs": [],
   "source": [
    "empath_features = lexicon.analyze(doc.text,categories = [\"disappointment\", \"pain\", \"joy\", \"beauty\", \"affection\"], normalize = True)"
   ]
  },
  {
   "cell_type": "code",
   "execution_count": 57,
   "metadata": {},
   "outputs": [
    {
     "data": {
      "text/plain": [
       "{'affection': 0.0036111773754390585,\n",
       " 'beauty': 0.0011187246538945602,\n",
       " 'disappointment': 0.0012256615693403638,\n",
       " 'joy': 0.002286804807225645,\n",
       " 'pain': 0.001875508978587939}"
      ]
     },
     "execution_count": 57,
     "metadata": {},
     "output_type": "execute_result"
    }
   ],
   "source": [
    "empath_features"
   ]
  },
  {
   "cell_type": "markdown",
   "metadata": {},
   "source": [
    "### Usecase: the evolution of topics"
   ]
  },
  {
   "cell_type": "code",
   "execution_count": 58,
   "metadata": {
    "collapsed": true
   },
   "outputs": [],
   "source": [
    "bins = range(0,len(doc.text),150000)\n"
   ]
  },
  {
   "cell_type": "code",
   "execution_count": 59,
   "metadata": {
    "collapsed": true
   },
   "outputs": [],
   "source": [
    "love = []\n",
    "pain = []\n",
    "beauty = []\n",
    "affection = []\n",
    "\n",
    "\n",
    "for cnt,i in enumerate(bins[:-1]):\n",
    "    empath_features = lexicon.analyze(doc.text[bins[cnt]:bins[cnt+1]],\n",
    "                                      categories = [\"love\", \"pain\", \"joy\", \"beauty\", \"affection\"], normalize = True)\n",
    "    love.append(empath_features[\"love\"])\n",
    "    pain.append(empath_features[\"pain\"])\n",
    "    beauty.append(empath_features[\"beauty\"])\n",
    "    affection.append(empath_features[\"affection\"])"
   ]
  },
  {
   "cell_type": "code",
   "execution_count": 60,
   "metadata": {},
   "outputs": [
    {
     "data": {
      "text/plain": [
       "<matplotlib.legend.Legend at 0x117b55940>"
      ]
     },
     "execution_count": 60,
     "metadata": {},
     "output_type": "execute_result"
    },
    {
     "data": {
      "image/png": "[encoded data removed]",
      "text/plain": [
       "<Figure size 432x288 with 1 Axes>"
      ]
     },
     "metadata": {},
     "output_type": "display_data"
    }
   ],
   "source": [
    "plt.plot(love,label = \"love\")\n",
    "plt.plot(beauty, label = \"beauty\")\n",
    "plt.plot(affection, label = \"affection\")\n",
    "plt.plot(pain,label = \"pain\")\n",
    "\n",
    "plt.xlabel(\"progression in the book\")\n",
    "plt.ylabel(\"frequency of a category\")\n",
    "plt.legend()"
   ]
  },
  {
   "cell_type": "markdown",
   "metadata": {},
   "source": [
    "### We can create custom categories based on seed terms!\n",
    "### Models trained on: fiction, nytimes or reddit"
   ]
  },
  {
   "cell_type": "code",
   "execution_count": 61,
   "metadata": {},
   "outputs": [
    {
     "name": "stdout",
     "output_type": "stream",
     "text": [
      "[\"avocado\", \"kale\", \"Swiss_chard\", \"escarole\", \"black_beans\", \"cucumber\", \"dill\", \"leek\", \"mango\", \"red_peppers\", \"chicory\", \"chanterelles\", \"chutney\", \"tamarind\", \"papaya\", \"black_olives\", \"endive\", \"pesto\", \"walnuts\", \"green_beans\", \"bok_choy\", \"portobello_mushrooms\", \"lemon_grass\", \"radicchio\", \"ricotta\", \"chicken_breast\", \"porcini\", \"blue_cheese\", \"snow_peas\", \"pickled\", \"Gorgonzola\", \"chorizo\", \"yams\", \"hazelnuts\", \"fresh_tomatoes\", \"shiitake_mushrooms\", \"anchovies\", \"wild_rice\", \"scallion\", \"red_onions\", \"broccoli_rape\", \"red_cabbage\", \"wasabi\", \"sweet_potato\", \"feta\", \"roasted_garlic\", \"compote\", \"napoleon\", \"aioli\", \"crab_meat\", \"cauliflower\", \"jicama\", \"parsnips\", \"apricots\", \"new_potatoes\", \"truffle_oil\", \"lemongrass\", \"pistachios\", \"saut\\u00e9ed\", \"gnocchi\", \"duck_confit\", \"fresh_herbs\", \"ratatouille\", \"white_beans\", \"croutons\", \"fresh_mozzarella\", \"squab\", \"watercress\", \"roasted_red_peppers\", \"pine_nuts\", \"fritters\", \"butternut_squash\", \"fava_beans\", \"drizzled\", \"red_onion\", \"pea_shoots\", \"rosemary\", \"romaine\", \"mustard_greens\", \"horseradish\", \"caramelized_onions\", \"artichoke_hearts\", \"fettuccine\", \"grilled_eggplant\", \"julienne\", \"plum_tomatoes\", \"grilled_chicken\", \"pineapple\", \"candied\", \"pancetta\", \"celery_root\", \"sea_scallops\", \"shiitake\", \"porcini_mushrooms\", \"sour_cream\", \"bean_sprouts\", \"oyster_mushrooms\", \"monkfish\", \"chickpeas\", \"coconut_milk\"]\n"
     ]
    }
   ],
   "source": [
    "lexicon.create_category(\"healthy_food\", [\"healthy_food\",\"low_carb\",\"kale\",\"avocado\"], model=\"nytimes\")"
   ]
  },
  {
   "cell_type": "code",
   "execution_count": 62,
   "metadata": {},
   "outputs": [
    {
     "name": "stdout",
     "output_type": "stream",
     "text": [
      "[\"green_vegetables\", \"leafy_greens\", \"whole_grain_bread\", \"brown_rice\", \"white_rice\", \"green_veggies\", \"veggies\", \"whole_wheat_bread\", \"sweet_potatoes\", \"raw_veggies\", \"lean_meat\", \"spinach\", \"fatty_meat\", \"kale\", \"sweet_potato\", \"avocado\", \"hummus\", \"chicken_breast\", \"veggie\", \"whole_grain\", \"vegetables\", \"whole_wheat_pasta\", \"salads\", \"broccoli\", \"greek_yogurt\", \"Greek_yogurt\", \"yogurt\", \"avocados\", \"rice_cakes\", \"raw_vegetables\", \"almonds\", \"lean_protein\", \"grilled_chicken\", \"quinoa\", \"steamed_broccoli\", \"whole_grain_pasta\", \"brocolli\", \"kale\", \"avocado\", \"tofu\", \"Veggies\", \"edamame\", \"more_veggies\", \"lean_meats\", \"quinoa\", \"salad\", \"cottage_cheese\", \"whole_wheat\", \"wheat_bread\", \"romaine_lettuce\", \"white_bread\", \"raw_spinach\", \"oatmeal\", \"white_potatoes\", \"almond_butter\", \"pork_rinds\", \"veg\", \"cashews\", \"greek_yoghurt\", \"baby_carrots\", \"fresh_veggies\", \"fatty_meats\", \"more_vegetables\", \"avacado\", \"veges\", \"nut_butter\", \"hard_boiled_eggs\", \"carrot_sticks\", \"whole_grains\", \"grilled_chicken_breast\", \"steamed_vegetables\", \"meats\", \"lentils\", \"green_beans\", \"low_cal\", \"nuts/seeds\", \"iceberg_lettuce\", \"carrots\", \"red_meat\", \"other_foods\", \"fried_foods\", \"smoothies\", \"healthy_fats\", \"vegies\", \"avacados\", \"other_vegetables\", \"fresh_fruit\", \"spinach_salad\", \"egg_whites\", \"steamed_veggies\", \"nut_butters\", \"ground_turkey\", \"baked_chicken\"]\n"
     ]
    }
   ],
   "source": [
    "lexicon.create_category(\"healthy_food\", [\"healthy_food\",\"low_carb\",\"kale\",\"avocado\"], model=\"reddit\")"
   ]
  },
  {
   "cell_type": "code",
   "execution_count": 63,
   "metadata": {},
   "outputs": [
    {
     "name": "stdout",
     "output_type": "stream",
     "text": [
      "[\"turkey\", \"roast_beef\", \"white_bread\", \"fried_chicken\", \"pancakes\", \"peanut_butter\", \"gefilte_fish\", \"stuffing\", \"French_fries\", \"meatloaf\", \"brisket\", \"potato_salad\", \"pumpkin_pie\", \"scrambled_eggs\", \"french_fries\", \"spaghetti\", \"gravy\", \"tamales\", \"pot_roast\", \"oatmeal\", \"lasagna\", \"corned_beef\", \"latkes\", \"pickles\", \"sauerkraut\", \"burger\", \"grits\", \"biscuits\", \"hamburger\", \"salad_bar\", \"corn_bread\", \"chicken_soup\", \"bacon\", \"cream_cheese\", \"brownies\", \"tofu\", \"pastrami\", \"pork_chops\", \"salami\", \"marshmallows\", \"collard_greens\", \"macaroni\", \"pies\", \"raw_fish\", \"eggnog\", \"cheeseburgers\", \"truffles\", \"chocolate_cake\", \"hard-boiled_eggs\", \"baked_potatoes\", \"venison\", \"cottage_cheese\", \"pheasant\", \"applesauce\", \"quail\", \"fruit_salad\", \"meatballs\", \"chocolate_chip_cookies\", \"tacos\", \"roast\", \"jelly\", \"chicken_salad\", \"omelet\", \"gumbo\", \"steaks\", \"soup\", \"lox\", \"sausage\", \"roast_chicken\", \"rye\", \"bagel\", \"fruitcake\", \"fries\", \"fried_eggs\", \"ketchup\", \"chicken_wings\", \"barbecue_sauce\", \"sweet_potatoes\", \"pasta\", \"sausages\", \"crackers\", \"omelets\", \"roasting\", \"French_toast\", \"muffins\", \"mashed_potatoes\", \"fresh_fruit\", \"baked_potato\", \"waffles\", \"cranberry_sauce\", \"baked_beans\", \"cheese\", \"tripe\", \"noodles\", \"maple_syrup\", \"quiche\", \"buns\", \"baklava\", \"stews\"]\n"
     ]
    }
   ],
   "source": [
    "lexicon.create_category(\"festive_food\", [\"festive_food\",\"turkey\",\"eggnog\"], model=\"nytimes\")"
   ]
  },
  {
   "cell_type": "markdown",
   "metadata": {},
   "source": [
    "### List of further resources\n",
    "    * NLTK\n",
    "    * Jellyfish: string similarity library\n",
    "    * TextBlob: simplified text processing\n",
    "    * PyEnchant: language detection\n",
    "    * WordNet: ontology of concepts (inc. in NLTK)\n",
    "    * Stanford NLP (Java)\n",
    "    * Tweet NLP: https://www.cs.cmu.edu/~ark/TweetNLP/"
   ]
  }
 ],
 "metadata": {
  "kernelspec": {
   "display_name": "Python 3",
   "language": "python",
   "name": "python3"
  },
  "language_info": {
   "codemirror_mode": {
    "name": "ipython",
    "version": 3
   },
   "file_extension": ".py",
   "mimetype": "text/x-python",
   "name": "python",
   "nbconvert_exporter": "python",
   "pygments_lexer": "ipython3",
   "version": "3.7.3"
  },
  "toc": {
   "colors": {
    "hover_highlight": "#DAA520",
    "navigate_num": "#000000",
    "navigate_text": "#333333",
    "running_highlight": "#FF0000",
    "selected_highlight": "#FFD700",
    "sidebar_border": "#EEEEEE",
    "wrapper_background": "#FFFFFF"
   },
   "moveMenuLeft": true,
   "nav_menu": {
    "height": "228px",
    "width": "252px"
   },
   "navigate_menu": true,
   "number_sections": true,
   "sideBar": true,
   "threshold": 4,
   "toc_cell": false,
   "toc_section_display": "block",
   "toc_window_display": false,
   "widenNotebook": false
  },
  "varInspector": {
   "cols": {
    "lenName": 16,
    "lenType": 16,
    "lenVar": 40
   },
   "kernels_config": {
    "python": {
     "delete_cmd_postfix": "",
     "delete_cmd_prefix": "del ",
     "library": "var_list.py",
     "varRefreshCmd": "print(var_dic_list())"
    },
    "r": {
     "delete_cmd_postfix": ") ",
     "delete_cmd_prefix": "rm(",
     "library": "var_list.r",
     "varRefreshCmd": "cat(var_dic_list()) "
    }
   },
   "types_to_exclude": [
    "module",
    "function",
    "builtin_function_or_method",
    "instance",
    "_Feature"
   ],
   "window_display": false
  }
 },
 "nbformat": 4,
 "nbformat_minor": 2
}
