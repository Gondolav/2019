{
 "cells": [
  {
   "cell_type": "code",
   "execution_count": 1,
   "metadata": {},
   "outputs": [],
   "source": [
    "import numpy as np\n",
    "import pandas as pd\n",
    "import matplotlib.pyplot as plt\n",
    "from helpers.helper_functions import *"
   ]
  },
  {
   "cell_type": "markdown",
   "metadata": {},
   "source": [
    "# The Significant Bang Theory\n",
    "\n",
    "Attention, ADA students!\n",
    "\n",
    "The Sheldon Cooper we all know and love (OK, some of us might not know him, and some might not love him) from the TV series \"The Big Bang Theory\" has gotten into an argument with Leonard from the same TV show. Sheldon insists that he knows the show better than anyone, and keeps making various claims about the show, which neither of them know how to prove or disprove. The two of them have reached out to you ladies and gentlemen, as data scientists, to help them. You will be given the full script of the series, with information on the episode, the scene, the person saying each dialogue line, and the dialogue lines themselves.\n",
    "\n",
    "Leonard has challenged several of Sheldon's claims about the show, and throughout this exam you will see some of those and you will get to prove or disprove them, but remember: sometimes, we can neither prove a claim, nor disprove it!\n",
    "\n",
    "## Deadline\n",
    "Wednesday, January 30th, 2019; 11:15 A.M. (Swiss time)\n",
    "\n",
    "_For the deadline for extramural exams, see the submission subsection._\n",
    "\n",
    "## Important notes\n",
    "* Don't forget to add a textual description of your thought process, the assumptions you made, and your results!\n",
    "* Please write all your comments in English, and use meaningful variable names in your code.\n",
    "* As we have seen during the semester, data science is all about multiple iterations on the same dataset. Do not obsess over small details in the beginning, and try to complete as many tasks as possible during the first 2 hours. Then, go back to the obtained results, write meaningful comments, and debug your code if you have found any glaring mistake.\n",
    "* Fully read the instructions for each question before starting to solve it to avoid misunderstandings, and remember to save your notebook often!\n",
    "* The exam contains **15 questions organised into 4 tasks**, and is designed for more than 3 hours. **You do not need to solve everything in order to get a 6**, and you have some freedom is choosing the tasks you wish to solve.\n",
    "* You cannot leave the room in the first and last 15 minutes.\n",
    "* You can use all the online resources you want except for communication tools (emails, web chats, forums, phone, etc.). We will be monitoring the network for unusual activity.\n",
    "* Remember, this is not a homework assignment -- no teamwork allowed!\n",
    "\n",
    "## Submission\n",
    "* Your file has to be named as \"NameSurname_SCIPER.ipynb\".\n",
    "* Make sure you upload your Jupyter Notebook (1 file) to [this](https://goo.gl/forms/7GLvYl94uSOn54jH2) Google form at the end of the exam, with all the cells already evaluated (except for the Spark-related question, Q7). You need to sign in to Google using your EPFL credentials in order to submit the form.\n",
    "* In case of problems with the form, send your Jupyter Notebook (along with your name and SCIPER number) as a direct message to @ramtin on Mattermost. This is reserved only for those who encounter problems with the submission -- you need to have a reasonable justification for using this back-up.\n",
    "* You will have until 11:20 (strict deadline) to turn in your submission. **Late submissions will not be accepted.** This deadline is for the students taking the exam at EPFL -- students taking the exam extramurally will have their submission deadline as the starting time of the exam plus 3 hours and 5 minutes."
   ]
  },
  {
   "cell_type": "markdown",
   "metadata": {
    "collapsed": true
   },
   "source": [
    "## Task A: Picking up the shovel (10 points)\n",
    "\n",
    "**Note: You will use the data you preprocess in this task in all the subsequent ones.**\n",
    "\n",
    "Our friends' argument concerns the entire show. We have given you a file in the `data/` folder that contains the script of every single episode. New episodes are indicated by '>>', new scenes by '>', and the rest of the lines are dialogue lines. Some lines are said by multiple people (for example, lines indicated by 'All' or 'Together'); **you must discard these lines**, for the sake of simplicity. However, you do not need to do it for Q1 in this task -- you'll take care of it when you solve Q2.\n",
    "\n",
    "**Q1**. (5 points) Your first task is to extract all lines of dialogue in each scene and episode, creating a dataframe where each row has the episode and scene where a dialogue line was said, the character who said it, and the line itself. You do not need to extract the proper name of the episode (e.g. episode 1 can appear as \"Series 01 Episode 01 - Pilot Episode\", and doesn't need to appear as \"Pilot Episode\"). Then, answer the following question: In total, how many scenes are there in each season? We're not asking about unique scenes; the same location appearing in two episodes counts as two scenes. You can use a Pandas dataframe with a season column and a scene count column as the response.\n",
    "\n",
    "**Note: The data refers to seasons as \"series\".**"
   ]
  },
  {
   "cell_type": "code",
   "execution_count": 2,
   "metadata": {},
   "outputs": [],
   "source": [
    "df = pd.read_csv('./data/all_scripts.txt', sep='\\n', header=None)\n",
    "df.columns = ['Val']"
   ]
  },
  {
   "cell_type": "code",
   "execution_count": 3,
   "metadata": {},
   "outputs": [
    {
     "data": {
      "text/html": [
       "<div>\n",
       "<style scoped>\n",
       "    .dataframe tbody tr th:only-of-type {\n",
       "        vertical-align: middle;\n",
       "    }\n",
       "\n",
       "    .dataframe tbody tr th {\n",
       "        vertical-align: top;\n",
       "    }\n",
       "\n",
       "    .dataframe thead th {\n",
       "        text-align: right;\n",
       "    }\n",
       "</style>\n",
       "<table border=\"1\" class=\"dataframe\">\n",
       "  <thead>\n",
       "    <tr style=\"text-align: right;\">\n",
       "      <th></th>\n",
       "      <th>Val</th>\n",
       "      <th>Episode</th>\n",
       "      <th>Season</th>\n",
       "      <th>Scene</th>\n",
       "      <th>Character</th>\n",
       "      <th>Line</th>\n",
       "    </tr>\n",
       "  </thead>\n",
       "  <tbody>\n",
       "    <tr>\n",
       "      <th>0</th>\n",
       "      <td>&gt;&gt; Series 01 Episode 01 – Pilot Episode</td>\n",
       "      <td>NaN</td>\n",
       "      <td>NaN</td>\n",
       "      <td>NaN</td>\n",
       "      <td>NaN</td>\n",
       "      <td>NaN</td>\n",
       "    </tr>\n",
       "    <tr>\n",
       "      <th>1</th>\n",
       "      <td>&gt; A corridor at a sperm bank.</td>\n",
       "      <td>NaN</td>\n",
       "      <td>NaN</td>\n",
       "      <td>NaN</td>\n",
       "      <td>NaN</td>\n",
       "      <td>NaN</td>\n",
       "    </tr>\n",
       "    <tr>\n",
       "      <th>2</th>\n",
       "      <td>Sheldon: So if a photon is directed through a ...</td>\n",
       "      <td>Series 01 Episode 01 – Pilot Episode</td>\n",
       "      <td>01</td>\n",
       "      <td>A corridor at a sperm bank.</td>\n",
       "      <td>Sheldon</td>\n",
       "      <td>So if a photon is directed through a plane wit...</td>\n",
       "    </tr>\n",
       "    <tr>\n",
       "      <th>3</th>\n",
       "      <td>Leonard: Agreed, what’s your point?</td>\n",
       "      <td>Series 01 Episode 01 – Pilot Episode</td>\n",
       "      <td>01</td>\n",
       "      <td>A corridor at a sperm bank.</td>\n",
       "      <td>Leonard</td>\n",
       "      <td>Agreed, what’s your point?</td>\n",
       "    </tr>\n",
       "    <tr>\n",
       "      <th>4</th>\n",
       "      <td>Sheldon: There’s no point, I just think it’s a...</td>\n",
       "      <td>Series 01 Episode 01 – Pilot Episode</td>\n",
       "      <td>01</td>\n",
       "      <td>A corridor at a sperm bank.</td>\n",
       "      <td>Sheldon</td>\n",
       "      <td>There’s no point, I just think it’s a good ide...</td>\n",
       "    </tr>\n",
       "  </tbody>\n",
       "</table>\n",
       "</div>"
      ],
      "text/plain": [
       "                                                 Val  \\\n",
       "0            >> Series 01 Episode 01 – Pilot Episode   \n",
       "1                      > A corridor at a sperm bank.   \n",
       "2  Sheldon: So if a photon is directed through a ...   \n",
       "3                Leonard: Agreed, what’s your point?   \n",
       "4  Sheldon: There’s no point, I just think it’s a...   \n",
       "\n",
       "                                Episode Season                        Scene  \\\n",
       "0                                   NaN    NaN                          NaN   \n",
       "1                                   NaN    NaN                          NaN   \n",
       "2  Series 01 Episode 01 – Pilot Episode     01  A corridor at a sperm bank.   \n",
       "3  Series 01 Episode 01 – Pilot Episode     01  A corridor at a sperm bank.   \n",
       "4  Series 01 Episode 01 – Pilot Episode     01  A corridor at a sperm bank.   \n",
       "\n",
       "  Character                                               Line  \n",
       "0       NaN                                                NaN  \n",
       "1       NaN                                                NaN  \n",
       "2   Sheldon  So if a photon is directed through a plane wit...  \n",
       "3   Leonard                         Agreed, what’s your point?  \n",
       "4   Sheldon  There’s no point, I just think it’s a good ide...  "
      ]
     },
     "execution_count": 3,
     "metadata": {},
     "output_type": "execute_result"
    }
   ],
   "source": [
    "for i, row in enumerate(df.values):\n",
    "    row = row[0]\n",
    "    if row.startswith('>> '):\n",
    "        episode = row[3:]\n",
    "    elif row.startswith('> '):\n",
    "        scene = row[2:]\n",
    "    else: \n",
    "        df.at[i, 'Episode'] = episode\n",
    "        df.at[i, 'Season'] = episode.split()[1]\n",
    "        df.at[i, 'Scene'] = scene\n",
    "        splitted = row.split(': ')\n",
    "        df.at[i, 'Character'] = splitted[0]\n",
    "        df.at[i, 'Line'] = ''.join(splitted[1:])\n",
    "\n",
    "df.head()"
   ]
  },
  {
   "cell_type": "code",
   "execution_count": 4,
   "metadata": {},
   "outputs": [
    {
     "data": {
      "text/html": [
       "<div>\n",
       "<style scoped>\n",
       "    .dataframe tbody tr th:only-of-type {\n",
       "        vertical-align: middle;\n",
       "    }\n",
       "\n",
       "    .dataframe tbody tr th {\n",
       "        vertical-align: top;\n",
       "    }\n",
       "\n",
       "    .dataframe thead th {\n",
       "        text-align: right;\n",
       "    }\n",
       "</style>\n",
       "<table border=\"1\" class=\"dataframe\">\n",
       "  <thead>\n",
       "    <tr style=\"text-align: right;\">\n",
       "      <th></th>\n",
       "      <th>Episode</th>\n",
       "      <th>Season</th>\n",
       "      <th>Scene</th>\n",
       "      <th>Character</th>\n",
       "      <th>Line</th>\n",
       "    </tr>\n",
       "  </thead>\n",
       "  <tbody>\n",
       "    <tr>\n",
       "      <th>2</th>\n",
       "      <td>Series 01 Episode 01 – Pilot Episode</td>\n",
       "      <td>01</td>\n",
       "      <td>A corridor at a sperm bank.</td>\n",
       "      <td>Sheldon</td>\n",
       "      <td>So if a photon is directed through a plane wit...</td>\n",
       "    </tr>\n",
       "    <tr>\n",
       "      <th>3</th>\n",
       "      <td>Series 01 Episode 01 – Pilot Episode</td>\n",
       "      <td>01</td>\n",
       "      <td>A corridor at a sperm bank.</td>\n",
       "      <td>Leonard</td>\n",
       "      <td>Agreed, what’s your point?</td>\n",
       "    </tr>\n",
       "    <tr>\n",
       "      <th>4</th>\n",
       "      <td>Series 01 Episode 01 – Pilot Episode</td>\n",
       "      <td>01</td>\n",
       "      <td>A corridor at a sperm bank.</td>\n",
       "      <td>Sheldon</td>\n",
       "      <td>There’s no point, I just think it’s a good ide...</td>\n",
       "    </tr>\n",
       "    <tr>\n",
       "      <th>5</th>\n",
       "      <td>Series 01 Episode 01 – Pilot Episode</td>\n",
       "      <td>01</td>\n",
       "      <td>A corridor at a sperm bank.</td>\n",
       "      <td>Leonard</td>\n",
       "      <td>Excuse me?</td>\n",
       "    </tr>\n",
       "    <tr>\n",
       "      <th>6</th>\n",
       "      <td>Series 01 Episode 01 – Pilot Episode</td>\n",
       "      <td>01</td>\n",
       "      <td>A corridor at a sperm bank.</td>\n",
       "      <td>Receptionist</td>\n",
       "      <td>Hang on.</td>\n",
       "    </tr>\n",
       "  </tbody>\n",
       "</table>\n",
       "</div>"
      ],
      "text/plain": [
       "                                Episode Season                        Scene  \\\n",
       "2  Series 01 Episode 01 – Pilot Episode     01  A corridor at a sperm bank.   \n",
       "3  Series 01 Episode 01 – Pilot Episode     01  A corridor at a sperm bank.   \n",
       "4  Series 01 Episode 01 – Pilot Episode     01  A corridor at a sperm bank.   \n",
       "5  Series 01 Episode 01 – Pilot Episode     01  A corridor at a sperm bank.   \n",
       "6  Series 01 Episode 01 – Pilot Episode     01  A corridor at a sperm bank.   \n",
       "\n",
       "      Character                                               Line  \n",
       "2       Sheldon  So if a photon is directed through a plane wit...  \n",
       "3       Leonard                         Agreed, what’s your point?  \n",
       "4       Sheldon  There’s no point, I just think it’s a good ide...  \n",
       "5       Leonard                                         Excuse me?  \n",
       "6  Receptionist                                           Hang on.  "
      ]
     },
     "execution_count": 4,
     "metadata": {},
     "output_type": "execute_result"
    }
   ],
   "source": [
    "df = df.dropna()\n",
    "df.drop('Val', axis=1, inplace=True)\n",
    "df.head()"
   ]
  },
  {
   "cell_type": "code",
   "execution_count": 5,
   "metadata": {
    "scrolled": true
   },
   "outputs": [
    {
     "data": {
      "text/html": [
       "<div>\n",
       "<style scoped>\n",
       "    .dataframe tbody tr th:only-of-type {\n",
       "        vertical-align: middle;\n",
       "    }\n",
       "\n",
       "    .dataframe tbody tr th {\n",
       "        vertical-align: top;\n",
       "    }\n",
       "\n",
       "    .dataframe thead th {\n",
       "        text-align: right;\n",
       "    }\n",
       "</style>\n",
       "<table border=\"1\" class=\"dataframe\">\n",
       "  <thead>\n",
       "    <tr style=\"text-align: right;\">\n",
       "      <th></th>\n",
       "      <th>Scene count</th>\n",
       "    </tr>\n",
       "    <tr>\n",
       "      <th>Season</th>\n",
       "      <th></th>\n",
       "    </tr>\n",
       "  </thead>\n",
       "  <tbody>\n",
       "    <tr>\n",
       "      <th>01</th>\n",
       "      <td>157</td>\n",
       "    </tr>\n",
       "    <tr>\n",
       "      <th>02</th>\n",
       "      <td>205</td>\n",
       "    </tr>\n",
       "    <tr>\n",
       "      <th>03</th>\n",
       "      <td>193</td>\n",
       "    </tr>\n",
       "    <tr>\n",
       "      <th>04</th>\n",
       "      <td>219</td>\n",
       "    </tr>\n",
       "    <tr>\n",
       "      <th>05</th>\n",
       "      <td>198</td>\n",
       "    </tr>\n",
       "    <tr>\n",
       "      <th>06</th>\n",
       "      <td>211</td>\n",
       "    </tr>\n",
       "    <tr>\n",
       "      <th>07</th>\n",
       "      <td>207</td>\n",
       "    </tr>\n",
       "    <tr>\n",
       "      <th>08</th>\n",
       "      <td>191</td>\n",
       "    </tr>\n",
       "    <tr>\n",
       "      <th>09</th>\n",
       "      <td>177</td>\n",
       "    </tr>\n",
       "    <tr>\n",
       "      <th>10</th>\n",
       "      <td>189</td>\n",
       "    </tr>\n",
       "  </tbody>\n",
       "</table>\n",
       "</div>"
      ],
      "text/plain": [
       "        Scene count\n",
       "Season             \n",
       "01              157\n",
       "02              205\n",
       "03              193\n",
       "04              219\n",
       "05              198\n",
       "06              211\n",
       "07              207\n",
       "08              191\n",
       "09              177\n",
       "10              189"
      ]
     },
     "execution_count": 5,
     "metadata": {},
     "output_type": "execute_result"
    }
   ],
   "source": [
    "df.groupby(['Season', 'Episode'])[['Scene']].nunique().reset_index().groupby(['Season']).sum().rename(columns={'Scene': 'Scene count'})"
   ]
  },
  {
   "cell_type": "markdown",
   "metadata": {},
   "source": [
    "**Q2**. (5 points) Now, let's define two sets of characters: all the characters, and recurrent characters. Recurrent characters are those who appear in more than one episode. For the subsequent sections, you will need to have a list of recurrent characters. Assume that there are no two _named characters_ (i.e. characters who have actual names and aren't referred to generically as \"little girl\", \"grumpy grandpa\", etc.) with the same name, i.e. there are no two Sheldons, etc. Generate a list of recurrent characters who have more than 90 dialogue lines in total, and then take a look at the list you have. If you've done this correctly, you should have a list of 20 names. However, one of these is clearly not a recurrent character. Manually remove that one, and print out your list of recurrent characters. To remove that character, pay attention to the _named character_ assumption we gave you earlier on. **For all the subsequent questions, you must only keep the dialogue lines said by the recurrent characters in your list.**\n",
    "\n",
    "_Hint: \"I know all the recurrent characters because I've watched the entire series five times\" is not an acceptable argument, so you need to actually generate the list._"
   ]
  },
  {
   "cell_type": "code",
   "execution_count": 6,
   "metadata": {},
   "outputs": [],
   "source": [
    "from collections import defaultdict\n",
    "\n",
    "recurrent = defaultdict(int)\n",
    "for ep in df.groupby(['Episode'])['Character'].apply(lambda x: x.to_list()):\n",
    "    for c in ep:\n",
    "        recurrent[c] += 1\n",
    "\n",
    "recurrent = [k for (k, v) in zip(recurrent.keys(), recurrent.values()) if v > 90]"
   ]
  },
  {
   "cell_type": "code",
   "execution_count": 7,
   "metadata": {},
   "outputs": [
    {
     "data": {
      "text/plain": [
       "20"
      ]
     },
     "execution_count": 7,
     "metadata": {},
     "output_type": "execute_result"
    }
   ],
   "source": [
    "len(recurrent)"
   ]
  },
  {
   "cell_type": "code",
   "execution_count": 8,
   "metadata": {},
   "outputs": [
    {
     "data": {
      "text/plain": [
       "['Sheldon',\n",
       " 'Leonard',\n",
       " 'Penny',\n",
       " 'Howard',\n",
       " 'Raj',\n",
       " 'Mrs Cooper',\n",
       " 'Leslie',\n",
       " 'Kripke',\n",
       " 'Beverley',\n",
       " 'Stuart',\n",
       " 'Bernadette',\n",
       " 'Wil',\n",
       " 'Mrs Wolowitz',\n",
       " 'Zack',\n",
       " 'Amy',\n",
       " 'Priya',\n",
       " 'Arthur',\n",
       " 'Bert',\n",
       " 'Emily']"
      ]
     },
     "execution_count": 8,
     "metadata": {},
     "output_type": "execute_result"
    }
   ],
   "source": [
    "recurrent.remove('Man')\n",
    "recurrent"
   ]
  },
  {
   "cell_type": "code",
   "execution_count": 9,
   "metadata": {},
   "outputs": [
    {
     "data": {
      "text/html": [
       "<div>\n",
       "<style scoped>\n",
       "    .dataframe tbody tr th:only-of-type {\n",
       "        vertical-align: middle;\n",
       "    }\n",
       "\n",
       "    .dataframe tbody tr th {\n",
       "        vertical-align: top;\n",
       "    }\n",
       "\n",
       "    .dataframe thead th {\n",
       "        text-align: right;\n",
       "    }\n",
       "</style>\n",
       "<table border=\"1\" class=\"dataframe\">\n",
       "  <thead>\n",
       "    <tr style=\"text-align: right;\">\n",
       "      <th></th>\n",
       "      <th>Episode</th>\n",
       "      <th>Season</th>\n",
       "      <th>Scene</th>\n",
       "      <th>Character</th>\n",
       "      <th>Line</th>\n",
       "    </tr>\n",
       "  </thead>\n",
       "  <tbody>\n",
       "    <tr>\n",
       "      <th>2</th>\n",
       "      <td>Series 01 Episode 01 – Pilot Episode</td>\n",
       "      <td>01</td>\n",
       "      <td>A corridor at a sperm bank.</td>\n",
       "      <td>Sheldon</td>\n",
       "      <td>So if a photon is directed through a plane wit...</td>\n",
       "    </tr>\n",
       "    <tr>\n",
       "      <th>3</th>\n",
       "      <td>Series 01 Episode 01 – Pilot Episode</td>\n",
       "      <td>01</td>\n",
       "      <td>A corridor at a sperm bank.</td>\n",
       "      <td>Leonard</td>\n",
       "      <td>Agreed, what’s your point?</td>\n",
       "    </tr>\n",
       "    <tr>\n",
       "      <th>4</th>\n",
       "      <td>Series 01 Episode 01 – Pilot Episode</td>\n",
       "      <td>01</td>\n",
       "      <td>A corridor at a sperm bank.</td>\n",
       "      <td>Sheldon</td>\n",
       "      <td>There’s no point, I just think it’s a good ide...</td>\n",
       "    </tr>\n",
       "    <tr>\n",
       "      <th>5</th>\n",
       "      <td>Series 01 Episode 01 – Pilot Episode</td>\n",
       "      <td>01</td>\n",
       "      <td>A corridor at a sperm bank.</td>\n",
       "      <td>Leonard</td>\n",
       "      <td>Excuse me?</td>\n",
       "    </tr>\n",
       "    <tr>\n",
       "      <th>7</th>\n",
       "      <td>Series 01 Episode 01 – Pilot Episode</td>\n",
       "      <td>01</td>\n",
       "      <td>A corridor at a sperm bank.</td>\n",
       "      <td>Leonard</td>\n",
       "      <td>One across is Aegean, eight down is Nabakov, t...</td>\n",
       "    </tr>\n",
       "  </tbody>\n",
       "</table>\n",
       "</div>"
      ],
      "text/plain": [
       "                                Episode Season                        Scene  \\\n",
       "2  Series 01 Episode 01 – Pilot Episode     01  A corridor at a sperm bank.   \n",
       "3  Series 01 Episode 01 – Pilot Episode     01  A corridor at a sperm bank.   \n",
       "4  Series 01 Episode 01 – Pilot Episode     01  A corridor at a sperm bank.   \n",
       "5  Series 01 Episode 01 – Pilot Episode     01  A corridor at a sperm bank.   \n",
       "7  Series 01 Episode 01 – Pilot Episode     01  A corridor at a sperm bank.   \n",
       "\n",
       "  Character                                               Line  \n",
       "2   Sheldon  So if a photon is directed through a plane wit...  \n",
       "3   Leonard                         Agreed, what’s your point?  \n",
       "4   Sheldon  There’s no point, I just think it’s a good ide...  \n",
       "5   Leonard                                         Excuse me?  \n",
       "7   Leonard  One across is Aegean, eight down is Nabakov, t...  "
      ]
     },
     "execution_count": 9,
     "metadata": {},
     "output_type": "execute_result"
    }
   ],
   "source": [
    "df = df[df['Character'].isin(recurrent)]\n",
    "df.head()"
   ]
  },
  {
   "cell_type": "markdown",
   "metadata": {},
   "source": [
    "## Task B: Read the ~~stats~~ scripts carefully (30 points)\n",
    "\n",
    "### Part 1: Don't put the shovel down just yet\n",
    "\n",
    "**Q3**. (2.5 points) From each dialogue line, replace punctuation marks (listed in the EXCLUDE_CHARS variable provided in `helpers/helper_functions.py`) with whitespaces, and lowercase all the text. **Do not remove any stopwords, leave them be for all the questions in this task.**"
   ]
  },
  {
   "cell_type": "code",
   "execution_count": 10,
   "metadata": {},
   "outputs": [],
   "source": [
    "def replace_and_lowercase(line):\n",
    "    for c in EXCLUDE_CHARS:\n",
    "        if c in line:\n",
    "            line = line.replace(c, ' ')\n",
    "            \n",
    "    return line.lower()"
   ]
  },
  {
   "cell_type": "code",
   "execution_count": 11,
   "metadata": {},
   "outputs": [
    {
     "data": {
      "text/html": [
       "<div>\n",
       "<style scoped>\n",
       "    .dataframe tbody tr th:only-of-type {\n",
       "        vertical-align: middle;\n",
       "    }\n",
       "\n",
       "    .dataframe tbody tr th {\n",
       "        vertical-align: top;\n",
       "    }\n",
       "\n",
       "    .dataframe thead th {\n",
       "        text-align: right;\n",
       "    }\n",
       "</style>\n",
       "<table border=\"1\" class=\"dataframe\">\n",
       "  <thead>\n",
       "    <tr style=\"text-align: right;\">\n",
       "      <th></th>\n",
       "      <th>Episode</th>\n",
       "      <th>Season</th>\n",
       "      <th>Scene</th>\n",
       "      <th>Character</th>\n",
       "      <th>Line</th>\n",
       "    </tr>\n",
       "  </thead>\n",
       "  <tbody>\n",
       "    <tr>\n",
       "      <th>2</th>\n",
       "      <td>Series 01 Episode 01 – Pilot Episode</td>\n",
       "      <td>01</td>\n",
       "      <td>A corridor at a sperm bank.</td>\n",
       "      <td>Sheldon</td>\n",
       "      <td>so if a photon is directed through a plane wit...</td>\n",
       "    </tr>\n",
       "    <tr>\n",
       "      <th>3</th>\n",
       "      <td>Series 01 Episode 01 – Pilot Episode</td>\n",
       "      <td>01</td>\n",
       "      <td>A corridor at a sperm bank.</td>\n",
       "      <td>Leonard</td>\n",
       "      <td>agreed  what s your point</td>\n",
       "    </tr>\n",
       "    <tr>\n",
       "      <th>4</th>\n",
       "      <td>Series 01 Episode 01 – Pilot Episode</td>\n",
       "      <td>01</td>\n",
       "      <td>A corridor at a sperm bank.</td>\n",
       "      <td>Sheldon</td>\n",
       "      <td>there s no point  i just think it s a good ide...</td>\n",
       "    </tr>\n",
       "    <tr>\n",
       "      <th>5</th>\n",
       "      <td>Series 01 Episode 01 – Pilot Episode</td>\n",
       "      <td>01</td>\n",
       "      <td>A corridor at a sperm bank.</td>\n",
       "      <td>Leonard</td>\n",
       "      <td>excuse me</td>\n",
       "    </tr>\n",
       "    <tr>\n",
       "      <th>7</th>\n",
       "      <td>Series 01 Episode 01 – Pilot Episode</td>\n",
       "      <td>01</td>\n",
       "      <td>A corridor at a sperm bank.</td>\n",
       "      <td>Leonard</td>\n",
       "      <td>one across is aegean  eight down is nabakov  t...</td>\n",
       "    </tr>\n",
       "  </tbody>\n",
       "</table>\n",
       "</div>"
      ],
      "text/plain": [
       "                                Episode Season                        Scene  \\\n",
       "2  Series 01 Episode 01 – Pilot Episode     01  A corridor at a sperm bank.   \n",
       "3  Series 01 Episode 01 – Pilot Episode     01  A corridor at a sperm bank.   \n",
       "4  Series 01 Episode 01 – Pilot Episode     01  A corridor at a sperm bank.   \n",
       "5  Series 01 Episode 01 – Pilot Episode     01  A corridor at a sperm bank.   \n",
       "7  Series 01 Episode 01 – Pilot Episode     01  A corridor at a sperm bank.   \n",
       "\n",
       "  Character                                               Line  \n",
       "2   Sheldon  so if a photon is directed through a plane wit...  \n",
       "3   Leonard                         agreed  what s your point   \n",
       "4   Sheldon  there s no point  i just think it s a good ide...  \n",
       "5   Leonard                                         excuse me   \n",
       "7   Leonard  one across is aegean  eight down is nabakov  t...  "
      ]
     },
     "execution_count": 11,
     "metadata": {},
     "output_type": "execute_result"
    }
   ],
   "source": [
    "df['Line'] = df['Line'].apply(replace_and_lowercase)\n",
    "df.head()"
   ]
  },
  {
   "cell_type": "markdown",
   "metadata": {},
   "source": [
    "**Q4**. (5 points) For each term, calculate its \"corpus frequency\", i.e. its number of occurrences in the entire series. Visualize the distribution of corpus frequency using a histogram. Explain your observations. What are the appropriate x and y scales for this plot?"
   ]
  },
  {
   "cell_type": "code",
   "execution_count": 12,
   "metadata": {},
   "outputs": [],
   "source": [
    "df_terms = df.copy()\n",
    "df_terms['Line'] = df_terms['Line'].apply(lambda l: l.split())\n",
    "df_terms = df_terms.explode('Line')"
   ]
  },
  {
   "cell_type": "markdown",
   "metadata": {},
   "source": [
    "One of these two plots is correct. Zipf' Law can clearly be seen here."
   ]
  },
  {
   "cell_type": "code",
   "execution_count": 13,
   "metadata": {},
   "outputs": [
    {
     "data": {
      "text/plain": [
       "<matplotlib.axes._subplots.AxesSubplot at 0x112080cd0>"
      ]
     },
     "execution_count": 13,
     "metadata": {},
     "output_type": "execute_result"
    },
    {
     "data": {
      "image/png": "[encoded data removed]",
      "text/plain": [
       "<Figure size 432x288 with 1 Axes>"
      ]
     },
     "metadata": {
      "needs_background": "light"
     },
     "output_type": "display_data"
    }
   ],
   "source": [
    "df_terms['Line'].value_counts().hist(log=True)"
   ]
  },
  {
   "cell_type": "code",
   "execution_count": 14,
   "metadata": {},
   "outputs": [
    {
     "data": {
      "image/png": "[encoded data removed]",
      "text/plain": [
       "<Figure size 432x288 with 1 Axes>"
      ]
     },
     "metadata": {
      "needs_background": "light"
     },
     "output_type": "display_data"
    }
   ],
   "source": [
    "hist, bins = np.histogram(df_terms['Line'].value_counts())\n",
    "logbins = np.logspace(np.log10(bins[0]),np.log10(bins[-1]),len(bins))\n",
    "plt.hist(df_terms['Line'].value_counts(), bins=logbins)\n",
    "plt.xscale('log')"
   ]
  },
  {
   "cell_type": "markdown",
   "metadata": {},
   "source": [
    "### Part 2: Talkativity\n",
    "**Q5**. (2.5 points) For each of the recurrent characters, calculate their total number of words uttered across all episodes. Based on this, who seems to be the most talkative character?"
   ]
  },
  {
   "cell_type": "code",
   "execution_count": 15,
   "metadata": {},
   "outputs": [
    {
     "data": {
      "text/plain": [
       "Character\n",
       "Sheldon         185612\n",
       "Leonard         102643\n",
       "Penny            79379\n",
       "Howard           69577\n",
       "Raj              60151\n",
       "Amy              39959\n",
       "Bernadette       27745\n",
       "Stuart            7966\n",
       "Mrs Cooper        3396\n",
       "Beverley          2029\n",
       "Priya             1942\n",
       "Wil               1681\n",
       "Emily             1573\n",
       "Mrs Wolowitz      1460\n",
       "Arthur            1452\n",
       "Zack              1428\n",
       "Leslie            1252\n",
       "Kripke            1246\n",
       "Bert              1146\n",
       "Name: Line, dtype: int64"
      ]
     },
     "execution_count": 15,
     "metadata": {},
     "output_type": "execute_result"
    }
   ],
   "source": [
    "df.groupby(['Character'])['Line'].apply(lambda x: x.str.rstrip().str.split('\\W+').explode().count()).sort_values(ascending=False)"
   ]
  },
  {
   "cell_type": "markdown",
   "metadata": {},
   "source": [
    "The most talkative character is Sheldon."
   ]
  },
  {
   "cell_type": "markdown",
   "metadata": {},
   "source": [
    "**Q6**. (12.5 points) For each of the recurrent characters, calculate their total number of words uttered per episode (ignoring episodes that the character does not appear in), and calculate a **robust summary statistic** for the word count distribution of each person.\n",
    "\n",
    "&nbsp;&nbsp;&nbsp;&nbsp;&nbsp;&nbsp;**i)** (2.5 points) What changes do you observe, compared to the analysis in Q5?\n",
    "\n",
    "&nbsp;&nbsp;&nbsp;&nbsp;&nbsp;&nbsp;**ii)** (2.5 points) Why is this analysis an improvement over the previous one, and how could you improve it even further? _Hint: The improvement involves making your unit for word counts even more granular - you can go further down than episodes._\n",
    "\n",
    "&nbsp;&nbsp;&nbsp;&nbsp;&nbsp;&nbsp;**iii)** (7.5 points) Incorporate that improvement. Do you still see the same results? How **confident** can you be that the \"most talkative\" person given by this twice improved method is really more talkative than the second most talkative one? _Hint: Read the question again. A good idea would be to use bootstrapping and calculate your summary statistic on each bootstrapped set._"
   ]
  },
  {
   "cell_type": "code",
   "execution_count": 16,
   "metadata": {},
   "outputs": [],
   "source": [
    "words_per_ep_per_ch = df.groupby(['Character', 'Episode'])['Line'].apply(lambda x: x.str.rstrip().str.split('\\W+').explode().count())"
   ]
  },
  {
   "cell_type": "markdown",
   "metadata": {},
   "source": [
    "A more robust statistic could be the median of the word count per episode."
   ]
  },
  {
   "cell_type": "code",
   "execution_count": 17,
   "metadata": {},
   "outputs": [
    {
     "data": {
      "text/plain": [
       "Character\n",
       "Sheldon         777.0\n",
       "Leonard         398.0\n",
       "Arthur          325.0\n",
       "Penny           323.0\n",
       "Mrs Cooper      295.5\n",
       "Howard          289.0\n",
       "Amy             234.0\n",
       "Raj             219.5\n",
       "Bert            199.0\n",
       "Beverley        184.0\n",
       "Kripke          162.0\n",
       "Bernadette      157.0\n",
       "Priya           145.0\n",
       "Zack            140.0\n",
       "Wil             122.5\n",
       "Leslie          121.0\n",
       "Stuart          112.5\n",
       "Emily            87.0\n",
       "Mrs Wolowitz     39.0\n",
       "Name: Line, dtype: float64"
      ]
     },
     "execution_count": 17,
     "metadata": {},
     "output_type": "execute_result"
    }
   ],
   "source": [
    "words_per_ep_per_ch.groupby(['Character']).median().sort_values(ascending=False)"
   ]
  },
  {
   "cell_type": "markdown",
   "metadata": {},
   "source": [
    "We notice that Arthur, which was ranked at the bottom of the first ranking, now is the the 3rd most talkative character. In general, it is an improvement because in the first analysis the result could have been biased by a few episodes in which a particular character talked a lot. We could improve it by taking the median of the number of words uttered by scene, or even by line."
   ]
  },
  {
   "cell_type": "code",
   "execution_count": 18,
   "metadata": {},
   "outputs": [
    {
     "data": {
      "text/html": [
       "<div>\n",
       "<style scoped>\n",
       "    .dataframe tbody tr th:only-of-type {\n",
       "        vertical-align: middle;\n",
       "    }\n",
       "\n",
       "    .dataframe tbody tr th {\n",
       "        vertical-align: top;\n",
       "    }\n",
       "\n",
       "    .dataframe thead th {\n",
       "        text-align: right;\n",
       "    }\n",
       "</style>\n",
       "<table border=\"1\" class=\"dataframe\">\n",
       "  <thead>\n",
       "    <tr style=\"text-align: right;\">\n",
       "      <th></th>\n",
       "      <th>Episode</th>\n",
       "      <th>Season</th>\n",
       "      <th>Scene</th>\n",
       "      <th>Character</th>\n",
       "      <th>Line</th>\n",
       "    </tr>\n",
       "  </thead>\n",
       "  <tbody>\n",
       "    <tr>\n",
       "      <th>2</th>\n",
       "      <td>Series 01 Episode 01 – Pilot Episode</td>\n",
       "      <td>01</td>\n",
       "      <td>A corridor at a sperm bank.</td>\n",
       "      <td>Sheldon</td>\n",
       "      <td>57</td>\n",
       "    </tr>\n",
       "    <tr>\n",
       "      <th>3</th>\n",
       "      <td>Series 01 Episode 01 – Pilot Episode</td>\n",
       "      <td>01</td>\n",
       "      <td>A corridor at a sperm bank.</td>\n",
       "      <td>Leonard</td>\n",
       "      <td>5</td>\n",
       "    </tr>\n",
       "    <tr>\n",
       "      <th>4</th>\n",
       "      <td>Series 01 Episode 01 – Pilot Episode</td>\n",
       "      <td>01</td>\n",
       "      <td>A corridor at a sperm bank.</td>\n",
       "      <td>Sheldon</td>\n",
       "      <td>16</td>\n",
       "    </tr>\n",
       "    <tr>\n",
       "      <th>5</th>\n",
       "      <td>Series 01 Episode 01 – Pilot Episode</td>\n",
       "      <td>01</td>\n",
       "      <td>A corridor at a sperm bank.</td>\n",
       "      <td>Leonard</td>\n",
       "      <td>2</td>\n",
       "    </tr>\n",
       "    <tr>\n",
       "      <th>7</th>\n",
       "      <td>Series 01 Episode 01 – Pilot Episode</td>\n",
       "      <td>01</td>\n",
       "      <td>A corridor at a sperm bank.</td>\n",
       "      <td>Leonard</td>\n",
       "      <td>39</td>\n",
       "    </tr>\n",
       "    <tr>\n",
       "      <th>...</th>\n",
       "      <td>...</td>\n",
       "      <td>...</td>\n",
       "      <td>...</td>\n",
       "      <td>...</td>\n",
       "      <td>...</td>\n",
       "    </tr>\n",
       "    <tr>\n",
       "      <th>54320</th>\n",
       "      <td>Series 10 Episode 24 – The Long Distance Disso...</td>\n",
       "      <td>10</td>\n",
       "      <td>Sheldon’s office.</td>\n",
       "      <td>Sheldon</td>\n",
       "      <td>21</td>\n",
       "    </tr>\n",
       "    <tr>\n",
       "      <th>54322</th>\n",
       "      <td>Series 10 Episode 24 – The Long Distance Disso...</td>\n",
       "      <td>10</td>\n",
       "      <td>Sheldon’s office.</td>\n",
       "      <td>Sheldon</td>\n",
       "      <td>4</td>\n",
       "    </tr>\n",
       "    <tr>\n",
       "      <th>54324</th>\n",
       "      <td>Series 10 Episode 24 – The Long Distance Disso...</td>\n",
       "      <td>10</td>\n",
       "      <td>Sheldon’s office.</td>\n",
       "      <td>Sheldon</td>\n",
       "      <td>13</td>\n",
       "    </tr>\n",
       "    <tr>\n",
       "      <th>54326</th>\n",
       "      <td>Series 10 Episode 24 – The Long Distance Disso...</td>\n",
       "      <td>10</td>\n",
       "      <td>Sheldon’s office.</td>\n",
       "      <td>Sheldon</td>\n",
       "      <td>21</td>\n",
       "    </tr>\n",
       "    <tr>\n",
       "      <th>54328</th>\n",
       "      <td>Series 10 Episode 24 – The Long Distance Disso...</td>\n",
       "      <td>10</td>\n",
       "      <td>Princeton.</td>\n",
       "      <td>Sheldon</td>\n",
       "      <td>16</td>\n",
       "    </tr>\n",
       "  </tbody>\n",
       "</table>\n",
       "<p>48346 rows × 5 columns</p>\n",
       "</div>"
      ],
      "text/plain": [
       "                                                 Episode Season  \\\n",
       "2                   Series 01 Episode 01 – Pilot Episode     01   \n",
       "3                   Series 01 Episode 01 – Pilot Episode     01   \n",
       "4                   Series 01 Episode 01 – Pilot Episode     01   \n",
       "5                   Series 01 Episode 01 – Pilot Episode     01   \n",
       "7                   Series 01 Episode 01 – Pilot Episode     01   \n",
       "...                                                  ...    ...   \n",
       "54320  Series 10 Episode 24 – The Long Distance Disso...     10   \n",
       "54322  Series 10 Episode 24 – The Long Distance Disso...     10   \n",
       "54324  Series 10 Episode 24 – The Long Distance Disso...     10   \n",
       "54326  Series 10 Episode 24 – The Long Distance Disso...     10   \n",
       "54328  Series 10 Episode 24 – The Long Distance Disso...     10   \n",
       "\n",
       "                             Scene Character  Line  \n",
       "2      A corridor at a sperm bank.   Sheldon    57  \n",
       "3      A corridor at a sperm bank.   Leonard     5  \n",
       "4      A corridor at a sperm bank.   Sheldon    16  \n",
       "5      A corridor at a sperm bank.   Leonard     2  \n",
       "7      A corridor at a sperm bank.   Leonard    39  \n",
       "...                            ...       ...   ...  \n",
       "54320            Sheldon’s office.   Sheldon    21  \n",
       "54322            Sheldon’s office.   Sheldon     4  \n",
       "54324            Sheldon’s office.   Sheldon    13  \n",
       "54326            Sheldon’s office.   Sheldon    21  \n",
       "54328                   Princeton.   Sheldon    16  \n",
       "\n",
       "[48346 rows x 5 columns]"
      ]
     },
     "execution_count": 18,
     "metadata": {},
     "output_type": "execute_result"
    }
   ],
   "source": [
    "df_words_per_line_per_ch = df.copy()\n",
    "df_words_per_line_per_ch['Line'] = df_words_per_line_per_ch.Line.apply(lambda x: len(x.rstrip().split()))\n",
    "df_words_per_line_per_ch"
   ]
  },
  {
   "cell_type": "code",
   "execution_count": 19,
   "metadata": {},
   "outputs": [
    {
     "data": {
      "text/plain": [
       "Character\n",
       "Sheldon         12\n",
       "Bert            12\n",
       "Beverley        11\n",
       "Mrs Cooper      11\n",
       "Kripke          10\n",
       "Raj             10\n",
       "Zack             9\n",
       "Arthur           9\n",
       "Howard           9\n",
       "Amy              9\n",
       "Wil              9\n",
       "Mrs Wolowitz     9\n",
       "Stuart           9\n",
       "Leonard          8\n",
       "Penny            8\n",
       "Bernadette       8\n",
       "Leslie           8\n",
       "Emily            7\n",
       "Priya            7\n",
       "Name: Line, dtype: int64"
      ]
     },
     "execution_count": 19,
     "metadata": {},
     "output_type": "execute_result"
    }
   ],
   "source": [
    "df_words_per_line_per_ch.groupby(['Character'])['Line'].median().sort_values(ascending=False)"
   ]
  },
  {
   "cell_type": "markdown",
   "metadata": {},
   "source": [
    "Apart from Sheldon, almost all the other characters change position."
   ]
  },
  {
   "cell_type": "code",
   "execution_count": null,
   "metadata": {},
   "outputs": [],
   "source": [
    "bootstrap_medians = []\n",
    "for i in range(1000):\n",
    "    df_boostrap = df.sample(frac=1.0, replace=True)\n",
    "    df_boostrap['Line'] = df_boostrap.Line.apply(lambda x: len(x.rstrip().split()))\n",
    "    bootstrap_medians.append(df_boostrap.groupby(['Character'])['Line'].median())"
   ]
  },
  {
   "cell_type": "code",
   "execution_count": null,
   "metadata": {},
   "outputs": [],
   "source": [
    "res = 0\n",
    "for m in bootstrap_medians:\n",
    "    res += m\n",
    "res /= len(bootstrap_medians)\n",
    "res.sort_values(ascending=False)"
   ]
  },
  {
   "cell_type": "markdown",
   "metadata": {
    "collapsed": true
   },
   "source": [
    "### Part 3: Obligatory Spark cameo\n",
    "**Q7**. (7.5 points) Write a Spark script that does the following: Given the raw input file and your list of recurrent characters, create an RDD containing (speaker, dialogue line) rows **only for the recurrent characters** (assume that you already have the list --  no need to calculate it using Spark), and then generate a vectorized bag of words representation for each dialogue line, thus generating an RDD with (speaker, bag of words vector) rows. Then, calculate an aggregated bag of words vector (sum of all vectors) for each person. The final output is therefore an RDD with each of its rows being (speaker, aggregated bag of words vector). For your bag of words vectors, you can use $1\\times|V|$ scipy CSR matrices (where $|V|$ is the size of the vocabulary). No filtering of the vocabulary is necessary for this part.\n",
    "\n",
    "You do not need to run this script, but you do need to use Spark logic and also, the syntax needs to be correct."
   ]
  },
  {
   "cell_type": "code",
   "execution_count": null,
   "metadata": {},
   "outputs": [],
   "source": [
    "import pyspark\n",
    "import pyspark.sql\n",
    "from pyspark.sql import *\n",
    "from pyspark.ml.feature import CountVectorizer\n",
    "from collections import Counter\n",
    "\n",
    "spark = SparkSession.builder.getOrCreate()\n",
    "\n",
    "# create the context\n",
    "sc = spark.sparkContext"
   ]
  },
  {
   "cell_type": "code",
   "execution_count": null,
   "metadata": {},
   "outputs": [],
   "source": [
    "rdd = sc.textFile('./data/all_scripts.txt')"
   ]
  },
  {
   "cell_type": "code",
   "execution_count": null,
   "metadata": {},
   "outputs": [],
   "source": [
    "rdd = rdd.filter(lambda x: x.split(': ')[0] in recurrent).map(lambda x: (x.split(': ')[0], ' '.join(x.split(': ')[1:]))).persist()"
   ]
  },
  {
   "cell_type": "code",
   "execution_count": null,
   "metadata": {},
   "outputs": [],
   "source": [
    "rdd = rdd.map(lambda x: (x[0], Counter(x[1].split()).most_common()))\n",
    "rdd.take(2)"
   ]
  },
  {
   "cell_type": "code",
   "execution_count": null,
   "metadata": {},
   "outputs": [],
   "source": [
    "rdd.reduceByKey(lambda x, y: x + y)"
   ]
  },
  {
   "cell_type": "markdown",
   "metadata": {},
   "source": [
    "## Task C: The Gossip Graph (30 points)\n",
    "\n",
    "**Note: Only for this task, discard the recurrent characters whose names are not single words, e.g. Mrs. Cooper.**\n",
    "\n",
    "Let us define _gossip_ as follows: if a dialogue line of character A mentions B by name in a scene that does not involve character B, we say that “A gossips about B” in that line. Multiple mentions of the same person in a single line are counted once, but a character can gossip about several others in the same line. For the sake of simplicity, we only consider gossips where the name of the recurrent character is mentioned as it appears in our list of characters; for example, if someone says \"Cooper\" and they mean Sheldon, we discard that.\n",
    "\n",
    "**Q8**. (12.5 points) Create the two following graphs first:\n",
    "\n",
    "1. (5 points) Create the _familiarity graph_, an undirected weighted graph, in which there is a node for each recurrent character, and an edge between two characters if they appear together in at least one scene. The weight of the edge between them is the number of scenes they appear in together. If an edge exists between two people in the familiarity graph, we say that they \"know each other\".\n",
    "2. (7.5 points) Create the _gossip graph_, which is a directed weighted graph, in which there there is a node for each recurrent character, and a directed edge from the node for A to the node for B if A has gossiped about B at least once. The weight of the edge is the number of scenes in which A has gossiped about B.\n",
    "\n",
    "_Hint: You can create each graph first as an adjacency matrix and then create a networkx graph out of that._"
   ]
  },
  {
   "cell_type": "code",
   "execution_count": 45,
   "metadata": {},
   "outputs": [
    {
     "data": {
      "text/plain": [
       "array(['Sheldon', 'Leonard', 'Penny', 'Howard', 'Raj', 'Leslie', 'Kripke',\n",
       "       'Beverley', 'Stuart', 'Bernadette', 'Wil', 'Zack', 'Amy', 'Priya',\n",
       "       'Arthur', 'Bert', 'Emily'], dtype=object)"
      ]
     },
     "execution_count": 45,
     "metadata": {},
     "output_type": "execute_result"
    }
   ],
   "source": [
    "df_C = df.copy()\n",
    "df_C = df_C[df_C['Character'].str.split().str.len() == 1]\n",
    "rec_chars = df_C['Character'].unique()\n",
    "rec_chars"
   ]
  },
  {
   "cell_type": "code",
   "execution_count": 46,
   "metadata": {},
   "outputs": [],
   "source": [
    "import networkx as nx\n",
    "\n",
    "nb_char = len(rec_chars)\n",
    "dict_char = dict(zip(rec_chars, range(nb_char)))\n",
    "adj_matrix_familiarity = np.zeros((nb_char, nb_char), dtype=int)\n",
    "for char_set in df_C.groupby('Scene').Character.apply(set):\n",
    "    if len(char_set) == 1: pass;\n",
    "    for char_1 in char_set:\n",
    "        for char_2 in char_set:\n",
    "            if char_1 != char_2:\n",
    "                adj_matrix_familiarity[dict_char[char_1], dict_char[char_2]] += 1"
   ]
  },
  {
   "cell_type": "code",
   "execution_count": 47,
   "metadata": {},
   "outputs": [
    {
     "data": {
      "image/png": "[encoded data removed]",
      "text/plain": [
       "<Figure size 432x288 with 1 Axes>"
      ]
     },
     "metadata": {},
     "output_type": "display_data"
    }
   ],
   "source": [
    "fam_graph = nx.Graph(adj_matrix_familiarity)\n",
    "fam_graph = nx.relabel_nodes(fam_graph, dict(enumerate(rec_chars)))\n",
    "nx.draw_spring(fam_graph, with_labels=True,  alpha = 0.8)"
   ]
  },
  {
   "cell_type": "code",
   "execution_count": 26,
   "metadata": {},
   "outputs": [
    {
     "data": {
      "text/html": [
       "<div>\n",
       "<style scoped>\n",
       "    .dataframe tbody tr th:only-of-type {\n",
       "        vertical-align: middle;\n",
       "    }\n",
       "\n",
       "    .dataframe tbody tr th {\n",
       "        vertical-align: top;\n",
       "    }\n",
       "\n",
       "    .dataframe thead th {\n",
       "        text-align: right;\n",
       "    }\n",
       "</style>\n",
       "<table border=\"1\" class=\"dataframe\">\n",
       "  <thead>\n",
       "    <tr style=\"text-align: right;\">\n",
       "      <th></th>\n",
       "      <th>Source</th>\n",
       "      <th>Target</th>\n",
       "      <th>Nb. scenes</th>\n",
       "    </tr>\n",
       "  </thead>\n",
       "  <tbody>\n",
       "    <tr>\n",
       "      <th>0</th>\n",
       "      <td>Sheldon</td>\n",
       "      <td>Leonard</td>\n",
       "      <td>0.0</td>\n",
       "    </tr>\n",
       "    <tr>\n",
       "      <th>1</th>\n",
       "      <td>Sheldon</td>\n",
       "      <td>Penny</td>\n",
       "      <td>0.0</td>\n",
       "    </tr>\n",
       "    <tr>\n",
       "      <th>2</th>\n",
       "      <td>Sheldon</td>\n",
       "      <td>Howard</td>\n",
       "      <td>0.0</td>\n",
       "    </tr>\n",
       "    <tr>\n",
       "      <th>3</th>\n",
       "      <td>Sheldon</td>\n",
       "      <td>Raj</td>\n",
       "      <td>0.0</td>\n",
       "    </tr>\n",
       "    <tr>\n",
       "      <th>4</th>\n",
       "      <td>Sheldon</td>\n",
       "      <td>Leslie</td>\n",
       "      <td>0.0</td>\n",
       "    </tr>\n",
       "    <tr>\n",
       "      <th>...</th>\n",
       "      <td>...</td>\n",
       "      <td>...</td>\n",
       "      <td>...</td>\n",
       "    </tr>\n",
       "    <tr>\n",
       "      <th>267</th>\n",
       "      <td>Emily</td>\n",
       "      <td>Zack</td>\n",
       "      <td>0.0</td>\n",
       "    </tr>\n",
       "    <tr>\n",
       "      <th>268</th>\n",
       "      <td>Emily</td>\n",
       "      <td>Amy</td>\n",
       "      <td>0.0</td>\n",
       "    </tr>\n",
       "    <tr>\n",
       "      <th>269</th>\n",
       "      <td>Emily</td>\n",
       "      <td>Priya</td>\n",
       "      <td>0.0</td>\n",
       "    </tr>\n",
       "    <tr>\n",
       "      <th>270</th>\n",
       "      <td>Emily</td>\n",
       "      <td>Arthur</td>\n",
       "      <td>0.0</td>\n",
       "    </tr>\n",
       "    <tr>\n",
       "      <th>271</th>\n",
       "      <td>Emily</td>\n",
       "      <td>Bert</td>\n",
       "      <td>0.0</td>\n",
       "    </tr>\n",
       "  </tbody>\n",
       "</table>\n",
       "<p>272 rows × 3 columns</p>\n",
       "</div>"
      ],
      "text/plain": [
       "      Source   Target  Nb. scenes\n",
       "0    Sheldon  Leonard         0.0\n",
       "1    Sheldon    Penny         0.0\n",
       "2    Sheldon   Howard         0.0\n",
       "3    Sheldon      Raj         0.0\n",
       "4    Sheldon   Leslie         0.0\n",
       "..       ...      ...         ...\n",
       "267    Emily     Zack         0.0\n",
       "268    Emily      Amy         0.0\n",
       "269    Emily    Priya         0.0\n",
       "270    Emily   Arthur         0.0\n",
       "271    Emily     Bert         0.0\n",
       "\n",
       "[272 rows x 3 columns]"
      ]
     },
     "execution_count": 26,
     "metadata": {},
     "output_type": "execute_result"
    }
   ],
   "source": [
    "df_gos = pd.DataFrame()\n",
    "count = 0\n",
    "for c1 in rec_chars:\n",
    "    for c2 in rec_chars:\n",
    "        if c1 != c2:\n",
    "            df_gos.at[count, 'Source'] = c1\n",
    "            df_gos.at[count, 'Target'] = c2\n",
    "            df_gos.at[count, 'Nb. scenes'] = 0\n",
    "            count += 1\n",
    "            \n",
    "df_gos"
   ]
  },
  {
   "cell_type": "code",
   "execution_count": 27,
   "metadata": {},
   "outputs": [],
   "source": [
    "def gossip_set(x):\n",
    "    gossip = set()\n",
    "    for c in rec_chars:\n",
    "        if c.lower() in x:\n",
    "            gossip.add(c)\n",
    "    return gossip"
   ]
  },
  {
   "cell_type": "code",
   "execution_count": 28,
   "metadata": {},
   "outputs": [
    {
     "data": {
      "text/html": [
       "<div>\n",
       "<style scoped>\n",
       "    .dataframe tbody tr th:only-of-type {\n",
       "        vertical-align: middle;\n",
       "    }\n",
       "\n",
       "    .dataframe tbody tr th {\n",
       "        vertical-align: top;\n",
       "    }\n",
       "\n",
       "    .dataframe thead th {\n",
       "        text-align: right;\n",
       "    }\n",
       "</style>\n",
       "<table border=\"1\" class=\"dataframe\">\n",
       "  <thead>\n",
       "    <tr style=\"text-align: right;\">\n",
       "      <th></th>\n",
       "      <th>Episode</th>\n",
       "      <th>Season</th>\n",
       "      <th>Scene</th>\n",
       "      <th>Character</th>\n",
       "      <th>Line</th>\n",
       "      <th>Gossip</th>\n",
       "    </tr>\n",
       "  </thead>\n",
       "  <tbody>\n",
       "    <tr>\n",
       "      <th>2</th>\n",
       "      <td>Series 01 Episode 01 – Pilot Episode</td>\n",
       "      <td>01</td>\n",
       "      <td>A corridor at a sperm bank.</td>\n",
       "      <td>Sheldon</td>\n",
       "      <td>so if a photon is directed through a plane wit...</td>\n",
       "      <td>{Wil}</td>\n",
       "    </tr>\n",
       "    <tr>\n",
       "      <th>3</th>\n",
       "      <td>Series 01 Episode 01 – Pilot Episode</td>\n",
       "      <td>01</td>\n",
       "      <td>A corridor at a sperm bank.</td>\n",
       "      <td>Leonard</td>\n",
       "      <td>agreed  what s your point</td>\n",
       "      <td>{}</td>\n",
       "    </tr>\n",
       "    <tr>\n",
       "      <th>4</th>\n",
       "      <td>Series 01 Episode 01 – Pilot Episode</td>\n",
       "      <td>01</td>\n",
       "      <td>A corridor at a sperm bank.</td>\n",
       "      <td>Sheldon</td>\n",
       "      <td>there s no point  i just think it s a good ide...</td>\n",
       "      <td>{}</td>\n",
       "    </tr>\n",
       "    <tr>\n",
       "      <th>5</th>\n",
       "      <td>Series 01 Episode 01 – Pilot Episode</td>\n",
       "      <td>01</td>\n",
       "      <td>A corridor at a sperm bank.</td>\n",
       "      <td>Leonard</td>\n",
       "      <td>excuse me</td>\n",
       "      <td>{}</td>\n",
       "    </tr>\n",
       "    <tr>\n",
       "      <th>7</th>\n",
       "      <td>Series 01 Episode 01 – Pilot Episode</td>\n",
       "      <td>01</td>\n",
       "      <td>A corridor at a sperm bank.</td>\n",
       "      <td>Leonard</td>\n",
       "      <td>one across is aegean  eight down is nabakov  t...</td>\n",
       "      <td>{}</td>\n",
       "    </tr>\n",
       "    <tr>\n",
       "      <th>...</th>\n",
       "      <td>...</td>\n",
       "      <td>...</td>\n",
       "      <td>...</td>\n",
       "      <td>...</td>\n",
       "      <td>...</td>\n",
       "      <td>...</td>\n",
       "    </tr>\n",
       "    <tr>\n",
       "      <th>54320</th>\n",
       "      <td>Series 10 Episode 24 – The Long Distance Disso...</td>\n",
       "      <td>10</td>\n",
       "      <td>Sheldon’s office.</td>\n",
       "      <td>Sheldon</td>\n",
       "      <td>uh  breakfast yes  lunch no  i did have a coug...</td>\n",
       "      <td>{}</td>\n",
       "    </tr>\n",
       "    <tr>\n",
       "      <th>54322</th>\n",
       "      <td>Series 10 Episode 24 – The Long Distance Disso...</td>\n",
       "      <td>10</td>\n",
       "      <td>Sheldon’s office.</td>\n",
       "      <td>Sheldon</td>\n",
       "      <td>how thoughtful  thank you</td>\n",
       "      <td>{}</td>\n",
       "    </tr>\n",
       "    <tr>\n",
       "      <th>54324</th>\n",
       "      <td>Series 10 Episode 24 – The Long Distance Disso...</td>\n",
       "      <td>10</td>\n",
       "      <td>Sheldon’s office.</td>\n",
       "      <td>Sheldon</td>\n",
       "      <td>and i with you  question  are you seeking a ro...</td>\n",
       "      <td>{}</td>\n",
       "    </tr>\n",
       "    <tr>\n",
       "      <th>54326</th>\n",
       "      <td>Series 10 Episode 24 – The Long Distance Disso...</td>\n",
       "      <td>10</td>\n",
       "      <td>Sheldon’s office.</td>\n",
       "      <td>Sheldon</td>\n",
       "      <td>well  that would raise a number of problems  w...</td>\n",
       "      <td>{}</td>\n",
       "    </tr>\n",
       "    <tr>\n",
       "      <th>54328</th>\n",
       "      <td>Series 10 Episode 24 – The Long Distance Disso...</td>\n",
       "      <td>10</td>\n",
       "      <td>Princeton.</td>\n",
       "      <td>Sheldon</td>\n",
       "      <td>knock  knock  knock  amy   knock  knock  knoc...</td>\n",
       "      <td>{Wil, Amy}</td>\n",
       "    </tr>\n",
       "  </tbody>\n",
       "</table>\n",
       "<p>47997 rows × 6 columns</p>\n",
       "</div>"
      ],
      "text/plain": [
       "                                                 Episode Season  \\\n",
       "2                   Series 01 Episode 01 – Pilot Episode     01   \n",
       "3                   Series 01 Episode 01 – Pilot Episode     01   \n",
       "4                   Series 01 Episode 01 – Pilot Episode     01   \n",
       "5                   Series 01 Episode 01 – Pilot Episode     01   \n",
       "7                   Series 01 Episode 01 – Pilot Episode     01   \n",
       "...                                                  ...    ...   \n",
       "54320  Series 10 Episode 24 – The Long Distance Disso...     10   \n",
       "54322  Series 10 Episode 24 – The Long Distance Disso...     10   \n",
       "54324  Series 10 Episode 24 – The Long Distance Disso...     10   \n",
       "54326  Series 10 Episode 24 – The Long Distance Disso...     10   \n",
       "54328  Series 10 Episode 24 – The Long Distance Disso...     10   \n",
       "\n",
       "                             Scene Character  \\\n",
       "2      A corridor at a sperm bank.   Sheldon   \n",
       "3      A corridor at a sperm bank.   Leonard   \n",
       "4      A corridor at a sperm bank.   Sheldon   \n",
       "5      A corridor at a sperm bank.   Leonard   \n",
       "7      A corridor at a sperm bank.   Leonard   \n",
       "...                            ...       ...   \n",
       "54320            Sheldon’s office.   Sheldon   \n",
       "54322            Sheldon’s office.   Sheldon   \n",
       "54324            Sheldon’s office.   Sheldon   \n",
       "54326            Sheldon’s office.   Sheldon   \n",
       "54328                   Princeton.   Sheldon   \n",
       "\n",
       "                                                    Line      Gossip  \n",
       "2      so if a photon is directed through a plane wit...       {Wil}  \n",
       "3                             agreed  what s your point           {}  \n",
       "4      there s no point  i just think it s a good ide...          {}  \n",
       "5                                             excuse me           {}  \n",
       "7      one across is aegean  eight down is nabakov  t...          {}  \n",
       "...                                                  ...         ...  \n",
       "54320  uh  breakfast yes  lunch no  i did have a coug...          {}  \n",
       "54322                         how thoughtful  thank you           {}  \n",
       "54324  and i with you  question  are you seeking a ro...          {}  \n",
       "54326  well  that would raise a number of problems  w...          {}  \n",
       "54328   knock  knock  knock  amy   knock  knock  knoc...  {Wil, Amy}  \n",
       "\n",
       "[47997 rows x 6 columns]"
      ]
     },
     "execution_count": 28,
     "metadata": {},
     "output_type": "execute_result"
    }
   ],
   "source": [
    "df_C_g = df_C.copy()\n",
    "df_C_g['Gossip'] = df_C_g.Line.apply(gossip_set)\n",
    "df_C_g"
   ]
  },
  {
   "cell_type": "code",
   "execution_count": 29,
   "metadata": {},
   "outputs": [
    {
     "data": {
      "text/html": [
       "<div>\n",
       "<style scoped>\n",
       "    .dataframe tbody tr th:only-of-type {\n",
       "        vertical-align: middle;\n",
       "    }\n",
       "\n",
       "    .dataframe tbody tr th {\n",
       "        vertical-align: top;\n",
       "    }\n",
       "\n",
       "    .dataframe thead th {\n",
       "        text-align: right;\n",
       "    }\n",
       "</style>\n",
       "<table border=\"1\" class=\"dataframe\">\n",
       "  <thead>\n",
       "    <tr style=\"text-align: right;\">\n",
       "      <th></th>\n",
       "      <th>Source</th>\n",
       "      <th>Target</th>\n",
       "      <th>Nb. scenes</th>\n",
       "    </tr>\n",
       "  </thead>\n",
       "  <tbody>\n",
       "    <tr>\n",
       "      <th>0</th>\n",
       "      <td>Sheldon</td>\n",
       "      <td>Leonard</td>\n",
       "      <td>534.0</td>\n",
       "    </tr>\n",
       "    <tr>\n",
       "      <th>1</th>\n",
       "      <td>Sheldon</td>\n",
       "      <td>Penny</td>\n",
       "      <td>444.0</td>\n",
       "    </tr>\n",
       "    <tr>\n",
       "      <th>2</th>\n",
       "      <td>Sheldon</td>\n",
       "      <td>Howard</td>\n",
       "      <td>333.0</td>\n",
       "    </tr>\n",
       "    <tr>\n",
       "      <th>3</th>\n",
       "      <td>Sheldon</td>\n",
       "      <td>Raj</td>\n",
       "      <td>267.0</td>\n",
       "    </tr>\n",
       "    <tr>\n",
       "      <th>4</th>\n",
       "      <td>Sheldon</td>\n",
       "      <td>Leslie</td>\n",
       "      <td>25.0</td>\n",
       "    </tr>\n",
       "    <tr>\n",
       "      <th>...</th>\n",
       "      <td>...</td>\n",
       "      <td>...</td>\n",
       "      <td>...</td>\n",
       "    </tr>\n",
       "    <tr>\n",
       "      <th>267</th>\n",
       "      <td>Emily</td>\n",
       "      <td>Zack</td>\n",
       "      <td>33.0</td>\n",
       "    </tr>\n",
       "    <tr>\n",
       "      <th>268</th>\n",
       "      <td>Emily</td>\n",
       "      <td>Amy</td>\n",
       "      <td>207.0</td>\n",
       "    </tr>\n",
       "    <tr>\n",
       "      <th>269</th>\n",
       "      <td>Emily</td>\n",
       "      <td>Priya</td>\n",
       "      <td>52.0</td>\n",
       "    </tr>\n",
       "    <tr>\n",
       "      <th>270</th>\n",
       "      <td>Emily</td>\n",
       "      <td>Arthur</td>\n",
       "      <td>21.0</td>\n",
       "    </tr>\n",
       "    <tr>\n",
       "      <th>271</th>\n",
       "      <td>Emily</td>\n",
       "      <td>Bert</td>\n",
       "      <td>55.0</td>\n",
       "    </tr>\n",
       "  </tbody>\n",
       "</table>\n",
       "<p>272 rows × 3 columns</p>\n",
       "</div>"
      ],
      "text/plain": [
       "      Source   Target  Nb. scenes\n",
       "0    Sheldon  Leonard       534.0\n",
       "1    Sheldon    Penny       444.0\n",
       "2    Sheldon   Howard       333.0\n",
       "3    Sheldon      Raj       267.0\n",
       "4    Sheldon   Leslie        25.0\n",
       "..       ...      ...         ...\n",
       "267    Emily     Zack        33.0\n",
       "268    Emily      Amy       207.0\n",
       "269    Emily    Priya        52.0\n",
       "270    Emily   Arthur        21.0\n",
       "271    Emily     Bert        55.0\n",
       "\n",
       "[272 rows x 3 columns]"
      ]
     },
     "execution_count": 29,
     "metadata": {},
     "output_type": "execute_result"
    }
   ],
   "source": [
    "for _, row in df_C_g.groupby(['Scene', 'Character'])['Gossip'].apply(lambda x: set().union(*x)).reset_index(level='Character').iterrows():\n",
    "    for c in row['Gossip']:\n",
    "        if c != row['Character']:\n",
    "            df_gos.loc[df_gos['Target'] == c, 'Nb. scenes'] += 1\n",
    "\n",
    "df_gos"
   ]
  },
  {
   "cell_type": "code",
   "execution_count": 30,
   "metadata": {},
   "outputs": [
    {
     "data": {
      "text/html": [
       "<div>\n",
       "<style scoped>\n",
       "    .dataframe tbody tr th:only-of-type {\n",
       "        vertical-align: middle;\n",
       "    }\n",
       "\n",
       "    .dataframe tbody tr th {\n",
       "        vertical-align: top;\n",
       "    }\n",
       "\n",
       "    .dataframe thead th {\n",
       "        text-align: right;\n",
       "    }\n",
       "</style>\n",
       "<table border=\"1\" class=\"dataframe\">\n",
       "  <thead>\n",
       "    <tr style=\"text-align: right;\">\n",
       "      <th></th>\n",
       "      <th>Source</th>\n",
       "      <th>Target</th>\n",
       "      <th>Nb. scenes</th>\n",
       "    </tr>\n",
       "  </thead>\n",
       "  <tbody>\n",
       "    <tr>\n",
       "      <th>0</th>\n",
       "      <td>Sheldon</td>\n",
       "      <td>Leonard</td>\n",
       "      <td>534</td>\n",
       "    </tr>\n",
       "    <tr>\n",
       "      <th>1</th>\n",
       "      <td>Sheldon</td>\n",
       "      <td>Penny</td>\n",
       "      <td>444</td>\n",
       "    </tr>\n",
       "    <tr>\n",
       "      <th>2</th>\n",
       "      <td>Sheldon</td>\n",
       "      <td>Howard</td>\n",
       "      <td>333</td>\n",
       "    </tr>\n",
       "    <tr>\n",
       "      <th>3</th>\n",
       "      <td>Sheldon</td>\n",
       "      <td>Raj</td>\n",
       "      <td>267</td>\n",
       "    </tr>\n",
       "    <tr>\n",
       "      <th>4</th>\n",
       "      <td>Sheldon</td>\n",
       "      <td>Leslie</td>\n",
       "      <td>25</td>\n",
       "    </tr>\n",
       "    <tr>\n",
       "      <th>...</th>\n",
       "      <td>...</td>\n",
       "      <td>...</td>\n",
       "      <td>...</td>\n",
       "    </tr>\n",
       "    <tr>\n",
       "      <th>267</th>\n",
       "      <td>Emily</td>\n",
       "      <td>Zack</td>\n",
       "      <td>33</td>\n",
       "    </tr>\n",
       "    <tr>\n",
       "      <th>268</th>\n",
       "      <td>Emily</td>\n",
       "      <td>Amy</td>\n",
       "      <td>207</td>\n",
       "    </tr>\n",
       "    <tr>\n",
       "      <th>269</th>\n",
       "      <td>Emily</td>\n",
       "      <td>Priya</td>\n",
       "      <td>52</td>\n",
       "    </tr>\n",
       "    <tr>\n",
       "      <th>270</th>\n",
       "      <td>Emily</td>\n",
       "      <td>Arthur</td>\n",
       "      <td>21</td>\n",
       "    </tr>\n",
       "    <tr>\n",
       "      <th>271</th>\n",
       "      <td>Emily</td>\n",
       "      <td>Bert</td>\n",
       "      <td>55</td>\n",
       "    </tr>\n",
       "  </tbody>\n",
       "</table>\n",
       "<p>272 rows × 3 columns</p>\n",
       "</div>"
      ],
      "text/plain": [
       "      Source   Target  Nb. scenes\n",
       "0    Sheldon  Leonard         534\n",
       "1    Sheldon    Penny         444\n",
       "2    Sheldon   Howard         333\n",
       "3    Sheldon      Raj         267\n",
       "4    Sheldon   Leslie          25\n",
       "..       ...      ...         ...\n",
       "267    Emily     Zack          33\n",
       "268    Emily      Amy         207\n",
       "269    Emily    Priya          52\n",
       "270    Emily   Arthur          21\n",
       "271    Emily     Bert          55\n",
       "\n",
       "[272 rows x 3 columns]"
      ]
     },
     "execution_count": 30,
     "metadata": {},
     "output_type": "execute_result"
    }
   ],
   "source": [
    "df_gos = df_gos[df_gos['Nb. scenes'] != 0]\n",
    "df_gos['Nb. scenes'] = df_gos['Nb. scenes'].astype(int)\n",
    "df_gos"
   ]
  },
  {
   "cell_type": "code",
   "execution_count": 31,
   "metadata": {},
   "outputs": [],
   "source": [
    "gos_graph = nx.from_pandas_edgelist(df_gos, 'Source', 'Target', edge_attr='Nb. scenes', create_using=nx.DiGraph)"
   ]
  },
  {
   "cell_type": "markdown",
   "metadata": {},
   "source": [
    "Now, answer the following questions:\n",
    "\n",
    "**Q9**. (5 points) Sheldon claims that every character in the show is familiar with everyone else through at most one intermediary. Based on the familiarity graph, is this true? If not, at most how many intermediaries are needed?"
   ]
  },
  {
   "cell_type": "markdown",
   "metadata": {},
   "source": [
    "To answer that means to find the longest shortest past between all characters, if this is <= 2, then Sheldon is True as there's at most 1 intermediary node between the 2 characters."
   ]
  },
  {
   "cell_type": "code",
   "execution_count": 48,
   "metadata": {},
   "outputs": [
    {
     "data": {
      "text/plain": [
       "1"
      ]
     },
     "execution_count": 48,
     "metadata": {},
     "output_type": "execute_result"
    }
   ],
   "source": [
    "max_len = 0\n",
    "for _, paths in nx.shortest_path_length(fam_graph):\n",
    "    for leng in paths.values():\n",
    "        max_len = max(max_len, leng)\n",
    "\n",
    "max_len"
   ]
  },
  {
   "cell_type": "markdown",
   "metadata": {},
   "source": [
    "Sheldon is right."
   ]
  },
  {
   "cell_type": "markdown",
   "metadata": {},
   "source": [
    "**Q10**. (5 points) Who is the character through whom the largest number of these indirect familiarities happen? Calculate an appropriate centrality metric on the familiarity graph to answer this question. You can use the package networkx for this section."
   ]
  },
  {
   "cell_type": "code",
   "execution_count": 50,
   "metadata": {},
   "outputs": [
    {
     "data": {
      "text/plain": [
       "{'Sheldon': 0.14861511827039892,\n",
       " 'Leonard': 0.14408354462233952,\n",
       " 'Penny': 0.1136481628638292,\n",
       " 'Howard': 0.1248760715403478,\n",
       " 'Raj': 0.11511291406605557,\n",
       " 'Leslie': 0.016261190730511254,\n",
       " 'Kripke': 0.018330525621001313,\n",
       " 'Beverley': 0.019106215937125106,\n",
       " 'Stuart': 0.03978447427256619,\n",
       " 'Bernadette': 0.06944021956151414,\n",
       " 'Wil': 0.021247428675598434,\n",
       " 'Zack': 0.020727104934781103,\n",
       " 'Amy': 0.07367827175806602,\n",
       " 'Priya': 0.023200781014241983,\n",
       " 'Arthur': 0.012510790186446977,\n",
       " 'Bert': 0.017124611222141713,\n",
       " 'Emily': 0.02225257472303473}"
      ]
     },
     "execution_count": 50,
     "metadata": {},
     "output_type": "execute_result"
    }
   ],
   "source": [
    "pagerank = nx.pagerank(fam_graph)\n",
    "pagerank"
   ]
  },
  {
   "cell_type": "markdown",
   "metadata": {},
   "source": [
    "The character is Sheldon."
   ]
  },
  {
   "cell_type": "markdown",
   "metadata": {},
   "source": [
    "**Q11**. (2.5 points) Another claim of Sheldon's is that every recurrent character in the show gossips about all the other recurrent characters. What property of the gossip graph would correspond to this? Does the gossip graph possess that property? If not, then is it the case that for every pair of recurrent characters, at least one gossips about the other? What property would this correspond to?"
   ]
  },
  {
   "cell_type": "code",
   "execution_count": 51,
   "metadata": {},
   "outputs": [
    {
     "data": {
      "text/plain": [
       "1.0"
      ]
     },
     "execution_count": 51,
     "metadata": {},
     "output_type": "execute_result"
    }
   ],
   "source": [
    "nx.transitivity(gos_graph)"
   ]
  },
  {
   "cell_type": "markdown",
   "metadata": {},
   "source": [
    "**Q12**. (5 points) Use the gossip graph and the familiarity graph to figure out if for every pair of recurrent characters, one of them has gossiped about the other if and only if they know each other. Explain your method - the simpler, the better."
   ]
  },
  {
   "cell_type": "code",
   "execution_count": 53,
   "metadata": {},
   "outputs": [
    {
     "data": {
      "text/plain": [
       "(True, True)"
      ]
     },
     "execution_count": 53,
     "metadata": {},
     "output_type": "execute_result"
    }
   ],
   "source": [
    "def know_imply_gossip(familirity, gossip):\n",
    "    for a, b in familirity.edges:\n",
    "        if (a, b) not in gossip.edges and (b, a) not in gossip.edges:\n",
    "            print((a, b), 'isnt in gossip edges')\n",
    "            return False\n",
    "    return True\n",
    "\n",
    "def gossip_imply_know(familirity, gossip):\n",
    "    for e in gossip.edges:\n",
    "        if e not in familirity.edges:\n",
    "            print(e, 'isnt in familirity edges')\n",
    "            return False\n",
    "    return True\n",
    "\n",
    "know_imply_gossip(fam_graph, gos_graph), gossip_imply_know(fam_graph, gos_graph)"
   ]
  },
  {
   "cell_type": "markdown",
   "metadata": {},
   "source": [
    "## Task D: The Detective's Hat (30 points)\n",
    "\n",
    "Sheldon claims that given a dialogue line, he can, with an accuracy of above 70%, say whether it's by himself or by someone else. Leonard contests this claim, since he believes that this claimed accuracy is too high. Leonard also suspects that it's easier for Sheldon to distinguish the lines that _aren't_ his, rather than those that _are_. We want you to put on the (proverbial) detective's hat and to investigate this claim.\n",
    "\n",
    "**Q13**. (7.5 points) Divide the set of all dialogue lines into two subsets: the training set, consisting of all the seasons except the last two, and the test set, consisting of the last two seasons. Each of your data points (which is one row of your matrix) is one **dialogue line**. Now, use the scikit-learn class **TfIdfVectorizer** to create TF-IDF representations for the data points in your training and test sets. Note that since you're going to train a machine learning model, everything used in the training needs to be independent of the test set. As a preprocessing step, remove stopwords and words that appear only once from your vocabulary. Use the simple tokenizer provided in `helpers/helper_functions.py` as an input to the TfidfVectorizer class, and use the words provided in `helpers/stopwords.txt` as your stopwords."
   ]
  },
  {
   "cell_type": "code",
   "execution_count": 144,
   "metadata": {},
   "outputs": [],
   "source": [
    "df['Season'] = df['Season'].astype(int)\n",
    "df_train = df[df['Season'] <= 8].copy()\n",
    "df_test = df[df['Season'] > 8].copy()"
   ]
  },
  {
   "cell_type": "code",
   "execution_count": 145,
   "metadata": {},
   "outputs": [],
   "source": [
    "with open('helpers/stopwords.txt', 'r', encoding='utf-8') as f:\n",
    "    STOPWORDS = [w.strip() for w in f.readlines()]"
   ]
  },
  {
   "cell_type": "code",
   "execution_count": 146,
   "metadata": {},
   "outputs": [],
   "source": [
    "from sklearn.feature_extraction.text import TfidfVectorizer\n",
    "\n",
    "vectorizer = TfidfVectorizer(tokenizer=simple_tokeniser, stop_words=STOPWORDS, min_df=2)\n",
    "\n",
    "X_train = vectorizer.fit_transform(df_train.Line)\n",
    "X_test = vectorizer.transform(df_test.Line)"
   ]
  },
  {
   "cell_type": "markdown",
   "metadata": {},
   "source": [
    "**Q14**. (5 points) Find the set of all words in the training set that are only uttered by Sheldon. Is it possible for Sheldon to identify himself only based on these? Use the test set to assess this possibility, and explain your method."
   ]
  },
  {
   "cell_type": "code",
   "execution_count": 147,
   "metadata": {},
   "outputs": [
    {
     "data": {
      "text/plain": [
       "5151"
      ]
     },
     "execution_count": 147,
     "metadata": {},
     "output_type": "execute_result"
    }
   ],
   "source": [
    "set_sheldon = set(df_train[df_train['Character'] == 'Sheldon']['Line'].str.split('\\W+').explode())\n",
    "set_others = set(df_train[df_train['Character'] != 'Sheldon']['Line'].str.split('\\W+').explode())\n",
    "\n",
    "set_only_sheldon = set_sheldon - set_others\n",
    "len(set_only_sheldon)"
   ]
  },
  {
   "cell_type": "code",
   "execution_count": 148,
   "metadata": {},
   "outputs": [],
   "source": [
    "def by_sheldon(x):\n",
    "    for token in x.split():\n",
    "        if token in set_only_sheldon:\n",
    "            return True\n",
    "    return False"
   ]
  },
  {
   "cell_type": "code",
   "execution_count": 149,
   "metadata": {},
   "outputs": [],
   "source": [
    "df_test_c = df_test.copy()\n",
    "df_test_c['Is Sheldon'] = df_test_c['Line'].apply(by_sheldon)"
   ]
  },
  {
   "cell_type": "code",
   "execution_count": 150,
   "metadata": {},
   "outputs": [
    {
     "data": {
      "text/plain": [
       "77.01838922214573"
      ]
     },
     "execution_count": 150,
     "metadata": {},
     "output_type": "execute_result"
    }
   ],
   "source": [
    "acc = (df_test_c['Is Sheldon'] == (df_test_c.Character == 'Sheldon')).mean()*100\n",
    "acc"
   ]
  },
  {
   "cell_type": "markdown",
   "metadata": {},
   "source": [
    "**Q15**. (17.5 points) Now, perform singular value decomposition (SVD) on the training TF-IDF matrix, and calculate a **25-dimensional approximation** for both the training and test TF-IDF matrices (you can do this using scikit-learn's **TruncatedSVD** class). Then, train a logistic regression classifier with 10-fold cross-validation (using the scikit-learn **LogisticRegressionCV** class) on the output of the SVD that given a dialogue line, tells you whether it's by Sheldon or by someone else.\n",
    "\n",
    "&nbsp;&nbsp;&nbsp;&nbsp;&nbsp;&nbsp;**i)** (7.5 points) Report precision, recall and F1-score for both classes (Sheldon and not-Sheldon), as well as accuracy, of your classifier on the training set and the test set. You need to implement the calculation of the evaluation measures (precision, etc.) yourself -- using the scikit-learn functions for them is not allowed.\n",
    "\n",
    "&nbsp;&nbsp;&nbsp;&nbsp;&nbsp;&nbsp;**ii)** (5 points) What difference do you observe between the model's scores on the training and test sets? What could you infer from the amount of difference you see? What about the difference between scores on the two classes? Given the performance of your classifier, is Leonard right that the accuracy Sheldon claims is unattainable? What about his suspicions about the lines that Sheldon can and cannot distinguish?\n",
    "    \n",
    "&nbsp;&nbsp;&nbsp;&nbsp;&nbsp;&nbsp;**iii)** (2.5 points) List 10 of the most extreme false positives and 10 of the most extreme false negatives, in terms of the probabilities predicted by the logistic regression model. What are common features of false positives? What about the false negatives?\n",
    "    \n",
    "&nbsp;&nbsp;&nbsp;&nbsp;&nbsp;&nbsp;**iv)** (2.5 points) What is the most important feature in the model? What are the 5 most important words in this feature? _Hint: Think of the definition of an SVD, and that you did an SVD on the TF-IDF matrix with dialogue lines as rows and words as columns. You have projected the original data points onto a 25-dimensional subspace -- you need to look at the unit vectors you used for the projection._"
   ]
  },
  {
   "cell_type": "code",
   "execution_count": 151,
   "metadata": {},
   "outputs": [],
   "source": [
    "from sklearn.decomposition import TruncatedSVD\n",
    "\n",
    "svd = TruncatedSVD(n_components=25)\n",
    "\n",
    "X_train = svd.fit_transform(X_train)\n",
    "X_test = svd.transform(X_test)\n",
    "\n",
    "y_train = df_train.Character == 'Sheldon'\n",
    "y_test = df_test.Character == 'Sheldon'"
   ]
  },
  {
   "cell_type": "code",
   "execution_count": 152,
   "metadata": {},
   "outputs": [
    {
     "data": {
      "text/plain": [
       "LogisticRegressionCV(Cs=10, class_weight=None, cv=10, dual=False,\n",
       "                     fit_intercept=True, intercept_scaling=1.0, l1_ratios=None,\n",
       "                     max_iter=100, multi_class='auto', n_jobs=None,\n",
       "                     penalty='l2', random_state=None, refit=True, scoring=None,\n",
       "                     solver='lbfgs', tol=0.0001, verbose=0)"
      ]
     },
     "execution_count": 152,
     "metadata": {},
     "output_type": "execute_result"
    }
   ],
   "source": [
    "from sklearn.linear_model import LogisticRegressionCV\n",
    "\n",
    "lr = LogisticRegressionCV(cv=10)\n",
    "lr.fit(X_train, y_train)"
   ]
  },
  {
   "cell_type": "code",
   "execution_count": 153,
   "metadata": {},
   "outputs": [],
   "source": [
    "def accuracy(pred, target):\n",
    "    return (pred == target).mean()\n",
    "\n",
    "def precision(pred, target, label):\n",
    "    ''' Compute either tp / (tp + fp) (label=True) or tn / (tn + fn) (label=False)'''\n",
    "    true_pred_label = ((pred == label) & (target == label)).sum()\n",
    "    pred_label = (pred == label).sum()\n",
    "    return true_pred_label / pred_label\n",
    "    \n",
    "def recall(pred, target, label):\n",
    "    ''' Compute either tp / (tp + fp) (label=True) or tn / (tn + fn) (label=False)'''\n",
    "    true_pred_label = ((pred == label) & (target == label)).sum()\n",
    "    pred_label = (target == label).sum()\n",
    "    return true_pred_label / pred_label\n",
    "\n",
    "def f1_score(precision, recall):\n",
    "    return (2 * precision * recall) / (precision + recall)"
   ]
  },
  {
   "cell_type": "code",
   "execution_count": 154,
   "metadata": {},
   "outputs": [],
   "source": [
    "pred_train = lr.predict(X_train)\n",
    "pred_test = lr.predict(X_test)"
   ]
  },
  {
   "cell_type": "code",
   "execution_count": 160,
   "metadata": {},
   "outputs": [],
   "source": [
    "def print_measures(label):\n",
    "    print(f'Sheldon: {label}')\n",
    "    \n",
    "    prec_train = precision(pred_train, y_train, label)\n",
    "    print(f'Precision train: {prec_train}')\n",
    "    \n",
    "    rec_train = recall(pred_train, y_train, label)\n",
    "    print(f'Recall train: {rec_train}')\n",
    "    \n",
    "    f1_train = f1_score(prec_train, rec_train)\n",
    "    print(f'F1 score train: {f1_train}')\n",
    "    \n",
    "    prec_test = precision(pred_test, y_test, label)\n",
    "    print(f'Precision test: {prec_test}')\n",
    "    \n",
    "    rec_test = recall(pred_test, y_test, label)\n",
    "    print(f'Recall test: {rec_test}')\n",
    "    \n",
    "    f1_test = f1_score(prec_test, rec_test)\n",
    "    print(f'F1 score test: {f1_test}')"
   ]
  },
  {
   "cell_type": "code",
   "execution_count": 161,
   "metadata": {},
   "outputs": [
    {
     "name": "stdout",
     "output_type": "stream",
     "text": [
      "Sheldon: True\n",
      "Precision train: 0.5362776025236593\n",
      "Recall train: 0.017985611510791366\n",
      "F1 score train: 0.03480397174736411\n",
      "Precision test: 0.4305555555555556\n",
      "Recall test: 0.013857845328565042\n",
      "F1 score test: 0.026851450844521438\n",
      "Sheldon: False\n",
      "Precision train: 0.7548335974643423\n",
      "Recall train: 0.9948825065274152\n",
      "F1 score train: 0.8583915296237892\n",
      "Precision test: 0.7815192631474696\n",
      "Recall test: 0.9948310640443772\n",
      "F1 score test: 0.8753674635309778\n",
      "\n",
      "Accuracy train: 0.7530188333289677\n",
      "Accuracy test: 0.7790343199921329\n"
     ]
    }
   ],
   "source": [
    "print_measures(True)\n",
    "print_measures(False)\n",
    "\n",
    "print()\n",
    "\n",
    "acc_train = accuracy(pred_train, y_train)\n",
    "print(f'Accuracy train: {acc_train}')\n",
    "\n",
    "acc_test = accuracy(pred_test, y_test)\n",
    "print(f'Accuracy test: {acc_test}')"
   ]
  },
  {
   "cell_type": "code",
   "execution_count": 170,
   "metadata": {},
   "outputs": [
    {
     "data": {
      "text/plain": [
       "(10169, 2)"
      ]
     },
     "execution_count": 170,
     "metadata": {},
     "output_type": "execute_result"
    }
   ],
   "source": [
    "probs = lr.predict_proba(X_test)"
   ]
  },
  {
   "cell_type": "code",
   "execution_count": 169,
   "metadata": {},
   "outputs": [],
   "source": [
    "fp_idx = probs[:, 0].argsort()[::-1][pred_test & ~y_test][:10]\n",
    "fn_idx = probs[:, 1].argsort()[::-1][~pred_test & y_test][:10]"
   ]
  },
  {
   "cell_type": "code",
   "execution_count": 178,
   "metadata": {},
   "outputs": [
    {
     "name": "stdout",
     "output_type": "stream",
     "text": [
      "Top 10 worst False positive\n",
      "Text: hi  Proba: [0.95659444 0.04340556]\n",
      "Text: hey  looks like i got stood up  so i m gonna head out  Proba: [0.93760564 0.06239436]\n",
      "Text: i really appreciate it  uh  can you hold on one second  hey  so  howard  what s the bathroom situation gonna be  Proba: [0.92556908 0.07443092]\n",
      "Text: sure  sure  or we could take you to get a bikini wax  Proba: [0.86754131 0.13245869]\n",
      "Text: well  comic con tickets go on sale this friday  and i was hoping i could go with the guys  but before you say anything  i ll make up for being gone by doing everything around here  i mean everything  i m even gonna answer for you  yes  howard  you can go  Proba: [0.85944698 0.14055302]\n",
      "Text: that sounds really nice  Proba: [0.85848036 0.14151964]\n",
      "Text: oh  no  no  come on  i have a friend in you  you said so  Proba: [0.82623101 0.17376899]\n",
      "Text: they complete my ensemble  what do you want  Proba: [0.79498477 0.20501523]\n",
      "Text: well  i ve  you know  seen him without pants on  Proba: [0.78498446 0.21501554]\n",
      "Text: i m sorry  bert  but aren t you worried she s only with you for your money  Proba: [0.77760837 0.22239163]\n"
     ]
    }
   ],
   "source": [
    "print('Top 10 worst False positive')\n",
    "for idx in fp_idx:\n",
    "    print('Text:', df_test.iloc[idx]['Line'], 'Proba:', probs[idx])"
   ]
  },
  {
   "cell_type": "code",
   "execution_count": 180,
   "metadata": {},
   "outputs": [
    {
     "name": "stdout",
     "output_type": "stream",
     "text": [
      "Top 10 worst False negative\n",
      "Text: leonard  Proba: [0.30435409 0.69564591]\n",
      "Text: leonard  Proba: [0.30435409 0.69564591]\n",
      "Text: penny  Proba: [0.37988612 0.62011388]\n",
      "Text: penny  what s up  Proba: [0.37988612 0.62011388]\n",
      "Text: leonard  wait  Proba: [0.47587665 0.52412335]\n",
      "Text: hello  Proba: [0.47950417 0.52049583]\n",
      "Text: hello  Proba: [0.47950417 0.52049583]\n",
      "Text: oh  hello  Proba: [0.47950417 0.52049583]\n",
      "Text: hello  Proba: [0.47950417 0.52049583]\n",
      "Text: hello  Proba: [0.47950417 0.52049583]\n"
     ]
    }
   ],
   "source": [
    "print('Top 10 worst False negative')\n",
    "for idx in fn_idx:\n",
    "    print('Text:', df_test.iloc[idx]['Line'], 'Proba:', probs[idx])"
   ]
  },
  {
   "cell_type": "code",
   "execution_count": 181,
   "metadata": {},
   "outputs": [
    {
     "data": {
      "text/plain": [
       "array([[-5.57276155e+00, -2.70817596e+00, -2.01238151e+00,\n",
       "        -1.03804574e+00,  9.11642685e-01, -8.07089067e-01,\n",
       "         1.11607563e-01, -8.58423753e-01,  5.52692542e-04,\n",
       "         6.97618726e-01, -1.12845684e+00, -5.29315117e-03,\n",
       "        -9.25277632e-01, -8.32749943e-01, -6.43515453e-01,\n",
       "         2.10872605e+00, -8.20050049e-01,  1.17322916e-02,\n",
       "        -3.83998964e-01, -1.37821151e+00, -2.50803661e+00,\n",
       "        -9.97638283e-01, -7.45047355e-01,  6.55406717e-01,\n",
       "         3.56435355e-01]])"
      ]
     },
     "execution_count": 181,
     "metadata": {},
     "output_type": "execute_result"
    }
   ],
   "source": [
    "lr.coef_"
   ]
  },
  {
   "cell_type": "markdown",
   "metadata": {},
   "source": [
    "The first one, which makes sense since we did SVD."
   ]
  },
  {
   "cell_type": "code",
   "execution_count": 182,
   "metadata": {},
   "outputs": [
    {
     "name": "stdout",
     "output_type": "stream",
     "text": [
      "Top 5 words in Feature 0\n",
      "Word rank: 1 Word: sheldon\n",
      "Word rank: 2 Word: hey\n",
      "Word rank: 3 Word: know\n",
      "Word rank: 4 Word: well\n",
      "Word rank: 5 Word: go\n"
     ]
    }
   ],
   "source": [
    "print('Top 5 words in Feature 0')\n",
    "for i, idx in enumerate(svd.components_[0].argsort()[::-1][:5]):\n",
    "    for term, term_idx in vectorizer.vocabulary_.items():\n",
    "        if term_idx == idx:\n",
    "            print('Word rank:', i+1, 'Word:', term)"
   ]
  },
  {
   "cell_type": "code",
   "execution_count": null,
   "metadata": {},
   "outputs": [],
   "source": []
  }
 ],
 "metadata": {
  "kernelspec": {
   "display_name": "Python 3",
   "language": "python",
   "name": "python3"
  },
  "language_info": {
   "codemirror_mode": {
    "name": "ipython",
    "version": 3
   },
   "file_extension": ".py",
   "mimetype": "text/x-python",
   "name": "python",
   "nbconvert_exporter": "python",
   "pygments_lexer": "ipython3",
   "version": "3.7.6"
  }
 },
 "nbformat": 4,
 "nbformat_minor": 2
}
